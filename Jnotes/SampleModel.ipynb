{
 "cells": [
  {
   "cell_type": "markdown",
   "id": "b6932f54",
   "metadata": {},
   "source": [
    "# SUBJECT1"
   ]
  },
  {
   "cell_type": "markdown",
   "id": "fd262c95",
   "metadata": {},
   "source": [
    "1. Import pandas and numpy libraries.\n",
    "2. Read the Esense sensor readings csv file into a pandas Dataframe and converting UNIX time to Local TimeZone\n",
    "3. Upsample Esense data to 100Hz to match with that of Bangle.js Data"
   ]
  },
  {
   "cell_type": "code",
   "execution_count": 1,
   "id": "48149a83",
   "metadata": {},
   "outputs": [
    {
     "output_type": "execute_result",
     "data": {
      "text/plain": [
       "                              Device        E1        E2        E3        E4  \\\n",
       "time                                                                           \n",
       "2021-04-14 18:11:47.373  eSense-0012 -0.461182  0.815430 -0.323242 -3.932927   \n",
       "2021-04-14 18:11:47.383         None -0.461792  0.816138 -0.322681 -3.798780   \n",
       "2021-04-14 18:11:47.393         None -0.462402  0.816846 -0.322119 -3.664634   \n",
       "2021-04-14 18:11:47.403         None -0.463013  0.817554 -0.321558 -3.530488   \n",
       "2021-04-14 18:11:47.413         None -0.463623  0.818262 -0.320996 -3.396341   \n",
       "...                              ...       ...       ...       ...       ...   \n",
       "2021-04-14 18:49:10.753         None -0.382965 -0.145905  0.936707 -1.379573   \n",
       "2021-04-14 18:49:10.763  eSense-0012 -0.383057 -0.145996  0.936279 -1.371951   \n",
       "2021-04-14 18:49:10.773         None -0.383545 -0.145264  0.936157 -1.204268   \n",
       "2021-04-14 18:49:10.783  eSense-0012 -0.384033 -0.144531  0.936035 -1.036585   \n",
       "2021-04-14 18:49:10.793  eSense-0012 -0.383545 -0.141602  0.938721 -0.884146   \n",
       "\n",
       "                               E5        E6    Label  \n",
       "time                                                  \n",
       "2021-04-14 18:11:47.373  1.737805  4.451220    layup  \n",
       "2021-04-14 18:11:47.383  1.475610  4.210366     None  \n",
       "2021-04-14 18:11:47.393  1.213415  3.969512     None  \n",
       "2021-04-14 18:11:47.403  0.951220  3.728659     None  \n",
       "2021-04-14 18:11:47.413  0.689024  3.487805     None  \n",
       "...                           ...       ...      ...  \n",
       "2021-04-14 18:49:10.753  1.124238  0.038110     None  \n",
       "2021-04-14 18:49:10.763  1.067073  0.030488  running  \n",
       "2021-04-14 18:49:10.773  1.128049  0.015244     None  \n",
       "2021-04-14 18:49:10.783  1.189024  0.000000  running  \n",
       "2021-04-14 18:49:10.793  1.432927 -0.060976  running  \n",
       "\n",
       "[224343 rows x 8 columns]"
      ],
      "text/html": "<div>\n<style scoped>\n    .dataframe tbody tr th:only-of-type {\n        vertical-align: middle;\n    }\n\n    .dataframe tbody tr th {\n        vertical-align: top;\n    }\n\n    .dataframe thead th {\n        text-align: right;\n    }\n</style>\n<table border=\"1\" class=\"dataframe\">\n  <thead>\n    <tr style=\"text-align: right;\">\n      <th></th>\n      <th>Device</th>\n      <th>E1</th>\n      <th>E2</th>\n      <th>E3</th>\n      <th>E4</th>\n      <th>E5</th>\n      <th>E6</th>\n      <th>Label</th>\n    </tr>\n    <tr>\n      <th>time</th>\n      <th></th>\n      <th></th>\n      <th></th>\n      <th></th>\n      <th></th>\n      <th></th>\n      <th></th>\n      <th></th>\n    </tr>\n  </thead>\n  <tbody>\n    <tr>\n      <th>2021-04-14 18:11:47.373</th>\n      <td>eSense-0012</td>\n      <td>-0.461182</td>\n      <td>0.815430</td>\n      <td>-0.323242</td>\n      <td>-3.932927</td>\n      <td>1.737805</td>\n      <td>4.451220</td>\n      <td>layup</td>\n    </tr>\n    <tr>\n      <th>2021-04-14 18:11:47.383</th>\n      <td>None</td>\n      <td>-0.461792</td>\n      <td>0.816138</td>\n      <td>-0.322681</td>\n      <td>-3.798780</td>\n      <td>1.475610</td>\n      <td>4.210366</td>\n      <td>None</td>\n    </tr>\n    <tr>\n      <th>2021-04-14 18:11:47.393</th>\n      <td>None</td>\n      <td>-0.462402</td>\n      <td>0.816846</td>\n      <td>-0.322119</td>\n      <td>-3.664634</td>\n      <td>1.213415</td>\n      <td>3.969512</td>\n      <td>None</td>\n    </tr>\n    <tr>\n      <th>2021-04-14 18:11:47.403</th>\n      <td>None</td>\n      <td>-0.463013</td>\n      <td>0.817554</td>\n      <td>-0.321558</td>\n      <td>-3.530488</td>\n      <td>0.951220</td>\n      <td>3.728659</td>\n      <td>None</td>\n    </tr>\n    <tr>\n      <th>2021-04-14 18:11:47.413</th>\n      <td>None</td>\n      <td>-0.463623</td>\n      <td>0.818262</td>\n      <td>-0.320996</td>\n      <td>-3.396341</td>\n      <td>0.689024</td>\n      <td>3.487805</td>\n      <td>None</td>\n    </tr>\n    <tr>\n      <th>...</th>\n      <td>...</td>\n      <td>...</td>\n      <td>...</td>\n      <td>...</td>\n      <td>...</td>\n      <td>...</td>\n      <td>...</td>\n      <td>...</td>\n    </tr>\n    <tr>\n      <th>2021-04-14 18:49:10.753</th>\n      <td>None</td>\n      <td>-0.382965</td>\n      <td>-0.145905</td>\n      <td>0.936707</td>\n      <td>-1.379573</td>\n      <td>1.124238</td>\n      <td>0.038110</td>\n      <td>None</td>\n    </tr>\n    <tr>\n      <th>2021-04-14 18:49:10.763</th>\n      <td>eSense-0012</td>\n      <td>-0.383057</td>\n      <td>-0.145996</td>\n      <td>0.936279</td>\n      <td>-1.371951</td>\n      <td>1.067073</td>\n      <td>0.030488</td>\n      <td>running</td>\n    </tr>\n    <tr>\n      <th>2021-04-14 18:49:10.773</th>\n      <td>None</td>\n      <td>-0.383545</td>\n      <td>-0.145264</td>\n      <td>0.936157</td>\n      <td>-1.204268</td>\n      <td>1.128049</td>\n      <td>0.015244</td>\n      <td>None</td>\n    </tr>\n    <tr>\n      <th>2021-04-14 18:49:10.783</th>\n      <td>eSense-0012</td>\n      <td>-0.384033</td>\n      <td>-0.144531</td>\n      <td>0.936035</td>\n      <td>-1.036585</td>\n      <td>1.189024</td>\n      <td>0.000000</td>\n      <td>running</td>\n    </tr>\n    <tr>\n      <th>2021-04-14 18:49:10.793</th>\n      <td>eSense-0012</td>\n      <td>-0.383545</td>\n      <td>-0.141602</td>\n      <td>0.938721</td>\n      <td>-0.884146</td>\n      <td>1.432927</td>\n      <td>-0.060976</td>\n      <td>running</td>\n    </tr>\n  </tbody>\n</table>\n<p>224343 rows × 8 columns</p>\n</div>"
     },
     "metadata": {},
     "execution_count": 1
    }
   ],
   "source": [
    "import pandas as pd\n",
    "import numpy as np\n",
    "df_sub1_esense = pd.read_csv('..\\sensor_data\\eSense_sbj1.csv', names=['time','Device','E1','E2','E3','E4','E5','E6','Label'], index_col=0)\n",
    "df_sub1_esense.index = pd.to_datetime(df_sub1_esense.index, unit='ms') + pd.Timedelta('02:00:00')\n",
    "df_sub1_esense = df_sub1_esense.resample('10ms', origin='start').first().interpolate()\n",
    "df_sub1_esense.sort_index()"
   ]
  },
  {
   "cell_type": "markdown",
   "id": "7e826e70",
   "metadata": {},
   "source": [
    "1. Read Bangle.js ankle sensor readings csv file into pandas Dataframe for each individual activity (of Subject1)\n",
    "2. Correcting timestamps by keeping the frequency at 92 Hz\n",
    "3. Upsample Bangle.js data to 100Hz to match with that of Esense Data\n",
    "4. Merge all activities dataframes into a single dataframe for Ankle sensor"
   ]
  },
  {
   "cell_type": "code",
   "execution_count": 2,
   "id": "76be547f",
   "metadata": {},
   "outputs": [],
   "source": [
    "df_sub1_ankle_dribbling = pd.read_csv('..\\sensor_data\\dribbling_sbj1_ankle.csv', index_col=0)\n",
    "df_sub1_ankle_dribbling.index = pd.date_range(start='2021-04-14 18:22:13.553', periods = df_sub1_ankle_dribbling.shape[0], freq=\"10.869565ms\")\n",
    "df_sub1_ankle_dribbling = df_sub1_ankle_dribbling.resample('10ms', origin='start').first().interpolate()\n",
    "\n",
    "df_sub1_ankle_layup = pd.read_csv('..\\sensor_data\\layup_sbj1_ankle.csv', index_col=0)\n",
    "df_sub1_ankle_layup.index = pd.date_range(start='2021-04-14 18:22:13.553', periods = df_sub1_ankle_layup.shape[0], freq=\"10.869565ms\")\n",
    "df_sub1_ankle_layup = df_sub1_ankle_layup.resample('10ms', origin='start').first().interpolate()\n",
    "\n",
    "df_sub1_ankle_shooting = pd.read_csv('..\\sensor_data\\shooting_sbj1_ankle.csv', index_col=0)\n",
    "df_sub1_ankle_shooting.index = pd.date_range(start='2021-04-14 18:12:54.023', periods = df_sub1_ankle_shooting.shape[0], freq=\"10.869565ms\")\n",
    "df_sub1_ankle_shooting = df_sub1_ankle_shooting.resample('10ms', origin='start').first().interpolate()\n",
    "\n",
    "df_sub1_ankle_movements = pd.read_csv('..\\sensor_data\\movements_sbj1_ankle_1.csv', index_col=0)\n",
    "df_sub1_ankle_movements.index = pd.date_range(start='2021-04-14 18:42:32.023', periods = df_sub1_ankle_movements.shape[0], freq=\"10.869565ms\")\n",
    "df_sub1_ankle_movements = df_sub1_ankle_movements.resample('10ms', origin='start').first().interpolate()\n",
    "\n",
    "df_sub1_ankle = pd.concat([df_sub1_ankle_layup, df_sub1_ankle_shooting, df_sub1_ankle_movements])\n",
    "df_sub1_ankle['acc_z'] = df_sub1_ankle['acc_z'].replace({';':''}, regex=True)\n",
    "df_sub1_ankle = df_sub1_ankle.set_axis(['A1', 'A2', 'A3'], axis=1)\n",
    "df_sub1_ankle['A3'] = df_sub1_ankle['A3'].astype(np.float64)\n",
    "#df_sub1_ankle.sort_index()"
   ]
  },
  {
   "cell_type": "markdown",
   "id": "529ac081",
   "metadata": {},
   "source": [
    "1. Read Bangle.js wrist sensor readings csv file into pandas Dataframe for each individual activity (of Subject1)\n",
    "2. Correcting timestamps by keeping the frequency at 92 Hz\n",
    "3. Upsample Bangle.js data to 100Hz to match with that of Esense Data\n",
    "4. Merge all activities dataframes into a single dataframe for Wrist sensor"
   ]
  },
  {
   "cell_type": "code",
   "execution_count": 3,
   "id": "5e0d2896",
   "metadata": {},
   "outputs": [],
   "source": [
    "df_sub1_wrist_dribbling = pd.read_csv('..\\sensor_data\\dribbling_sbj1_wrist.csv', index_col=0)\n",
    "df_sub1_wrist_dribbling.index = pd.date_range(start='2021-04-14 18:32:17.683', periods = df_sub1_wrist_dribbling.shape[0], freq=\"10.869565ms\")\n",
    "df_sub1_wrist_dribbling = df_sub1_wrist_dribbling.resample('10ms', origin='start').first().interpolate()\n",
    "\n",
    "df_sub1_wrist_layup = pd.read_csv('..\\sensor_data\\layup_sbj1_wrist.csv', index_col=0)\n",
    "df_sub1_wrist_layup.index = pd.date_range(start='2021-04-14 18:22:52.523', periods = df_sub1_wrist_layup.shape[0], freq=\"10.869565ms\")\n",
    "df_sub1_wrist_layup = df_sub1_wrist_layup.resample('10ms', origin='start').first().interpolate()\n",
    "\n",
    "df_sub1_wrist_shooting = pd.read_csv('..\\sensor_data\\shooting_sbj1_wrist.csv', index_col=0)\n",
    "df_sub1_wrist_shooting.index = pd.date_range(start='2021-04-14 18:13:12.833', periods = df_sub1_wrist_shooting.shape[0], freq=\"10.869565ms\")\n",
    "df_sub1_wrist_shooting = df_sub1_wrist_shooting.resample('10ms', origin='start').first().interpolate()\n",
    "\n",
    "df_sub1_wrist_movements = pd.read_csv('..\\sensor_data\\movements_sbj1_wrist.csv', index_col=0)\n",
    "df_sub1_wrist_movements.index = pd.date_range(start='2021-04-14 18:42:05.243', periods = df_sub1_wrist_movements.shape[0], freq=\"10.869565ms\")\n",
    "df_sub1_wrist_movements = df_sub1_wrist_movements.resample('10ms', origin='start').first().interpolate()\n",
    "\n",
    "df_sub1_wrist = pd.concat([df_sub1_wrist_layup, df_sub1_wrist_shooting, df_sub1_wrist_movements])\n",
    "df_sub1_wrist['acc_z'] = df_sub1_wrist['acc_z'].replace({';':''}, regex=True)\n",
    "df_sub1_wrist = df_sub1_wrist.set_axis(['W1', 'W2', 'W3'], axis=1)\n",
    "df_sub1_wrist['W3'] = df_sub1_wrist['W3'].astype(np.float64)\n",
    "#df_sub1_wrist.sort_index()"
   ]
  },
  {
   "cell_type": "markdown",
   "id": "ed1fe748",
   "metadata": {},
   "source": [
    "1. Merge Esensor, Ankle, Wrist sensor dataframes into a single dataframe Subject1\n",
    "2. Relabel all the records as null class\n",
    "3. Relabel the records into 5 activites as per the Timestamps from the Videos"
   ]
  },
  {
   "cell_type": "code",
   "execution_count": 4,
   "id": "75d4113b",
   "metadata": {},
   "outputs": [
    {
     "output_type": "execute_result",
     "data": {
      "text/plain": [
       "                              Device        E1        E2        E3         E4  \\\n",
       "2021-04-14 18:13:12.833  eSense-0012 -0.621582  0.654785 -0.159912 -54.420732   \n",
       "2021-04-14 18:13:12.843         None -0.621737  0.657693 -0.153609 -53.051552   \n",
       "2021-04-14 18:13:12.853         None -0.621893  0.660600 -0.147306 -51.682373   \n",
       "2021-04-14 18:13:12.863         None -0.622048  0.663508 -0.141002 -50.313193   \n",
       "2021-04-14 18:13:12.873         None -0.622203  0.666415 -0.134699 -48.944013   \n",
       "...                              ...       ...       ...       ...        ...   \n",
       "2021-04-14 18:47:41.923         None -0.551270  0.643555 -0.343384   7.637195   \n",
       "2021-04-14 18:47:41.933         None -0.554077  0.641235 -0.348083   6.775915   \n",
       "2021-04-14 18:47:41.943  eSense-0012 -0.556885  0.638916 -0.352783   5.914634   \n",
       "2021-04-14 18:47:41.953  eSense-0012 -0.612793  0.617432 -0.362549  -1.219512   \n",
       "2021-04-14 18:47:41.963  eSense-0012 -0.657959  0.614990 -0.376221  -3.810976   \n",
       "\n",
       "                               E5         E6 Label       A1       A2       A3  \\\n",
       "2021-04-14 18:13:12.833  3.109756  15.853659  null -0.98438  0.14380  0.13672   \n",
       "2021-04-14 18:13:12.843  2.973947  16.424612  null -0.97852  0.13281  0.14478   \n",
       "2021-04-14 18:13:12.853  2.838137  16.995565  null -0.99829  0.07910  0.17041   \n",
       "2021-04-14 18:13:12.863  2.702328  17.566519  null -1.02441  0.03296  0.23364   \n",
       "2021-04-14 18:13:12.873  2.566519  18.137472  null -1.01465  0.05884  0.27393   \n",
       "...                           ...        ...   ...      ...      ...      ...   \n",
       "2021-04-14 18:47:41.923 -4.062500 -22.500000  null  0.01123 -0.61719 -0.75732   \n",
       "2021-04-14 18:47:41.933 -3.387957 -23.003049  null -0.00879 -0.61450 -0.79370   \n",
       "2021-04-14 18:47:41.943 -2.713415 -23.506098  null  0.01440 -0.64624 -0.73730   \n",
       "2021-04-14 18:47:41.953  1.097561 -27.439024  null  0.01367 -0.61694 -0.75635   \n",
       "2021-04-14 18:47:41.963  1.798780 -28.810976  null -0.00195 -0.58423 -0.79199   \n",
       "\n",
       "                              W1       W2       W3  \n",
       "2021-04-14 18:13:12.833  0.93042  0.47583  0.10889  \n",
       "2021-04-14 18:13:12.843  0.94653  0.36230  0.05713  \n",
       "2021-04-14 18:13:12.853  1.02271  0.16553  0.00415  \n",
       "2021-04-14 18:13:12.863  1.01880  0.08423 -0.06494  \n",
       "2021-04-14 18:13:12.873  0.97705  0.17603 -0.10010  \n",
       "...                          ...      ...      ...  \n",
       "2021-04-14 18:47:41.923  0.32861  0.79370 -0.43042  \n",
       "2021-04-14 18:47:41.933  0.32983  0.77344 -0.41528  \n",
       "2021-04-14 18:47:41.943  0.33105  0.77051 -0.39087  \n",
       "2021-04-14 18:47:41.953  0.34131  0.78394 -0.37280  \n",
       "2021-04-14 18:47:41.963  0.34668  0.80469 -0.36401  \n",
       "\n",
       "[72990 rows x 14 columns]"
      ],
      "text/html": "<div>\n<style scoped>\n    .dataframe tbody tr th:only-of-type {\n        vertical-align: middle;\n    }\n\n    .dataframe tbody tr th {\n        vertical-align: top;\n    }\n\n    .dataframe thead th {\n        text-align: right;\n    }\n</style>\n<table border=\"1\" class=\"dataframe\">\n  <thead>\n    <tr style=\"text-align: right;\">\n      <th></th>\n      <th>Device</th>\n      <th>E1</th>\n      <th>E2</th>\n      <th>E3</th>\n      <th>E4</th>\n      <th>E5</th>\n      <th>E6</th>\n      <th>Label</th>\n      <th>A1</th>\n      <th>A2</th>\n      <th>A3</th>\n      <th>W1</th>\n      <th>W2</th>\n      <th>W3</th>\n    </tr>\n  </thead>\n  <tbody>\n    <tr>\n      <th>2021-04-14 18:13:12.833</th>\n      <td>eSense-0012</td>\n      <td>-0.621582</td>\n      <td>0.654785</td>\n      <td>-0.159912</td>\n      <td>-54.420732</td>\n      <td>3.109756</td>\n      <td>15.853659</td>\n      <td>null</td>\n      <td>-0.98438</td>\n      <td>0.14380</td>\n      <td>0.13672</td>\n      <td>0.93042</td>\n      <td>0.47583</td>\n      <td>0.10889</td>\n    </tr>\n    <tr>\n      <th>2021-04-14 18:13:12.843</th>\n      <td>None</td>\n      <td>-0.621737</td>\n      <td>0.657693</td>\n      <td>-0.153609</td>\n      <td>-53.051552</td>\n      <td>2.973947</td>\n      <td>16.424612</td>\n      <td>null</td>\n      <td>-0.97852</td>\n      <td>0.13281</td>\n      <td>0.14478</td>\n      <td>0.94653</td>\n      <td>0.36230</td>\n      <td>0.05713</td>\n    </tr>\n    <tr>\n      <th>2021-04-14 18:13:12.853</th>\n      <td>None</td>\n      <td>-0.621893</td>\n      <td>0.660600</td>\n      <td>-0.147306</td>\n      <td>-51.682373</td>\n      <td>2.838137</td>\n      <td>16.995565</td>\n      <td>null</td>\n      <td>-0.99829</td>\n      <td>0.07910</td>\n      <td>0.17041</td>\n      <td>1.02271</td>\n      <td>0.16553</td>\n      <td>0.00415</td>\n    </tr>\n    <tr>\n      <th>2021-04-14 18:13:12.863</th>\n      <td>None</td>\n      <td>-0.622048</td>\n      <td>0.663508</td>\n      <td>-0.141002</td>\n      <td>-50.313193</td>\n      <td>2.702328</td>\n      <td>17.566519</td>\n      <td>null</td>\n      <td>-1.02441</td>\n      <td>0.03296</td>\n      <td>0.23364</td>\n      <td>1.01880</td>\n      <td>0.08423</td>\n      <td>-0.06494</td>\n    </tr>\n    <tr>\n      <th>2021-04-14 18:13:12.873</th>\n      <td>None</td>\n      <td>-0.622203</td>\n      <td>0.666415</td>\n      <td>-0.134699</td>\n      <td>-48.944013</td>\n      <td>2.566519</td>\n      <td>18.137472</td>\n      <td>null</td>\n      <td>-1.01465</td>\n      <td>0.05884</td>\n      <td>0.27393</td>\n      <td>0.97705</td>\n      <td>0.17603</td>\n      <td>-0.10010</td>\n    </tr>\n    <tr>\n      <th>...</th>\n      <td>...</td>\n      <td>...</td>\n      <td>...</td>\n      <td>...</td>\n      <td>...</td>\n      <td>...</td>\n      <td>...</td>\n      <td>...</td>\n      <td>...</td>\n      <td>...</td>\n      <td>...</td>\n      <td>...</td>\n      <td>...</td>\n      <td>...</td>\n    </tr>\n    <tr>\n      <th>2021-04-14 18:47:41.923</th>\n      <td>None</td>\n      <td>-0.551270</td>\n      <td>0.643555</td>\n      <td>-0.343384</td>\n      <td>7.637195</td>\n      <td>-4.062500</td>\n      <td>-22.500000</td>\n      <td>null</td>\n      <td>0.01123</td>\n      <td>-0.61719</td>\n      <td>-0.75732</td>\n      <td>0.32861</td>\n      <td>0.79370</td>\n      <td>-0.43042</td>\n    </tr>\n    <tr>\n      <th>2021-04-14 18:47:41.933</th>\n      <td>None</td>\n      <td>-0.554077</td>\n      <td>0.641235</td>\n      <td>-0.348083</td>\n      <td>6.775915</td>\n      <td>-3.387957</td>\n      <td>-23.003049</td>\n      <td>null</td>\n      <td>-0.00879</td>\n      <td>-0.61450</td>\n      <td>-0.79370</td>\n      <td>0.32983</td>\n      <td>0.77344</td>\n      <td>-0.41528</td>\n    </tr>\n    <tr>\n      <th>2021-04-14 18:47:41.943</th>\n      <td>eSense-0012</td>\n      <td>-0.556885</td>\n      <td>0.638916</td>\n      <td>-0.352783</td>\n      <td>5.914634</td>\n      <td>-2.713415</td>\n      <td>-23.506098</td>\n      <td>null</td>\n      <td>0.01440</td>\n      <td>-0.64624</td>\n      <td>-0.73730</td>\n      <td>0.33105</td>\n      <td>0.77051</td>\n      <td>-0.39087</td>\n    </tr>\n    <tr>\n      <th>2021-04-14 18:47:41.953</th>\n      <td>eSense-0012</td>\n      <td>-0.612793</td>\n      <td>0.617432</td>\n      <td>-0.362549</td>\n      <td>-1.219512</td>\n      <td>1.097561</td>\n      <td>-27.439024</td>\n      <td>null</td>\n      <td>0.01367</td>\n      <td>-0.61694</td>\n      <td>-0.75635</td>\n      <td>0.34131</td>\n      <td>0.78394</td>\n      <td>-0.37280</td>\n    </tr>\n    <tr>\n      <th>2021-04-14 18:47:41.963</th>\n      <td>eSense-0012</td>\n      <td>-0.657959</td>\n      <td>0.614990</td>\n      <td>-0.376221</td>\n      <td>-3.810976</td>\n      <td>1.798780</td>\n      <td>-28.810976</td>\n      <td>null</td>\n      <td>-0.00195</td>\n      <td>-0.58423</td>\n      <td>-0.79199</td>\n      <td>0.34668</td>\n      <td>0.80469</td>\n      <td>-0.36401</td>\n    </tr>\n  </tbody>\n</table>\n<p>72990 rows × 14 columns</p>\n</div>"
     },
     "metadata": {},
     "execution_count": 4
    }
   ],
   "source": [
    "df_sub1 = pd.concat([df_sub1_esense, df_sub1_ankle, df_sub1_wrist], axis=1, join=\"inner\")\n",
    "df_sub1.Label = 'null'\n",
    "\n",
    "#df_sub1.loc[pd.to_datetime('2021-04-14 19:27:01.000'):pd.to_datetime('2021-04-14 19:29:55.000'), 'Label'] = 'dribbling'\n",
    "df_sub1.loc[pd.to_datetime('2021-04-14 18:23:20.000'):pd.to_datetime('2021-04-14 18:25:25.000'), 'Label'] = 'layup'\n",
    "df_sub1.loc[pd.to_datetime('2021-04-14 18:45:18.000'):pd.to_datetime('2021-04-14 18:47:11.000'), 'Label'] = 'running'\n",
    "df_sub1.loc[pd.to_datetime('2021-04-14 18:13:30.000'):pd.to_datetime('2021-04-14 18:15:40.000'), 'Label'] = 'shooting'\n",
    "df_sub1.loc[pd.to_datetime('2021-04-14 18:42:48.000'):pd.to_datetime('2021-04-14 18:45:17.000'), 'Label'] = 'walking'\n",
    "df_sub1"
   ]
  },
  {
   "cell_type": "markdown",
   "id": "cfe43a6a",
   "metadata": {},
   "source": [
    "1. Drop unnecessary Columns\n",
    "2. Drop all rows with any missing values"
   ]
  },
  {
   "cell_type": "code",
   "execution_count": 5,
   "id": "c9bf28f3",
   "metadata": {},
   "outputs": [
    {
     "output_type": "execute_result",
     "data": {
      "text/plain": [
       "             E1        E2        E3         E4        E5         E6 Label  \\\n",
       "0     -0.621582  0.654785 -0.159912 -54.420732  3.109756  15.853659  null   \n",
       "1     -0.621737  0.657693 -0.153609 -53.051552  2.973947  16.424612  null   \n",
       "2     -0.621893  0.660600 -0.147306 -51.682373  2.838137  16.995565  null   \n",
       "3     -0.622048  0.663508 -0.141002 -50.313193  2.702328  17.566519  null   \n",
       "4     -0.622203  0.666415 -0.134699 -48.944013  2.566519  18.137472  null   \n",
       "...         ...       ...       ...        ...       ...        ...   ...   \n",
       "61308 -0.551270  0.643555 -0.343384   7.637195 -4.062500 -22.500000  null   \n",
       "61309 -0.554077  0.641235 -0.348083   6.775915 -3.387957 -23.003049  null   \n",
       "61310 -0.556885  0.638916 -0.352783   5.914634 -2.713415 -23.506098  null   \n",
       "61311 -0.612793  0.617432 -0.362549  -1.219512  1.097561 -27.439024  null   \n",
       "61312 -0.657959  0.614990 -0.376221  -3.810976  1.798780 -28.810976  null   \n",
       "\n",
       "            A1       A2       A3       W1       W2       W3  \n",
       "0     -0.98438  0.14380  0.13672  0.93042  0.47583  0.10889  \n",
       "1     -0.97852  0.13281  0.14478  0.94653  0.36230  0.05713  \n",
       "2     -0.99829  0.07910  0.17041  1.02271  0.16553  0.00415  \n",
       "3     -1.02441  0.03296  0.23364  1.01880  0.08423 -0.06494  \n",
       "4     -1.01465  0.05884  0.27393  0.97705  0.17603 -0.10010  \n",
       "...        ...      ...      ...      ...      ...      ...  \n",
       "61308  0.01123 -0.61719 -0.75732  0.32861  0.79370 -0.43042  \n",
       "61309 -0.00879 -0.61450 -0.79370  0.32983  0.77344 -0.41528  \n",
       "61310  0.01440 -0.64624 -0.73730  0.33105  0.77051 -0.39087  \n",
       "61311  0.01367 -0.61694 -0.75635  0.34131  0.78394 -0.37280  \n",
       "61312 -0.00195 -0.58423 -0.79199  0.34668  0.80469 -0.36401  \n",
       "\n",
       "[61313 rows x 13 columns]"
      ],
      "text/html": "<div>\n<style scoped>\n    .dataframe tbody tr th:only-of-type {\n        vertical-align: middle;\n    }\n\n    .dataframe tbody tr th {\n        vertical-align: top;\n    }\n\n    .dataframe thead th {\n        text-align: right;\n    }\n</style>\n<table border=\"1\" class=\"dataframe\">\n  <thead>\n    <tr style=\"text-align: right;\">\n      <th></th>\n      <th>E1</th>\n      <th>E2</th>\n      <th>E3</th>\n      <th>E4</th>\n      <th>E5</th>\n      <th>E6</th>\n      <th>Label</th>\n      <th>A1</th>\n      <th>A2</th>\n      <th>A3</th>\n      <th>W1</th>\n      <th>W2</th>\n      <th>W3</th>\n    </tr>\n  </thead>\n  <tbody>\n    <tr>\n      <th>0</th>\n      <td>-0.621582</td>\n      <td>0.654785</td>\n      <td>-0.159912</td>\n      <td>-54.420732</td>\n      <td>3.109756</td>\n      <td>15.853659</td>\n      <td>null</td>\n      <td>-0.98438</td>\n      <td>0.14380</td>\n      <td>0.13672</td>\n      <td>0.93042</td>\n      <td>0.47583</td>\n      <td>0.10889</td>\n    </tr>\n    <tr>\n      <th>1</th>\n      <td>-0.621737</td>\n      <td>0.657693</td>\n      <td>-0.153609</td>\n      <td>-53.051552</td>\n      <td>2.973947</td>\n      <td>16.424612</td>\n      <td>null</td>\n      <td>-0.97852</td>\n      <td>0.13281</td>\n      <td>0.14478</td>\n      <td>0.94653</td>\n      <td>0.36230</td>\n      <td>0.05713</td>\n    </tr>\n    <tr>\n      <th>2</th>\n      <td>-0.621893</td>\n      <td>0.660600</td>\n      <td>-0.147306</td>\n      <td>-51.682373</td>\n      <td>2.838137</td>\n      <td>16.995565</td>\n      <td>null</td>\n      <td>-0.99829</td>\n      <td>0.07910</td>\n      <td>0.17041</td>\n      <td>1.02271</td>\n      <td>0.16553</td>\n      <td>0.00415</td>\n    </tr>\n    <tr>\n      <th>3</th>\n      <td>-0.622048</td>\n      <td>0.663508</td>\n      <td>-0.141002</td>\n      <td>-50.313193</td>\n      <td>2.702328</td>\n      <td>17.566519</td>\n      <td>null</td>\n      <td>-1.02441</td>\n      <td>0.03296</td>\n      <td>0.23364</td>\n      <td>1.01880</td>\n      <td>0.08423</td>\n      <td>-0.06494</td>\n    </tr>\n    <tr>\n      <th>4</th>\n      <td>-0.622203</td>\n      <td>0.666415</td>\n      <td>-0.134699</td>\n      <td>-48.944013</td>\n      <td>2.566519</td>\n      <td>18.137472</td>\n      <td>null</td>\n      <td>-1.01465</td>\n      <td>0.05884</td>\n      <td>0.27393</td>\n      <td>0.97705</td>\n      <td>0.17603</td>\n      <td>-0.10010</td>\n    </tr>\n    <tr>\n      <th>...</th>\n      <td>...</td>\n      <td>...</td>\n      <td>...</td>\n      <td>...</td>\n      <td>...</td>\n      <td>...</td>\n      <td>...</td>\n      <td>...</td>\n      <td>...</td>\n      <td>...</td>\n      <td>...</td>\n      <td>...</td>\n      <td>...</td>\n    </tr>\n    <tr>\n      <th>61308</th>\n      <td>-0.551270</td>\n      <td>0.643555</td>\n      <td>-0.343384</td>\n      <td>7.637195</td>\n      <td>-4.062500</td>\n      <td>-22.500000</td>\n      <td>null</td>\n      <td>0.01123</td>\n      <td>-0.61719</td>\n      <td>-0.75732</td>\n      <td>0.32861</td>\n      <td>0.79370</td>\n      <td>-0.43042</td>\n    </tr>\n    <tr>\n      <th>61309</th>\n      <td>-0.554077</td>\n      <td>0.641235</td>\n      <td>-0.348083</td>\n      <td>6.775915</td>\n      <td>-3.387957</td>\n      <td>-23.003049</td>\n      <td>null</td>\n      <td>-0.00879</td>\n      <td>-0.61450</td>\n      <td>-0.79370</td>\n      <td>0.32983</td>\n      <td>0.77344</td>\n      <td>-0.41528</td>\n    </tr>\n    <tr>\n      <th>61310</th>\n      <td>-0.556885</td>\n      <td>0.638916</td>\n      <td>-0.352783</td>\n      <td>5.914634</td>\n      <td>-2.713415</td>\n      <td>-23.506098</td>\n      <td>null</td>\n      <td>0.01440</td>\n      <td>-0.64624</td>\n      <td>-0.73730</td>\n      <td>0.33105</td>\n      <td>0.77051</td>\n      <td>-0.39087</td>\n    </tr>\n    <tr>\n      <th>61311</th>\n      <td>-0.612793</td>\n      <td>0.617432</td>\n      <td>-0.362549</td>\n      <td>-1.219512</td>\n      <td>1.097561</td>\n      <td>-27.439024</td>\n      <td>null</td>\n      <td>0.01367</td>\n      <td>-0.61694</td>\n      <td>-0.75635</td>\n      <td>0.34131</td>\n      <td>0.78394</td>\n      <td>-0.37280</td>\n    </tr>\n    <tr>\n      <th>61312</th>\n      <td>-0.657959</td>\n      <td>0.614990</td>\n      <td>-0.376221</td>\n      <td>-3.810976</td>\n      <td>1.798780</td>\n      <td>-28.810976</td>\n      <td>null</td>\n      <td>-0.00195</td>\n      <td>-0.58423</td>\n      <td>-0.79199</td>\n      <td>0.34668</td>\n      <td>0.80469</td>\n      <td>-0.36401</td>\n    </tr>\n  </tbody>\n</table>\n<p>61313 rows × 13 columns</p>\n</div>"
     },
     "metadata": {},
     "execution_count": 5
    }
   ],
   "source": [
    "df_sub1 = df_sub1.drop(columns=['Device'])\n",
    "df_sub1.dropna(inplace=True)\n",
    "df_sub1.reset_index(drop=True, inplace=True)\n",
    "df_sub1"
   ]
  },
  {
   "cell_type": "code",
   "execution_count": 6,
   "metadata": {},
   "outputs": [
    {
     "output_type": "execute_result",
     "data": {
      "text/plain": [
       "null        17885\n",
       "walking     12516\n",
       "shooting    10920\n",
       "layup       10500\n",
       "running      9492\n",
       "Name: Label, dtype: int64"
      ]
     },
     "metadata": {},
     "execution_count": 6
    }
   ],
   "source": [
    "df_sub1['Label'].value_counts()"
   ]
  },
  {
   "source": [
    "# Subject 2"
   ],
   "cell_type": "markdown",
   "metadata": {}
  },
  {
   "cell_type": "code",
   "execution_count": 7,
   "metadata": {},
   "outputs": [],
   "source": [
    "df_sub2=pd.read_csv('df_sub2.csv')"
   ]
  },
  {
   "cell_type": "code",
   "execution_count": 8,
   "metadata": {},
   "outputs": [],
   "source": [
    "df_sub2=pd.DataFrame(df_sub2)"
   ]
  },
  {
   "cell_type": "code",
   "execution_count": 9,
   "metadata": {},
   "outputs": [
    {
     "output_type": "stream",
     "name": "stdout",
     "text": [
      "<class 'pandas.core.frame.DataFrame'>\nRangeIndex: 75890 entries, 0 to 75889\nData columns (total 13 columns):\n #   Column  Non-Null Count  Dtype  \n---  ------  --------------  -----  \n 0   E1      75890 non-null  float64\n 1   E2      75890 non-null  float64\n 2   E3      75890 non-null  float64\n 3   E4      75890 non-null  float64\n 4   E5      75890 non-null  float64\n 5   E6      75890 non-null  float64\n 6   Label   57036 non-null  object \n 7   A1      75890 non-null  float64\n 8   A2      75890 non-null  float64\n 9   A3      75890 non-null  float64\n 10  W1      75890 non-null  float64\n 11  W2      75890 non-null  float64\n 12  W3      75890 non-null  float64\ndtypes: float64(12), object(1)\nmemory usage: 7.5+ MB\n"
     ]
    }
   ],
   "source": [
    "df_sub2.info()"
   ]
  },
  {
   "source": [
    "## Concat the dataframes of 2 subjects"
   ],
   "cell_type": "markdown",
   "metadata": {}
  },
  {
   "cell_type": "code",
   "execution_count": 10,
   "metadata": {},
   "outputs": [],
   "source": [
    "frames=[df_sub1,df_sub2]\n",
    "combined_frame=pd.concat(frames)"
   ]
  },
  {
   "cell_type": "code",
   "execution_count": 11,
   "metadata": {},
   "outputs": [
    {
     "output_type": "execute_result",
     "data": {
      "text/plain": [
       "             E1        E2        E3          E4          E5         E6  \\\n",
       "32174 -0.616943 -0.362305 -0.178467 -163.353659 -113.414634  38.871951   \n",
       "32175 -0.607544 -0.351288 -0.175659 -163.544207 -113.433689  39.249238   \n",
       "32176 -0.598145 -0.340271 -0.172852 -163.734756 -113.452744  39.626524   \n",
       "32177 -0.579346 -0.318237 -0.167236 -164.115854 -113.490854  40.381098   \n",
       "32178 -0.569946 -0.307220 -0.164429 -164.306402 -113.509909  40.758384   \n",
       "...         ...       ...       ...         ...         ...        ...   \n",
       "46785 -0.883362 -0.218109 -0.134979   -4.649390    5.114329  -9.607470   \n",
       "46786 -0.893066 -0.220947 -0.133545   -3.963415    5.121951  -8.932927   \n",
       "46787 -0.845459 -0.143799 -0.145996    9.695122    4.939024   1.890244   \n",
       "46788 -0.843533 -0.139838 -0.148139    9.684959    5.318428   2.063008   \n",
       "46789 -0.841607 -0.135878 -0.150282    9.674797    5.697832   2.235772   \n",
       "\n",
       "           Label       A1       A2       A3       W1       W2       W3  \n",
       "32174  dribbling -0.86426 -0.49463  0.34448  0.50708  0.84814  0.93628  \n",
       "32175  dribbling -0.85718 -0.49585  0.30151  0.48926  0.81689  0.90112  \n",
       "32176  dribbling -0.93701 -0.39648  0.08472  0.48022  0.75684  0.85718  \n",
       "32177  dribbling -1.00317 -0.24487 -0.07593  0.43359  0.66968  0.84961  \n",
       "32178  dribbling -1.05054 -0.13062 -0.13770  0.42041  0.64136  0.77393  \n",
       "...          ...      ...      ...      ...      ...      ...      ...  \n",
       "46785  dribbling -1.70679 -0.06372  1.43555 -0.03516  0.17358  1.29932  \n",
       "46786  dribbling -1.58447 -0.11304  1.28076 -0.02881  0.14282  1.31006  \n",
       "46787  dribbling -1.05371 -0.17627  0.80176 -0.02661  0.08984  1.31104  \n",
       "46788  dribbling -0.88794 -0.34277  0.70703 -0.02856  0.02100  1.29346  \n",
       "46789  dribbling -0.89038 -0.44043  0.65186 -0.02661 -0.02441  1.27417  \n",
       "\n",
       "[14616 rows x 13 columns]"
      ],
      "text/html": "<div>\n<style scoped>\n    .dataframe tbody tr th:only-of-type {\n        vertical-align: middle;\n    }\n\n    .dataframe tbody tr th {\n        vertical-align: top;\n    }\n\n    .dataframe thead th {\n        text-align: right;\n    }\n</style>\n<table border=\"1\" class=\"dataframe\">\n  <thead>\n    <tr style=\"text-align: right;\">\n      <th></th>\n      <th>E1</th>\n      <th>E2</th>\n      <th>E3</th>\n      <th>E4</th>\n      <th>E5</th>\n      <th>E6</th>\n      <th>Label</th>\n      <th>A1</th>\n      <th>A2</th>\n      <th>A3</th>\n      <th>W1</th>\n      <th>W2</th>\n      <th>W3</th>\n    </tr>\n  </thead>\n  <tbody>\n    <tr>\n      <th>32174</th>\n      <td>-0.616943</td>\n      <td>-0.362305</td>\n      <td>-0.178467</td>\n      <td>-163.353659</td>\n      <td>-113.414634</td>\n      <td>38.871951</td>\n      <td>dribbling</td>\n      <td>-0.86426</td>\n      <td>-0.49463</td>\n      <td>0.34448</td>\n      <td>0.50708</td>\n      <td>0.84814</td>\n      <td>0.93628</td>\n    </tr>\n    <tr>\n      <th>32175</th>\n      <td>-0.607544</td>\n      <td>-0.351288</td>\n      <td>-0.175659</td>\n      <td>-163.544207</td>\n      <td>-113.433689</td>\n      <td>39.249238</td>\n      <td>dribbling</td>\n      <td>-0.85718</td>\n      <td>-0.49585</td>\n      <td>0.30151</td>\n      <td>0.48926</td>\n      <td>0.81689</td>\n      <td>0.90112</td>\n    </tr>\n    <tr>\n      <th>32176</th>\n      <td>-0.598145</td>\n      <td>-0.340271</td>\n      <td>-0.172852</td>\n      <td>-163.734756</td>\n      <td>-113.452744</td>\n      <td>39.626524</td>\n      <td>dribbling</td>\n      <td>-0.93701</td>\n      <td>-0.39648</td>\n      <td>0.08472</td>\n      <td>0.48022</td>\n      <td>0.75684</td>\n      <td>0.85718</td>\n    </tr>\n    <tr>\n      <th>32177</th>\n      <td>-0.579346</td>\n      <td>-0.318237</td>\n      <td>-0.167236</td>\n      <td>-164.115854</td>\n      <td>-113.490854</td>\n      <td>40.381098</td>\n      <td>dribbling</td>\n      <td>-1.00317</td>\n      <td>-0.24487</td>\n      <td>-0.07593</td>\n      <td>0.43359</td>\n      <td>0.66968</td>\n      <td>0.84961</td>\n    </tr>\n    <tr>\n      <th>32178</th>\n      <td>-0.569946</td>\n      <td>-0.307220</td>\n      <td>-0.164429</td>\n      <td>-164.306402</td>\n      <td>-113.509909</td>\n      <td>40.758384</td>\n      <td>dribbling</td>\n      <td>-1.05054</td>\n      <td>-0.13062</td>\n      <td>-0.13770</td>\n      <td>0.42041</td>\n      <td>0.64136</td>\n      <td>0.77393</td>\n    </tr>\n    <tr>\n      <th>...</th>\n      <td>...</td>\n      <td>...</td>\n      <td>...</td>\n      <td>...</td>\n      <td>...</td>\n      <td>...</td>\n      <td>...</td>\n      <td>...</td>\n      <td>...</td>\n      <td>...</td>\n      <td>...</td>\n      <td>...</td>\n      <td>...</td>\n    </tr>\n    <tr>\n      <th>46785</th>\n      <td>-0.883362</td>\n      <td>-0.218109</td>\n      <td>-0.134979</td>\n      <td>-4.649390</td>\n      <td>5.114329</td>\n      <td>-9.607470</td>\n      <td>dribbling</td>\n      <td>-1.70679</td>\n      <td>-0.06372</td>\n      <td>1.43555</td>\n      <td>-0.03516</td>\n      <td>0.17358</td>\n      <td>1.29932</td>\n    </tr>\n    <tr>\n      <th>46786</th>\n      <td>-0.893066</td>\n      <td>-0.220947</td>\n      <td>-0.133545</td>\n      <td>-3.963415</td>\n      <td>5.121951</td>\n      <td>-8.932927</td>\n      <td>dribbling</td>\n      <td>-1.58447</td>\n      <td>-0.11304</td>\n      <td>1.28076</td>\n      <td>-0.02881</td>\n      <td>0.14282</td>\n      <td>1.31006</td>\n    </tr>\n    <tr>\n      <th>46787</th>\n      <td>-0.845459</td>\n      <td>-0.143799</td>\n      <td>-0.145996</td>\n      <td>9.695122</td>\n      <td>4.939024</td>\n      <td>1.890244</td>\n      <td>dribbling</td>\n      <td>-1.05371</td>\n      <td>-0.17627</td>\n      <td>0.80176</td>\n      <td>-0.02661</td>\n      <td>0.08984</td>\n      <td>1.31104</td>\n    </tr>\n    <tr>\n      <th>46788</th>\n      <td>-0.843533</td>\n      <td>-0.139838</td>\n      <td>-0.148139</td>\n      <td>9.684959</td>\n      <td>5.318428</td>\n      <td>2.063008</td>\n      <td>dribbling</td>\n      <td>-0.88794</td>\n      <td>-0.34277</td>\n      <td>0.70703</td>\n      <td>-0.02856</td>\n      <td>0.02100</td>\n      <td>1.29346</td>\n    </tr>\n    <tr>\n      <th>46789</th>\n      <td>-0.841607</td>\n      <td>-0.135878</td>\n      <td>-0.150282</td>\n      <td>9.674797</td>\n      <td>5.697832</td>\n      <td>2.235772</td>\n      <td>dribbling</td>\n      <td>-0.89038</td>\n      <td>-0.44043</td>\n      <td>0.65186</td>\n      <td>-0.02661</td>\n      <td>-0.02441</td>\n      <td>1.27417</td>\n    </tr>\n  </tbody>\n</table>\n<p>14616 rows × 13 columns</p>\n</div>"
     },
     "metadata": {},
     "execution_count": 11
    }
   ],
   "source": [
    "combined_frame.loc[combined_frame['Label'] == 'dribbling']"
   ]
  },
  {
   "cell_type": "code",
   "execution_count": 12,
   "metadata": {},
   "outputs": [
    {
     "output_type": "execute_result",
     "data": {
      "text/plain": [
       "walking      24948\n",
       "layup        23100\n",
       "running      19824\n",
       "shooting     17976\n",
       "null         17885\n",
       "dribbling    14616\n",
       "Name: Label, dtype: int64"
      ]
     },
     "metadata": {},
     "execution_count": 12
    }
   ],
   "source": [
    "combined_frame['Label'].value_counts()"
   ]
  },
  {
   "source": [
    "## Balancing the data for each class"
   ],
   "cell_type": "markdown",
   "metadata": {}
  },
  {
   "cell_type": "code",
   "execution_count": 13,
   "metadata": {},
   "outputs": [],
   "source": [
    "walking= combined_frame[combined_frame['Label']=='walking'].head(14616).copy()\n",
    "layup= combined_frame[combined_frame['Label']=='layup'].head(14616).copy()\n",
    "running= combined_frame[combined_frame['Label']=='running'].head(14616).copy()\n",
    "shooting= combined_frame[combined_frame['Label']=='shooting'].head(14616).copy()\n",
    "dribbling= combined_frame[combined_frame['Label']=='dribbling'].copy()\n",
    "null= combined_frame[combined_frame['Label']=='null'].head(14616).copy()"
   ]
  },
  {
   "cell_type": "code",
   "execution_count": 14,
   "metadata": {},
   "outputs": [],
   "source": [
    "balanced_data=pd.DataFrame()\n",
    "balanced_data=balanced_data.append([walking,layup,running,shooting,dribbling,null])"
   ]
  },
  {
   "cell_type": "code",
   "execution_count": 15,
   "metadata": {},
   "outputs": [
    {
     "output_type": "execute_result",
     "data": {
      "text/plain": [
       "null         14616\n",
       "layup        14616\n",
       "dribbling    14616\n",
       "running      14616\n",
       "walking      14616\n",
       "shooting     14616\n",
       "Name: Label, dtype: int64"
      ]
     },
     "metadata": {},
     "execution_count": 15
    }
   ],
   "source": [
    "balanced_data['Label'].value_counts()"
   ]
  },
  {
   "source": [
    "## Encoding the labels for training"
   ],
   "cell_type": "markdown",
   "metadata": {}
  },
  {
   "cell_type": "code",
   "execution_count": 16,
   "metadata": {},
   "outputs": [
    {
     "output_type": "execute_result",
     "data": {
      "text/plain": [
       "array(['dribbling', 'layup', 'null', 'running', 'shooting', 'walking'],\n",
       "      dtype=object)"
      ]
     },
     "metadata": {},
     "execution_count": 16
    }
   ],
   "source": [
    "from sklearn.preprocessing import LabelEncoder\n",
    "\n",
    "Label = LabelEncoder()\n",
    "balanced_data['label']=Label.fit_transform(balanced_data['Label'])\n",
    "Label.classes_"
   ]
  },
  {
   "source": [
    "## Standardize the data using Standart Scaler\n",
    "### It normalizes each data value x by (x-mean/std_dev(data[column]))\n"
   ],
   "cell_type": "markdown",
   "metadata": {}
  },
  {
   "cell_type": "code",
   "execution_count": 17,
   "metadata": {},
   "outputs": [],
   "source": [
    "column = ['E1', 'E2', 'E3', 'E4', 'E5', 'E6', 'A1', 'A2', 'A3', 'W1', 'W2', 'W3']\n",
    "X=balanced_data[column]\n",
    "Y=balanced_data['label']\n"
   ]
  },
  {
   "cell_type": "code",
   "execution_count": 18,
   "metadata": {},
   "outputs": [],
   "source": [
    "from sklearn.preprocessing import StandardScaler\n",
    "scaler=StandardScaler()\n",
    "\n",
    "x=scaler.fit_transform(X)\n",
    "\n",
    "scaledx=pd.DataFrame(data=x, columns=column)\n",
    "scaledx['label']=Y.values\n"
   ]
  },
  {
   "cell_type": "code",
   "execution_count": 19,
   "metadata": {},
   "outputs": [
    {
     "output_type": "execute_result",
     "data": {
      "text/plain": [
       "             E1        E2        E3        E4        E5        E6        A1  \\\n",
       "0     -0.432802 -0.285557  0.044585 -0.034835 -0.312419  0.476065  0.132762   \n",
       "1     -0.390921 -0.285012  0.135537 -0.013069 -0.365905  0.465650  0.134119   \n",
       "2     -0.307157 -0.283921  0.317442  0.030464 -0.472876  0.444820  0.139924   \n",
       "3     -0.265276 -0.283376  0.408394  0.052230 -0.526362  0.434405  0.143001   \n",
       "4     -0.223394 -0.282830  0.499347  0.073996 -0.579848  0.423991  0.150178   \n",
       "...         ...       ...       ...       ...       ...       ...       ...   \n",
       "87691 -0.157522 -0.054054  0.914476  0.003989  0.666641 -0.407184 -1.461804   \n",
       "87692 -0.164376 -0.053236  0.913563  0.027530  0.670721 -0.429246 -1.643139   \n",
       "87693 -0.178085 -0.051600  0.911737  0.074610  0.678880 -0.473369 -0.799931   \n",
       "87694 -0.217979 -0.056835  0.899409  0.085800  0.695197 -0.469673  0.195599   \n",
       "87695 -0.257873 -0.062071  0.887081  0.096991  0.711515 -0.465978  0.591757   \n",
       "\n",
       "             A2        A3        W1        W2        W3  label  \n",
       "0      0.170295 -0.067685 -0.004028 -0.096691  1.036922      5  \n",
       "1      0.159042 -0.066083  0.057875 -0.144406  1.086520      5  \n",
       "2      0.160349 -0.079831  0.288928 -0.018251  0.568301      5  \n",
       "3      0.160617 -0.084594  0.464769 -0.018251  0.469791      5  \n",
       "4      0.158528 -0.092518  0.671990 -0.073865  0.393853      5  \n",
       "...         ...       ...       ...       ...       ...    ...  \n",
       "87691  0.138637 -0.074007 -0.367912  0.024476 -0.264965      2  \n",
       "87692 -0.436709  0.459317 -0.364424  0.019501 -0.260860      2  \n",
       "87693 -0.164340  1.550842 -0.379245  0.028576 -0.213657      2  \n",
       "87694  0.516707  0.879018 -0.364710  0.080966 -0.175688      2  \n",
       "87695  0.644388 -0.136924 -0.328377  0.138918 -0.125403      2  \n",
       "\n",
       "[87696 rows x 13 columns]"
      ],
      "text/html": "<div>\n<style scoped>\n    .dataframe tbody tr th:only-of-type {\n        vertical-align: middle;\n    }\n\n    .dataframe tbody tr th {\n        vertical-align: top;\n    }\n\n    .dataframe thead th {\n        text-align: right;\n    }\n</style>\n<table border=\"1\" class=\"dataframe\">\n  <thead>\n    <tr style=\"text-align: right;\">\n      <th></th>\n      <th>E1</th>\n      <th>E2</th>\n      <th>E3</th>\n      <th>E4</th>\n      <th>E5</th>\n      <th>E6</th>\n      <th>A1</th>\n      <th>A2</th>\n      <th>A3</th>\n      <th>W1</th>\n      <th>W2</th>\n      <th>W3</th>\n      <th>label</th>\n    </tr>\n  </thead>\n  <tbody>\n    <tr>\n      <th>0</th>\n      <td>-0.432802</td>\n      <td>-0.285557</td>\n      <td>0.044585</td>\n      <td>-0.034835</td>\n      <td>-0.312419</td>\n      <td>0.476065</td>\n      <td>0.132762</td>\n      <td>0.170295</td>\n      <td>-0.067685</td>\n      <td>-0.004028</td>\n      <td>-0.096691</td>\n      <td>1.036922</td>\n      <td>5</td>\n    </tr>\n    <tr>\n      <th>1</th>\n      <td>-0.390921</td>\n      <td>-0.285012</td>\n      <td>0.135537</td>\n      <td>-0.013069</td>\n      <td>-0.365905</td>\n      <td>0.465650</td>\n      <td>0.134119</td>\n      <td>0.159042</td>\n      <td>-0.066083</td>\n      <td>0.057875</td>\n      <td>-0.144406</td>\n      <td>1.086520</td>\n      <td>5</td>\n    </tr>\n    <tr>\n      <th>2</th>\n      <td>-0.307157</td>\n      <td>-0.283921</td>\n      <td>0.317442</td>\n      <td>0.030464</td>\n      <td>-0.472876</td>\n      <td>0.444820</td>\n      <td>0.139924</td>\n      <td>0.160349</td>\n      <td>-0.079831</td>\n      <td>0.288928</td>\n      <td>-0.018251</td>\n      <td>0.568301</td>\n      <td>5</td>\n    </tr>\n    <tr>\n      <th>3</th>\n      <td>-0.265276</td>\n      <td>-0.283376</td>\n      <td>0.408394</td>\n      <td>0.052230</td>\n      <td>-0.526362</td>\n      <td>0.434405</td>\n      <td>0.143001</td>\n      <td>0.160617</td>\n      <td>-0.084594</td>\n      <td>0.464769</td>\n      <td>-0.018251</td>\n      <td>0.469791</td>\n      <td>5</td>\n    </tr>\n    <tr>\n      <th>4</th>\n      <td>-0.223394</td>\n      <td>-0.282830</td>\n      <td>0.499347</td>\n      <td>0.073996</td>\n      <td>-0.579848</td>\n      <td>0.423991</td>\n      <td>0.150178</td>\n      <td>0.158528</td>\n      <td>-0.092518</td>\n      <td>0.671990</td>\n      <td>-0.073865</td>\n      <td>0.393853</td>\n      <td>5</td>\n    </tr>\n    <tr>\n      <th>...</th>\n      <td>...</td>\n      <td>...</td>\n      <td>...</td>\n      <td>...</td>\n      <td>...</td>\n      <td>...</td>\n      <td>...</td>\n      <td>...</td>\n      <td>...</td>\n      <td>...</td>\n      <td>...</td>\n      <td>...</td>\n      <td>...</td>\n    </tr>\n    <tr>\n      <th>87691</th>\n      <td>-0.157522</td>\n      <td>-0.054054</td>\n      <td>0.914476</td>\n      <td>0.003989</td>\n      <td>0.666641</td>\n      <td>-0.407184</td>\n      <td>-1.461804</td>\n      <td>0.138637</td>\n      <td>-0.074007</td>\n      <td>-0.367912</td>\n      <td>0.024476</td>\n      <td>-0.264965</td>\n      <td>2</td>\n    </tr>\n    <tr>\n      <th>87692</th>\n      <td>-0.164376</td>\n      <td>-0.053236</td>\n      <td>0.913563</td>\n      <td>0.027530</td>\n      <td>0.670721</td>\n      <td>-0.429246</td>\n      <td>-1.643139</td>\n      <td>-0.436709</td>\n      <td>0.459317</td>\n      <td>-0.364424</td>\n      <td>0.019501</td>\n      <td>-0.260860</td>\n      <td>2</td>\n    </tr>\n    <tr>\n      <th>87693</th>\n      <td>-0.178085</td>\n      <td>-0.051600</td>\n      <td>0.911737</td>\n      <td>0.074610</td>\n      <td>0.678880</td>\n      <td>-0.473369</td>\n      <td>-0.799931</td>\n      <td>-0.164340</td>\n      <td>1.550842</td>\n      <td>-0.379245</td>\n      <td>0.028576</td>\n      <td>-0.213657</td>\n      <td>2</td>\n    </tr>\n    <tr>\n      <th>87694</th>\n      <td>-0.217979</td>\n      <td>-0.056835</td>\n      <td>0.899409</td>\n      <td>0.085800</td>\n      <td>0.695197</td>\n      <td>-0.469673</td>\n      <td>0.195599</td>\n      <td>0.516707</td>\n      <td>0.879018</td>\n      <td>-0.364710</td>\n      <td>0.080966</td>\n      <td>-0.175688</td>\n      <td>2</td>\n    </tr>\n    <tr>\n      <th>87695</th>\n      <td>-0.257873</td>\n      <td>-0.062071</td>\n      <td>0.887081</td>\n      <td>0.096991</td>\n      <td>0.711515</td>\n      <td>-0.465978</td>\n      <td>0.591757</td>\n      <td>0.644388</td>\n      <td>-0.136924</td>\n      <td>-0.328377</td>\n      <td>0.138918</td>\n      <td>-0.125403</td>\n      <td>2</td>\n    </tr>\n  </tbody>\n</table>\n<p>87696 rows × 13 columns</p>\n</div>"
     },
     "metadata": {},
     "execution_count": 19
    }
   ],
   "source": [
    "scaledx"
   ]
  },
  {
   "source": [
    "## Constructing the Frames"
   ],
   "cell_type": "markdown",
   "metadata": {}
  },
  {
   "cell_type": "code",
   "execution_count": 20,
   "metadata": {},
   "outputs": [],
   "source": [
    "import scipy.stats as stats\n",
    "\n",
    "frequency=100\n",
    "frame_size = frequency*5\n",
    "hopsize = frequency*2\n",
    "\n",
    "\n"
   ]
  },
  {
   "source": [
    "#### The function frames(dataFrame,frameSize,hopsize) takes the parameters and returns the lists(ie . frames and labels) which are collection of frames and labels differing by the hopsize to get data for the duration of activity\n",
    "#### Here the duration is taken to be 5 seconds . This implies that each frame(list) has the sensor data for a duration of 5 seconds. Also each frame in frames differs by 2 seconds as calculated in the previous cell \n",
    "     "
   ],
   "cell_type": "markdown",
   "metadata": {}
  },
  {
   "cell_type": "code",
   "execution_count": 21,
   "metadata": {},
   "outputs": [],
   "source": [
    "def frames(dataFrame,frameSize,hopsize):\n",
    "    featureCount=12\n",
    "    frames=[]\n",
    "    labels=[]\n",
    "    for i in range(0,len(dataFrame)-frameSize,hopsize):\n",
    "        E1=dataFrame['E1'].values[i : i+frameSize]\n",
    "        E2=dataFrame['E2'].values[i : i+frameSize]\n",
    "        E3=dataFrame['E3'].values[i : i+frameSize]\n",
    "        E4=dataFrame['E4'].values[i : i+frameSize]\n",
    "        E5=dataFrame['E5'].values[i : i+frameSize]\n",
    "        E6=dataFrame['E6'].values[i : i+frameSize]\n",
    "        A1=dataFrame['A1'].values[i : i+frameSize]\n",
    "        A2=dataFrame['A2'].values[i : i+frameSize]\n",
    "        A3=dataFrame['A3'].values[i : i+frameSize]\n",
    "        W1=dataFrame['W1'].values[i : i+frameSize]\n",
    "        W2=dataFrame['W2'].values[i : i+frameSize]\n",
    "        W3=dataFrame['W3'].values[i : i+frameSize]\n",
    "\n",
    "\n",
    "        label= stats.mode(dataFrame['label'][i : i+frameSize])[0][0]\n",
    "        frames.append([E1, E2, E3, E4, E5, E6, A1, A2, A3, W1, W2, W3])\n",
    "        labels.append(label)\n",
    "    \n",
    "    frames=np.asarray(frames).reshape(-1,frameSize,featureCount)\n",
    "    labels=np.asarray(labels)\n",
    "    return frames,labels\n",
    "\n"
   ]
  },
  {
   "cell_type": "code",
   "execution_count": 22,
   "metadata": {},
   "outputs": [],
   "source": [
    "X,y = frames(scaledx,frame_size,hopsize)"
   ]
  },
  {
   "source": [
    "#### Here we are getting 436 frames with each frame of size (500,12) i.e 500 entries with 12 features(classes) and the corresponding labels. That is each frame has a distinct label which is calculated with the help of taking mode of labels for the activity as in previous cell"
   ],
   "cell_type": "markdown",
   "metadata": {}
  },
  {
   "cell_type": "code",
   "execution_count": 23,
   "metadata": {},
   "outputs": [
    {
     "output_type": "execute_result",
     "data": {
      "text/plain": [
       "((436, 500, 12), (436,))"
      ]
     },
     "metadata": {},
     "execution_count": 23
    }
   ],
   "source": [
    "X.shape , y.shape"
   ]
  },
  {
   "cell_type": "code",
   "execution_count": 24,
   "metadata": {},
   "outputs": [],
   "source": [
    "from sklearn.model_selection import train_test_split\n",
    "X_train,X_test,y_train,y_test= train_test_split(X,y , test_size=0.3,random_state=0, stratify= y)"
   ]
  },
  {
   "cell_type": "code",
   "execution_count": 25,
   "metadata": {},
   "outputs": [
    {
     "output_type": "execute_result",
     "data": {
      "text/plain": [
       "((305, 500, 12), (131, 500, 12))"
      ]
     },
     "metadata": {},
     "execution_count": 25
    }
   ],
   "source": [
    "X_train.shape,X_test.shape"
   ]
  },
  {
   "cell_type": "code",
   "execution_count": 26,
   "metadata": {},
   "outputs": [
    {
     "output_type": "execute_result",
     "data": {
      "text/plain": [
       "(500, 12)"
      ]
     },
     "metadata": {},
     "execution_count": 26
    }
   ],
   "source": [
    "X_train[0].shape"
   ]
  },
  {
   "cell_type": "code",
   "execution_count": 27,
   "metadata": {},
   "outputs": [],
   "source": [
    "#### The model is implementing Conv2D layer and hence it requires data of 3 dimensions at least. The train and testing data is reshaped below"
   ]
  },
  {
   "cell_type": "code",
   "execution_count": 28,
   "metadata": {},
   "outputs": [],
   "source": [
    "X_train=X_train.reshape(305, 500, 12, 1)\n",
    "X_test=X_test.reshape(131, 500, 12,1)\n"
   ]
  },
  {
   "cell_type": "code",
   "execution_count": 29,
   "metadata": {},
   "outputs": [
    {
     "output_type": "execute_result",
     "data": {
      "text/plain": [
       "(500, 12, 1)"
      ]
     },
     "metadata": {},
     "execution_count": 29
    }
   ],
   "source": [
    "X_train[0].shape"
   ]
  },
  {
   "source": [
    "# Building the model"
   ],
   "cell_type": "markdown",
   "metadata": {}
  },
  {
   "cell_type": "code",
   "execution_count": 30,
   "metadata": {},
   "outputs": [],
   "source": [
    "from keras import Sequential\n",
    "from keras.layers import Conv2D,Dense,Dropout,Flatten,ReLU,BatchNormalization,MaxPool2D\n",
    "from keras.optimizers import Adam\n",
    "from keras.losses import sparse_categorical_crossentropy\n",
    "model = Sequential()\n",
    "model.add(Conv2D(filters=16,kernel_size=(2,2),activation='relu',input_shape=X_train[0].shape))\n",
    "\n",
    "model.add(Dropout(0.1))\n",
    "\n",
    "model.add(Conv2D(32,(2,2),activation='relu'))\n",
    "\n",
    "model.add(Dropout(0.2))\n",
    "\n",
    "model.add(Flatten())\n",
    "\n",
    "model.add(Dense(512, activation='relu'))\n",
    "\n",
    "model.add(Dropout(0.4))\n",
    "\n",
    "model.add(Dense(6,activation='softmax'))\n"
   ]
  },
  {
   "cell_type": "code",
   "execution_count": 31,
   "metadata": {},
   "outputs": [],
   "source": [
    "model.compile(optimizer=Adam(learning_rate=0.001),loss='sparse_categorical_crossentropy',metrics=['accuracy'])"
   ]
  },
  {
   "cell_type": "code",
   "execution_count": 32,
   "metadata": {},
   "outputs": [
    {
     "output_type": "stream",
     "name": "stdout",
     "text": [
      "Epoch 1/10\n",
      "10/10 [==============================] - 4s 422ms/step - loss: 8.8157 - accuracy: 0.3738 - val_loss: 1.5642 - val_accuracy: 0.7023\n",
      "Epoch 2/10\n",
      "10/10 [==============================] - 4s 406ms/step - loss: 1.2487 - accuracy: 0.7869 - val_loss: 0.5259 - val_accuracy: 0.8550\n",
      "Epoch 3/10\n",
      "10/10 [==============================] - 4s 396ms/step - loss: 0.3538 - accuracy: 0.9213 - val_loss: 0.2499 - val_accuracy: 0.9389\n",
      "Epoch 4/10\n",
      "10/10 [==============================] - 4s 386ms/step - loss: 0.0373 - accuracy: 0.9836 - val_loss: 0.2096 - val_accuracy: 0.9466\n",
      "Epoch 5/10\n",
      "10/10 [==============================] - 4s 396ms/step - loss: 0.0166 - accuracy: 0.9967 - val_loss: 0.1970 - val_accuracy: 0.9542\n",
      "Epoch 6/10\n",
      "10/10 [==============================] - 4s 395ms/step - loss: 0.0114 - accuracy: 0.9967 - val_loss: 0.1720 - val_accuracy: 0.9542\n",
      "Epoch 7/10\n",
      "10/10 [==============================] - 4s 395ms/step - loss: 0.0043 - accuracy: 1.0000 - val_loss: 0.1553 - val_accuracy: 0.9695\n",
      "Epoch 8/10\n",
      "10/10 [==============================] - 4s 399ms/step - loss: 0.0050 - accuracy: 1.0000 - val_loss: 0.1496 - val_accuracy: 0.9771\n",
      "Epoch 9/10\n",
      "10/10 [==============================] - 4s 405ms/step - loss: 0.0043 - accuracy: 1.0000 - val_loss: 0.1456 - val_accuracy: 0.9771\n",
      "Epoch 10/10\n",
      "10/10 [==============================] - 4s 411ms/step - loss: 0.0013 - accuracy: 1.0000 - val_loss: 0.1465 - val_accuracy: 0.9771\n"
     ]
    }
   ],
   "source": [
    "history=model.fit(X_train,y_train,epochs=10,validation_data=(X_test,y_test),verbose=1)"
   ]
  },
  {
   "source": [
    "### Plotting the learning curve"
   ],
   "cell_type": "markdown",
   "metadata": {}
  },
  {
   "cell_type": "code",
   "execution_count": 33,
   "metadata": {},
   "outputs": [],
   "source": [
    "import matplotlib.pyplot as plt\n",
    "def plotCurve(history,epochs):\n",
    "    epoc_range=range(1,epochs+1)\n",
    "    plt.plot(epoc_range,history.history['accuracy'])\n",
    "    plt.plot(epoc_range,history.history['val_accuracy'])\n",
    "    plt.title('Model Accuracy')\n",
    "    plt.xlabel('Epoch')\n",
    "    plt.ylabel('Accuracy')\n",
    "    plt.legend(['Train','Val'])\n",
    "    plt.show()\n",
    "\n",
    "\n",
    "    plt.plot(epoc_range,history.history['loss'])\n",
    "    plt.plot(epoc_range,history.history['val_loss'])\n",
    "    plt.title('Model loss')\n",
    "    plt.xlabel('Epoch')\n",
    "    plt.ylabel('Loss')\n",
    "    plt.legend(['Train','Val'])\n",
    "    plt.show()\n",
    "\n",
    "\n"
   ]
  },
  {
   "cell_type": "code",
   "execution_count": 34,
   "metadata": {},
   "outputs": [
    {
     "output_type": "display_data",
     "data": {
      "text/plain": "<Figure size 432x288 with 1 Axes>",
      "image/svg+xml": "<?xml version=\"1.0\" encoding=\"utf-8\" standalone=\"no\"?>\r\n<!DOCTYPE svg PUBLIC \"-//W3C//DTD SVG 1.1//EN\"\r\n  \"http://www.w3.org/Graphics/SVG/1.1/DTD/svg11.dtd\">\r\n<!-- Created with matplotlib (https://matplotlib.org/) -->\r\n<svg height=\"277.314375pt\" version=\"1.1\" viewBox=\"0 0 385.78125 277.314375\" width=\"385.78125pt\" xmlns=\"http://www.w3.org/2000/svg\" xmlns:xlink=\"http://www.w3.org/1999/xlink\">\r\n <metadata>\r\n  <rdf:RDF xmlns:cc=\"http://creativecommons.org/ns#\" xmlns:dc=\"http://purl.org/dc/elements/1.1/\" xmlns:rdf=\"http://www.w3.org/1999/02/22-rdf-syntax-ns#\">\r\n   <cc:Work>\r\n    <dc:type rdf:resource=\"http://purl.org/dc/dcmitype/StillImage\"/>\r\n    <dc:date>2021-06-10T18:33:02.330359</dc:date>\r\n    <dc:format>image/svg+xml</dc:format>\r\n    <dc:creator>\r\n     <cc:Agent>\r\n      <dc:title>Matplotlib v3.3.4, https://matplotlib.org/</dc:title>\r\n     </cc:Agent>\r\n    </dc:creator>\r\n   </cc:Work>\r\n  </rdf:RDF>\r\n </metadata>\r\n <defs>\r\n  <style type=\"text/css\">*{stroke-linecap:butt;stroke-linejoin:round;}</style>\r\n </defs>\r\n <g id=\"figure_1\">\r\n  <g id=\"patch_1\">\r\n   <path d=\"M 0 277.314375 \r\nL 385.78125 277.314375 \r\nL 385.78125 0 \r\nL 0 0 \r\nz\r\n\" style=\"fill:none;\"/>\r\n  </g>\r\n  <g id=\"axes_1\">\r\n   <g id=\"patch_2\">\r\n    <path d=\"M 43.78125 239.758125 \r\nL 378.58125 239.758125 \r\nL 378.58125 22.318125 \r\nL 43.78125 22.318125 \r\nz\r\n\" style=\"fill:#ffffff;\"/>\r\n   </g>\r\n   <g id=\"matplotlib.axis_1\">\r\n    <g id=\"xtick_1\">\r\n     <g id=\"line2d_1\">\r\n      <defs>\r\n       <path d=\"M 0 0 \r\nL 0 3.5 \r\n\" id=\"m0d78f92bab\" style=\"stroke:#000000;stroke-width:0.8;\"/>\r\n      </defs>\r\n      <g>\r\n       <use style=\"stroke:#000000;stroke-width:0.8;\" x=\"92.817614\" xlink:href=\"#m0d78f92bab\" y=\"239.758125\"/>\r\n      </g>\r\n     </g>\r\n     <g id=\"text_1\">\r\n      <!-- 2 -->\r\n      <g transform=\"translate(89.636364 254.356562)scale(0.1 -0.1)\">\r\n       <defs>\r\n        <path d=\"M 19.1875 8.296875 \r\nL 53.609375 8.296875 \r\nL 53.609375 0 \r\nL 7.328125 0 \r\nL 7.328125 8.296875 \r\nQ 12.9375 14.109375 22.625 23.890625 \r\nQ 32.328125 33.6875 34.8125 36.53125 \r\nQ 39.546875 41.84375 41.421875 45.53125 \r\nQ 43.3125 49.21875 43.3125 52.78125 \r\nQ 43.3125 58.59375 39.234375 62.25 \r\nQ 35.15625 65.921875 28.609375 65.921875 \r\nQ 23.96875 65.921875 18.8125 64.3125 \r\nQ 13.671875 62.703125 7.8125 59.421875 \r\nL 7.8125 69.390625 \r\nQ 13.765625 71.78125 18.9375 73 \r\nQ 24.125 74.21875 28.421875 74.21875 \r\nQ 39.75 74.21875 46.484375 68.546875 \r\nQ 53.21875 62.890625 53.21875 53.421875 \r\nQ 53.21875 48.921875 51.53125 44.890625 \r\nQ 49.859375 40.875 45.40625 35.40625 \r\nQ 44.1875 33.984375 37.640625 27.21875 \r\nQ 31.109375 20.453125 19.1875 8.296875 \r\nz\r\n\" id=\"DejaVuSans-50\"/>\r\n       </defs>\r\n       <use xlink:href=\"#DejaVuSans-50\"/>\r\n      </g>\r\n     </g>\r\n    </g>\r\n    <g id=\"xtick_2\">\r\n     <g id=\"line2d_2\">\r\n      <g>\r\n       <use style=\"stroke:#000000;stroke-width:0.8;\" x=\"160.453977\" xlink:href=\"#m0d78f92bab\" y=\"239.758125\"/>\r\n      </g>\r\n     </g>\r\n     <g id=\"text_2\">\r\n      <!-- 4 -->\r\n      <g transform=\"translate(157.272727 254.356562)scale(0.1 -0.1)\">\r\n       <defs>\r\n        <path d=\"M 37.796875 64.3125 \r\nL 12.890625 25.390625 \r\nL 37.796875 25.390625 \r\nz\r\nM 35.203125 72.90625 \r\nL 47.609375 72.90625 \r\nL 47.609375 25.390625 \r\nL 58.015625 25.390625 \r\nL 58.015625 17.1875 \r\nL 47.609375 17.1875 \r\nL 47.609375 0 \r\nL 37.796875 0 \r\nL 37.796875 17.1875 \r\nL 4.890625 17.1875 \r\nL 4.890625 26.703125 \r\nz\r\n\" id=\"DejaVuSans-52\"/>\r\n       </defs>\r\n       <use xlink:href=\"#DejaVuSans-52\"/>\r\n      </g>\r\n     </g>\r\n    </g>\r\n    <g id=\"xtick_3\">\r\n     <g id=\"line2d_3\">\r\n      <g>\r\n       <use style=\"stroke:#000000;stroke-width:0.8;\" x=\"228.090341\" xlink:href=\"#m0d78f92bab\" y=\"239.758125\"/>\r\n      </g>\r\n     </g>\r\n     <g id=\"text_3\">\r\n      <!-- 6 -->\r\n      <g transform=\"translate(224.909091 254.356562)scale(0.1 -0.1)\">\r\n       <defs>\r\n        <path d=\"M 33.015625 40.375 \r\nQ 26.375 40.375 22.484375 35.828125 \r\nQ 18.609375 31.296875 18.609375 23.390625 \r\nQ 18.609375 15.53125 22.484375 10.953125 \r\nQ 26.375 6.390625 33.015625 6.390625 \r\nQ 39.65625 6.390625 43.53125 10.953125 \r\nQ 47.40625 15.53125 47.40625 23.390625 \r\nQ 47.40625 31.296875 43.53125 35.828125 \r\nQ 39.65625 40.375 33.015625 40.375 \r\nz\r\nM 52.59375 71.296875 \r\nL 52.59375 62.3125 \r\nQ 48.875 64.0625 45.09375 64.984375 \r\nQ 41.3125 65.921875 37.59375 65.921875 \r\nQ 27.828125 65.921875 22.671875 59.328125 \r\nQ 17.53125 52.734375 16.796875 39.40625 \r\nQ 19.671875 43.65625 24.015625 45.921875 \r\nQ 28.375 48.1875 33.59375 48.1875 \r\nQ 44.578125 48.1875 50.953125 41.515625 \r\nQ 57.328125 34.859375 57.328125 23.390625 \r\nQ 57.328125 12.15625 50.6875 5.359375 \r\nQ 44.046875 -1.421875 33.015625 -1.421875 \r\nQ 20.359375 -1.421875 13.671875 8.265625 \r\nQ 6.984375 17.96875 6.984375 36.375 \r\nQ 6.984375 53.65625 15.1875 63.9375 \r\nQ 23.390625 74.21875 37.203125 74.21875 \r\nQ 40.921875 74.21875 44.703125 73.484375 \r\nQ 48.484375 72.75 52.59375 71.296875 \r\nz\r\n\" id=\"DejaVuSans-54\"/>\r\n       </defs>\r\n       <use xlink:href=\"#DejaVuSans-54\"/>\r\n      </g>\r\n     </g>\r\n    </g>\r\n    <g id=\"xtick_4\">\r\n     <g id=\"line2d_4\">\r\n      <g>\r\n       <use style=\"stroke:#000000;stroke-width:0.8;\" x=\"295.726705\" xlink:href=\"#m0d78f92bab\" y=\"239.758125\"/>\r\n      </g>\r\n     </g>\r\n     <g id=\"text_4\">\r\n      <!-- 8 -->\r\n      <g transform=\"translate(292.545455 254.356562)scale(0.1 -0.1)\">\r\n       <defs>\r\n        <path d=\"M 31.78125 34.625 \r\nQ 24.75 34.625 20.71875 30.859375 \r\nQ 16.703125 27.09375 16.703125 20.515625 \r\nQ 16.703125 13.921875 20.71875 10.15625 \r\nQ 24.75 6.390625 31.78125 6.390625 \r\nQ 38.8125 6.390625 42.859375 10.171875 \r\nQ 46.921875 13.96875 46.921875 20.515625 \r\nQ 46.921875 27.09375 42.890625 30.859375 \r\nQ 38.875 34.625 31.78125 34.625 \r\nz\r\nM 21.921875 38.8125 \r\nQ 15.578125 40.375 12.03125 44.71875 \r\nQ 8.5 49.078125 8.5 55.328125 \r\nQ 8.5 64.0625 14.71875 69.140625 \r\nQ 20.953125 74.21875 31.78125 74.21875 \r\nQ 42.671875 74.21875 48.875 69.140625 \r\nQ 55.078125 64.0625 55.078125 55.328125 \r\nQ 55.078125 49.078125 51.53125 44.71875 \r\nQ 48 40.375 41.703125 38.8125 \r\nQ 48.828125 37.15625 52.796875 32.3125 \r\nQ 56.78125 27.484375 56.78125 20.515625 \r\nQ 56.78125 9.90625 50.3125 4.234375 \r\nQ 43.84375 -1.421875 31.78125 -1.421875 \r\nQ 19.734375 -1.421875 13.25 4.234375 \r\nQ 6.78125 9.90625 6.78125 20.515625 \r\nQ 6.78125 27.484375 10.78125 32.3125 \r\nQ 14.796875 37.15625 21.921875 38.8125 \r\nz\r\nM 18.3125 54.390625 \r\nQ 18.3125 48.734375 21.84375 45.5625 \r\nQ 25.390625 42.390625 31.78125 42.390625 \r\nQ 38.140625 42.390625 41.71875 45.5625 \r\nQ 45.3125 48.734375 45.3125 54.390625 \r\nQ 45.3125 60.0625 41.71875 63.234375 \r\nQ 38.140625 66.40625 31.78125 66.40625 \r\nQ 25.390625 66.40625 21.84375 63.234375 \r\nQ 18.3125 60.0625 18.3125 54.390625 \r\nz\r\n\" id=\"DejaVuSans-56\"/>\r\n       </defs>\r\n       <use xlink:href=\"#DejaVuSans-56\"/>\r\n      </g>\r\n     </g>\r\n    </g>\r\n    <g id=\"xtick_5\">\r\n     <g id=\"line2d_5\">\r\n      <g>\r\n       <use style=\"stroke:#000000;stroke-width:0.8;\" x=\"363.363068\" xlink:href=\"#m0d78f92bab\" y=\"239.758125\"/>\r\n      </g>\r\n     </g>\r\n     <g id=\"text_5\">\r\n      <!-- 10 -->\r\n      <g transform=\"translate(357.000568 254.356562)scale(0.1 -0.1)\">\r\n       <defs>\r\n        <path d=\"M 12.40625 8.296875 \r\nL 28.515625 8.296875 \r\nL 28.515625 63.921875 \r\nL 10.984375 60.40625 \r\nL 10.984375 69.390625 \r\nL 28.421875 72.90625 \r\nL 38.28125 72.90625 \r\nL 38.28125 8.296875 \r\nL 54.390625 8.296875 \r\nL 54.390625 0 \r\nL 12.40625 0 \r\nz\r\n\" id=\"DejaVuSans-49\"/>\r\n        <path d=\"M 31.78125 66.40625 \r\nQ 24.171875 66.40625 20.328125 58.90625 \r\nQ 16.5 51.421875 16.5 36.375 \r\nQ 16.5 21.390625 20.328125 13.890625 \r\nQ 24.171875 6.390625 31.78125 6.390625 \r\nQ 39.453125 6.390625 43.28125 13.890625 \r\nQ 47.125 21.390625 47.125 36.375 \r\nQ 47.125 51.421875 43.28125 58.90625 \r\nQ 39.453125 66.40625 31.78125 66.40625 \r\nz\r\nM 31.78125 74.21875 \r\nQ 44.046875 74.21875 50.515625 64.515625 \r\nQ 56.984375 54.828125 56.984375 36.375 \r\nQ 56.984375 17.96875 50.515625 8.265625 \r\nQ 44.046875 -1.421875 31.78125 -1.421875 \r\nQ 19.53125 -1.421875 13.0625 8.265625 \r\nQ 6.59375 17.96875 6.59375 36.375 \r\nQ 6.59375 54.828125 13.0625 64.515625 \r\nQ 19.53125 74.21875 31.78125 74.21875 \r\nz\r\n\" id=\"DejaVuSans-48\"/>\r\n       </defs>\r\n       <use xlink:href=\"#DejaVuSans-49\"/>\r\n       <use x=\"63.623047\" xlink:href=\"#DejaVuSans-48\"/>\r\n      </g>\r\n     </g>\r\n    </g>\r\n    <g id=\"text_6\">\r\n     <!-- Epoch -->\r\n     <g transform=\"translate(195.870313 268.034687)scale(0.1 -0.1)\">\r\n      <defs>\r\n       <path d=\"M 9.8125 72.90625 \r\nL 55.90625 72.90625 \r\nL 55.90625 64.59375 \r\nL 19.671875 64.59375 \r\nL 19.671875 43.015625 \r\nL 54.390625 43.015625 \r\nL 54.390625 34.71875 \r\nL 19.671875 34.71875 \r\nL 19.671875 8.296875 \r\nL 56.78125 8.296875 \r\nL 56.78125 0 \r\nL 9.8125 0 \r\nz\r\n\" id=\"DejaVuSans-69\"/>\r\n       <path d=\"M 18.109375 8.203125 \r\nL 18.109375 -20.796875 \r\nL 9.078125 -20.796875 \r\nL 9.078125 54.6875 \r\nL 18.109375 54.6875 \r\nL 18.109375 46.390625 \r\nQ 20.953125 51.265625 25.265625 53.625 \r\nQ 29.59375 56 35.59375 56 \r\nQ 45.5625 56 51.78125 48.09375 \r\nQ 58.015625 40.1875 58.015625 27.296875 \r\nQ 58.015625 14.40625 51.78125 6.484375 \r\nQ 45.5625 -1.421875 35.59375 -1.421875 \r\nQ 29.59375 -1.421875 25.265625 0.953125 \r\nQ 20.953125 3.328125 18.109375 8.203125 \r\nz\r\nM 48.6875 27.296875 \r\nQ 48.6875 37.203125 44.609375 42.84375 \r\nQ 40.53125 48.484375 33.40625 48.484375 \r\nQ 26.265625 48.484375 22.1875 42.84375 \r\nQ 18.109375 37.203125 18.109375 27.296875 \r\nQ 18.109375 17.390625 22.1875 11.75 \r\nQ 26.265625 6.109375 33.40625 6.109375 \r\nQ 40.53125 6.109375 44.609375 11.75 \r\nQ 48.6875 17.390625 48.6875 27.296875 \r\nz\r\n\" id=\"DejaVuSans-112\"/>\r\n       <path d=\"M 30.609375 48.390625 \r\nQ 23.390625 48.390625 19.1875 42.75 \r\nQ 14.984375 37.109375 14.984375 27.296875 \r\nQ 14.984375 17.484375 19.15625 11.84375 \r\nQ 23.34375 6.203125 30.609375 6.203125 \r\nQ 37.796875 6.203125 41.984375 11.859375 \r\nQ 46.1875 17.53125 46.1875 27.296875 \r\nQ 46.1875 37.015625 41.984375 42.703125 \r\nQ 37.796875 48.390625 30.609375 48.390625 \r\nz\r\nM 30.609375 56 \r\nQ 42.328125 56 49.015625 48.375 \r\nQ 55.71875 40.765625 55.71875 27.296875 \r\nQ 55.71875 13.875 49.015625 6.21875 \r\nQ 42.328125 -1.421875 30.609375 -1.421875 \r\nQ 18.84375 -1.421875 12.171875 6.21875 \r\nQ 5.515625 13.875 5.515625 27.296875 \r\nQ 5.515625 40.765625 12.171875 48.375 \r\nQ 18.84375 56 30.609375 56 \r\nz\r\n\" id=\"DejaVuSans-111\"/>\r\n       <path d=\"M 48.78125 52.59375 \r\nL 48.78125 44.1875 \r\nQ 44.96875 46.296875 41.140625 47.34375 \r\nQ 37.3125 48.390625 33.40625 48.390625 \r\nQ 24.65625 48.390625 19.8125 42.84375 \r\nQ 14.984375 37.3125 14.984375 27.296875 \r\nQ 14.984375 17.28125 19.8125 11.734375 \r\nQ 24.65625 6.203125 33.40625 6.203125 \r\nQ 37.3125 6.203125 41.140625 7.25 \r\nQ 44.96875 8.296875 48.78125 10.40625 \r\nL 48.78125 2.09375 \r\nQ 45.015625 0.34375 40.984375 -0.53125 \r\nQ 36.96875 -1.421875 32.421875 -1.421875 \r\nQ 20.0625 -1.421875 12.78125 6.34375 \r\nQ 5.515625 14.109375 5.515625 27.296875 \r\nQ 5.515625 40.671875 12.859375 48.328125 \r\nQ 20.21875 56 33.015625 56 \r\nQ 37.15625 56 41.109375 55.140625 \r\nQ 45.0625 54.296875 48.78125 52.59375 \r\nz\r\n\" id=\"DejaVuSans-99\"/>\r\n       <path d=\"M 54.890625 33.015625 \r\nL 54.890625 0 \r\nL 45.90625 0 \r\nL 45.90625 32.71875 \r\nQ 45.90625 40.484375 42.875 44.328125 \r\nQ 39.84375 48.1875 33.796875 48.1875 \r\nQ 26.515625 48.1875 22.3125 43.546875 \r\nQ 18.109375 38.921875 18.109375 30.90625 \r\nL 18.109375 0 \r\nL 9.078125 0 \r\nL 9.078125 75.984375 \r\nL 18.109375 75.984375 \r\nL 18.109375 46.1875 \r\nQ 21.34375 51.125 25.703125 53.5625 \r\nQ 30.078125 56 35.796875 56 \r\nQ 45.21875 56 50.046875 50.171875 \r\nQ 54.890625 44.34375 54.890625 33.015625 \r\nz\r\n\" id=\"DejaVuSans-104\"/>\r\n      </defs>\r\n      <use xlink:href=\"#DejaVuSans-69\"/>\r\n      <use x=\"63.183594\" xlink:href=\"#DejaVuSans-112\"/>\r\n      <use x=\"126.660156\" xlink:href=\"#DejaVuSans-111\"/>\r\n      <use x=\"187.841797\" xlink:href=\"#DejaVuSans-99\"/>\r\n      <use x=\"242.822266\" xlink:href=\"#DejaVuSans-104\"/>\r\n     </g>\r\n    </g>\r\n   </g>\r\n   <g id=\"matplotlib.axis_2\">\r\n    <g id=\"ytick_1\">\r\n     <g id=\"line2d_6\">\r\n      <defs>\r\n       <path d=\"M 0 0 \r\nL -3.5 0 \r\n\" id=\"m5a63e31033\" style=\"stroke:#000000;stroke-width:0.8;\"/>\r\n      </defs>\r\n      <g>\r\n       <use style=\"stroke:#000000;stroke-width:0.8;\" x=\"43.78125\" xlink:href=\"#m5a63e31033\" y=\"221.595007\"/>\r\n      </g>\r\n     </g>\r\n     <g id=\"text_7\">\r\n      <!-- 0.4 -->\r\n      <g transform=\"translate(20.878125 225.394225)scale(0.1 -0.1)\">\r\n       <defs>\r\n        <path d=\"M 10.6875 12.40625 \r\nL 21 12.40625 \r\nL 21 0 \r\nL 10.6875 0 \r\nz\r\n\" id=\"DejaVuSans-46\"/>\r\n       </defs>\r\n       <use xlink:href=\"#DejaVuSans-48\"/>\r\n       <use x=\"63.623047\" xlink:href=\"#DejaVuSans-46\"/>\r\n       <use x=\"95.410156\" xlink:href=\"#DejaVuSans-52\"/>\r\n      </g>\r\n     </g>\r\n    </g>\r\n    <g id=\"ytick_2\">\r\n     <g id=\"line2d_7\">\r\n      <g>\r\n       <use style=\"stroke:#000000;stroke-width:0.8;\" x=\"43.78125\" xlink:href=\"#m5a63e31033\" y=\"190.029466\"/>\r\n      </g>\r\n     </g>\r\n     <g id=\"text_8\">\r\n      <!-- 0.5 -->\r\n      <g transform=\"translate(20.878125 193.828685)scale(0.1 -0.1)\">\r\n       <defs>\r\n        <path d=\"M 10.796875 72.90625 \r\nL 49.515625 72.90625 \r\nL 49.515625 64.59375 \r\nL 19.828125 64.59375 \r\nL 19.828125 46.734375 \r\nQ 21.96875 47.46875 24.109375 47.828125 \r\nQ 26.265625 48.1875 28.421875 48.1875 \r\nQ 40.625 48.1875 47.75 41.5 \r\nQ 54.890625 34.8125 54.890625 23.390625 \r\nQ 54.890625 11.625 47.5625 5.09375 \r\nQ 40.234375 -1.421875 26.90625 -1.421875 \r\nQ 22.3125 -1.421875 17.546875 -0.640625 \r\nQ 12.796875 0.140625 7.71875 1.703125 \r\nL 7.71875 11.625 \r\nQ 12.109375 9.234375 16.796875 8.0625 \r\nQ 21.484375 6.890625 26.703125 6.890625 \r\nQ 35.15625 6.890625 40.078125 11.328125 \r\nQ 45.015625 15.765625 45.015625 23.390625 \r\nQ 45.015625 31 40.078125 35.4375 \r\nQ 35.15625 39.890625 26.703125 39.890625 \r\nQ 22.75 39.890625 18.8125 39.015625 \r\nQ 14.890625 38.140625 10.796875 36.28125 \r\nz\r\n\" id=\"DejaVuSans-53\"/>\r\n       </defs>\r\n       <use xlink:href=\"#DejaVuSans-48\"/>\r\n       <use x=\"63.623047\" xlink:href=\"#DejaVuSans-46\"/>\r\n       <use x=\"95.410156\" xlink:href=\"#DejaVuSans-53\"/>\r\n      </g>\r\n     </g>\r\n    </g>\r\n    <g id=\"ytick_3\">\r\n     <g id=\"line2d_8\">\r\n      <g>\r\n       <use style=\"stroke:#000000;stroke-width:0.8;\" x=\"43.78125\" xlink:href=\"#m5a63e31033\" y=\"158.463925\"/>\r\n      </g>\r\n     </g>\r\n     <g id=\"text_9\">\r\n      <!-- 0.6 -->\r\n      <g transform=\"translate(20.878125 162.263144)scale(0.1 -0.1)\">\r\n       <use xlink:href=\"#DejaVuSans-48\"/>\r\n       <use x=\"63.623047\" xlink:href=\"#DejaVuSans-46\"/>\r\n       <use x=\"95.410156\" xlink:href=\"#DejaVuSans-54\"/>\r\n      </g>\r\n     </g>\r\n    </g>\r\n    <g id=\"ytick_4\">\r\n     <g id=\"line2d_9\">\r\n      <g>\r\n       <use style=\"stroke:#000000;stroke-width:0.8;\" x=\"43.78125\" xlink:href=\"#m5a63e31033\" y=\"126.898384\"/>\r\n      </g>\r\n     </g>\r\n     <g id=\"text_10\">\r\n      <!-- 0.7 -->\r\n      <g transform=\"translate(20.878125 130.697603)scale(0.1 -0.1)\">\r\n       <defs>\r\n        <path d=\"M 8.203125 72.90625 \r\nL 55.078125 72.90625 \r\nL 55.078125 68.703125 \r\nL 28.609375 0 \r\nL 18.3125 0 \r\nL 43.21875 64.59375 \r\nL 8.203125 64.59375 \r\nz\r\n\" id=\"DejaVuSans-55\"/>\r\n       </defs>\r\n       <use xlink:href=\"#DejaVuSans-48\"/>\r\n       <use x=\"63.623047\" xlink:href=\"#DejaVuSans-46\"/>\r\n       <use x=\"95.410156\" xlink:href=\"#DejaVuSans-55\"/>\r\n      </g>\r\n     </g>\r\n    </g>\r\n    <g id=\"ytick_5\">\r\n     <g id=\"line2d_10\">\r\n      <g>\r\n       <use style=\"stroke:#000000;stroke-width:0.8;\" x=\"43.78125\" xlink:href=\"#m5a63e31033\" y=\"95.332843\"/>\r\n      </g>\r\n     </g>\r\n     <g id=\"text_11\">\r\n      <!-- 0.8 -->\r\n      <g transform=\"translate(20.878125 99.132062)scale(0.1 -0.1)\">\r\n       <use xlink:href=\"#DejaVuSans-48\"/>\r\n       <use x=\"63.623047\" xlink:href=\"#DejaVuSans-46\"/>\r\n       <use x=\"95.410156\" xlink:href=\"#DejaVuSans-56\"/>\r\n      </g>\r\n     </g>\r\n    </g>\r\n    <g id=\"ytick_6\">\r\n     <g id=\"line2d_11\">\r\n      <g>\r\n       <use style=\"stroke:#000000;stroke-width:0.8;\" x=\"43.78125\" xlink:href=\"#m5a63e31033\" y=\"63.767302\"/>\r\n      </g>\r\n     </g>\r\n     <g id=\"text_12\">\r\n      <!-- 0.9 -->\r\n      <g transform=\"translate(20.878125 67.566521)scale(0.1 -0.1)\">\r\n       <defs>\r\n        <path d=\"M 10.984375 1.515625 \r\nL 10.984375 10.5 \r\nQ 14.703125 8.734375 18.5 7.8125 \r\nQ 22.3125 6.890625 25.984375 6.890625 \r\nQ 35.75 6.890625 40.890625 13.453125 \r\nQ 46.046875 20.015625 46.78125 33.40625 \r\nQ 43.953125 29.203125 39.59375 26.953125 \r\nQ 35.25 24.703125 29.984375 24.703125 \r\nQ 19.046875 24.703125 12.671875 31.3125 \r\nQ 6.296875 37.9375 6.296875 49.421875 \r\nQ 6.296875 60.640625 12.9375 67.421875 \r\nQ 19.578125 74.21875 30.609375 74.21875 \r\nQ 43.265625 74.21875 49.921875 64.515625 \r\nQ 56.59375 54.828125 56.59375 36.375 \r\nQ 56.59375 19.140625 48.40625 8.859375 \r\nQ 40.234375 -1.421875 26.421875 -1.421875 \r\nQ 22.703125 -1.421875 18.890625 -0.6875 \r\nQ 15.09375 0.046875 10.984375 1.515625 \r\nz\r\nM 30.609375 32.421875 \r\nQ 37.25 32.421875 41.125 36.953125 \r\nQ 45.015625 41.5 45.015625 49.421875 \r\nQ 45.015625 57.28125 41.125 61.84375 \r\nQ 37.25 66.40625 30.609375 66.40625 \r\nQ 23.96875 66.40625 20.09375 61.84375 \r\nQ 16.21875 57.28125 16.21875 49.421875 \r\nQ 16.21875 41.5 20.09375 36.953125 \r\nQ 23.96875 32.421875 30.609375 32.421875 \r\nz\r\n\" id=\"DejaVuSans-57\"/>\r\n       </defs>\r\n       <use xlink:href=\"#DejaVuSans-48\"/>\r\n       <use x=\"63.623047\" xlink:href=\"#DejaVuSans-46\"/>\r\n       <use x=\"95.410156\" xlink:href=\"#DejaVuSans-57\"/>\r\n      </g>\r\n     </g>\r\n    </g>\r\n    <g id=\"ytick_7\">\r\n     <g id=\"line2d_12\">\r\n      <g>\r\n       <use style=\"stroke:#000000;stroke-width:0.8;\" x=\"43.78125\" xlink:href=\"#m5a63e31033\" y=\"32.201761\"/>\r\n      </g>\r\n     </g>\r\n     <g id=\"text_13\">\r\n      <!-- 1.0 -->\r\n      <g transform=\"translate(20.878125 36.00098)scale(0.1 -0.1)\">\r\n       <use xlink:href=\"#DejaVuSans-49\"/>\r\n       <use x=\"63.623047\" xlink:href=\"#DejaVuSans-46\"/>\r\n       <use x=\"95.410156\" xlink:href=\"#DejaVuSans-48\"/>\r\n      </g>\r\n     </g>\r\n    </g>\r\n    <g id=\"text_14\">\r\n     <!-- Accuracy -->\r\n     <g transform=\"translate(14.798438 153.86625)rotate(-90)scale(0.1 -0.1)\">\r\n      <defs>\r\n       <path d=\"M 34.1875 63.1875 \r\nL 20.796875 26.90625 \r\nL 47.609375 26.90625 \r\nz\r\nM 28.609375 72.90625 \r\nL 39.796875 72.90625 \r\nL 67.578125 0 \r\nL 57.328125 0 \r\nL 50.6875 18.703125 \r\nL 17.828125 18.703125 \r\nL 11.1875 0 \r\nL 0.78125 0 \r\nz\r\n\" id=\"DejaVuSans-65\"/>\r\n       <path d=\"M 8.5 21.578125 \r\nL 8.5 54.6875 \r\nL 17.484375 54.6875 \r\nL 17.484375 21.921875 \r\nQ 17.484375 14.15625 20.5 10.265625 \r\nQ 23.53125 6.390625 29.59375 6.390625 \r\nQ 36.859375 6.390625 41.078125 11.03125 \r\nQ 45.3125 15.671875 45.3125 23.6875 \r\nL 45.3125 54.6875 \r\nL 54.296875 54.6875 \r\nL 54.296875 0 \r\nL 45.3125 0 \r\nL 45.3125 8.40625 \r\nQ 42.046875 3.421875 37.71875 1 \r\nQ 33.40625 -1.421875 27.6875 -1.421875 \r\nQ 18.265625 -1.421875 13.375 4.4375 \r\nQ 8.5 10.296875 8.5 21.578125 \r\nz\r\nM 31.109375 56 \r\nz\r\n\" id=\"DejaVuSans-117\"/>\r\n       <path d=\"M 41.109375 46.296875 \r\nQ 39.59375 47.171875 37.8125 47.578125 \r\nQ 36.03125 48 33.890625 48 \r\nQ 26.265625 48 22.1875 43.046875 \r\nQ 18.109375 38.09375 18.109375 28.8125 \r\nL 18.109375 0 \r\nL 9.078125 0 \r\nL 9.078125 54.6875 \r\nL 18.109375 54.6875 \r\nL 18.109375 46.1875 \r\nQ 20.953125 51.171875 25.484375 53.578125 \r\nQ 30.03125 56 36.53125 56 \r\nQ 37.453125 56 38.578125 55.875 \r\nQ 39.703125 55.765625 41.0625 55.515625 \r\nz\r\n\" id=\"DejaVuSans-114\"/>\r\n       <path d=\"M 34.28125 27.484375 \r\nQ 23.390625 27.484375 19.1875 25 \r\nQ 14.984375 22.515625 14.984375 16.5 \r\nQ 14.984375 11.71875 18.140625 8.90625 \r\nQ 21.296875 6.109375 26.703125 6.109375 \r\nQ 34.1875 6.109375 38.703125 11.40625 \r\nQ 43.21875 16.703125 43.21875 25.484375 \r\nL 43.21875 27.484375 \r\nz\r\nM 52.203125 31.203125 \r\nL 52.203125 0 \r\nL 43.21875 0 \r\nL 43.21875 8.296875 \r\nQ 40.140625 3.328125 35.546875 0.953125 \r\nQ 30.953125 -1.421875 24.3125 -1.421875 \r\nQ 15.921875 -1.421875 10.953125 3.296875 \r\nQ 6 8.015625 6 15.921875 \r\nQ 6 25.140625 12.171875 29.828125 \r\nQ 18.359375 34.515625 30.609375 34.515625 \r\nL 43.21875 34.515625 \r\nL 43.21875 35.40625 \r\nQ 43.21875 41.609375 39.140625 45 \r\nQ 35.0625 48.390625 27.6875 48.390625 \r\nQ 23 48.390625 18.546875 47.265625 \r\nQ 14.109375 46.140625 10.015625 43.890625 \r\nL 10.015625 52.203125 \r\nQ 14.9375 54.109375 19.578125 55.046875 \r\nQ 24.21875 56 28.609375 56 \r\nQ 40.484375 56 46.34375 49.84375 \r\nQ 52.203125 43.703125 52.203125 31.203125 \r\nz\r\n\" id=\"DejaVuSans-97\"/>\r\n       <path d=\"M 32.171875 -5.078125 \r\nQ 28.375 -14.84375 24.75 -17.8125 \r\nQ 21.140625 -20.796875 15.09375 -20.796875 \r\nL 7.90625 -20.796875 \r\nL 7.90625 -13.28125 \r\nL 13.1875 -13.28125 \r\nQ 16.890625 -13.28125 18.9375 -11.515625 \r\nQ 21 -9.765625 23.484375 -3.21875 \r\nL 25.09375 0.875 \r\nL 2.984375 54.6875 \r\nL 12.5 54.6875 \r\nL 29.59375 11.921875 \r\nL 46.6875 54.6875 \r\nL 56.203125 54.6875 \r\nz\r\n\" id=\"DejaVuSans-121\"/>\r\n      </defs>\r\n      <use xlink:href=\"#DejaVuSans-65\"/>\r\n      <use x=\"66.658203\" xlink:href=\"#DejaVuSans-99\"/>\r\n      <use x=\"121.638672\" xlink:href=\"#DejaVuSans-99\"/>\r\n      <use x=\"176.619141\" xlink:href=\"#DejaVuSans-117\"/>\r\n      <use x=\"239.998047\" xlink:href=\"#DejaVuSans-114\"/>\r\n      <use x=\"281.111328\" xlink:href=\"#DejaVuSans-97\"/>\r\n      <use x=\"342.390625\" xlink:href=\"#DejaVuSans-99\"/>\r\n      <use x=\"397.371094\" xlink:href=\"#DejaVuSans-121\"/>\r\n     </g>\r\n    </g>\r\n   </g>\r\n   <g id=\"line2d_13\">\r\n    <path clip-path=\"url(#p6e29208caf)\" d=\"M 58.999432 229.874489 \r\nL 92.817614 99.472581 \r\nL 126.635795 57.040213 \r\nL 160.453977 37.376434 \r\nL 194.272159 33.236692 \r\nL 228.090341 33.236692 \r\nL 261.908523 32.201761 \r\nL 295.726705 32.201761 \r\nL 329.544886 32.201761 \r\nL 363.363068 32.201761 \r\n\" style=\"fill:none;stroke:#1f77b4;stroke-linecap:square;stroke-width:1.5;\"/>\r\n   </g>\r\n   <g id=\"line2d_14\">\r\n    <path clip-path=\"url(#p6e29208caf)\" d=\"M 58.999432 126.175515 \r\nL 92.817614 77.98385 \r\nL 126.635795 51.478431 \r\nL 160.453977 49.068836 \r\nL 194.272159 46.659259 \r\nL 228.090341 46.659259 \r\nL 261.908523 41.840087 \r\nL 295.726705 39.43051 \r\nL 329.544886 39.43051 \r\nL 363.363068 39.43051 \r\n\" style=\"fill:none;stroke:#ff7f0e;stroke-linecap:square;stroke-width:1.5;\"/>\r\n   </g>\r\n   <g id=\"patch_3\">\r\n    <path d=\"M 43.78125 239.758125 \r\nL 43.78125 22.318125 \r\n\" style=\"fill:none;stroke:#000000;stroke-linecap:square;stroke-linejoin:miter;stroke-width:0.8;\"/>\r\n   </g>\r\n   <g id=\"patch_4\">\r\n    <path d=\"M 378.58125 239.758125 \r\nL 378.58125 22.318125 \r\n\" style=\"fill:none;stroke:#000000;stroke-linecap:square;stroke-linejoin:miter;stroke-width:0.8;\"/>\r\n   </g>\r\n   <g id=\"patch_5\">\r\n    <path d=\"M 43.78125 239.758125 \r\nL 378.58125 239.758125 \r\n\" style=\"fill:none;stroke:#000000;stroke-linecap:square;stroke-linejoin:miter;stroke-width:0.8;\"/>\r\n   </g>\r\n   <g id=\"patch_6\">\r\n    <path d=\"M 43.78125 22.318125 \r\nL 378.58125 22.318125 \r\n\" style=\"fill:none;stroke:#000000;stroke-linecap:square;stroke-linejoin:miter;stroke-width:0.8;\"/>\r\n   </g>\r\n   <g id=\"text_15\">\r\n    <!-- Model Accuracy -->\r\n    <g transform=\"translate(163.864688 16.318125)scale(0.12 -0.12)\">\r\n     <defs>\r\n      <path d=\"M 9.8125 72.90625 \r\nL 24.515625 72.90625 \r\nL 43.109375 23.296875 \r\nL 61.8125 72.90625 \r\nL 76.515625 72.90625 \r\nL 76.515625 0 \r\nL 66.890625 0 \r\nL 66.890625 64.015625 \r\nL 48.09375 14.015625 \r\nL 38.1875 14.015625 \r\nL 19.390625 64.015625 \r\nL 19.390625 0 \r\nL 9.8125 0 \r\nz\r\n\" id=\"DejaVuSans-77\"/>\r\n      <path d=\"M 45.40625 46.390625 \r\nL 45.40625 75.984375 \r\nL 54.390625 75.984375 \r\nL 54.390625 0 \r\nL 45.40625 0 \r\nL 45.40625 8.203125 \r\nQ 42.578125 3.328125 38.25 0.953125 \r\nQ 33.9375 -1.421875 27.875 -1.421875 \r\nQ 17.96875 -1.421875 11.734375 6.484375 \r\nQ 5.515625 14.40625 5.515625 27.296875 \r\nQ 5.515625 40.1875 11.734375 48.09375 \r\nQ 17.96875 56 27.875 56 \r\nQ 33.9375 56 38.25 53.625 \r\nQ 42.578125 51.265625 45.40625 46.390625 \r\nz\r\nM 14.796875 27.296875 \r\nQ 14.796875 17.390625 18.875 11.75 \r\nQ 22.953125 6.109375 30.078125 6.109375 \r\nQ 37.203125 6.109375 41.296875 11.75 \r\nQ 45.40625 17.390625 45.40625 27.296875 \r\nQ 45.40625 37.203125 41.296875 42.84375 \r\nQ 37.203125 48.484375 30.078125 48.484375 \r\nQ 22.953125 48.484375 18.875 42.84375 \r\nQ 14.796875 37.203125 14.796875 27.296875 \r\nz\r\n\" id=\"DejaVuSans-100\"/>\r\n      <path d=\"M 56.203125 29.59375 \r\nL 56.203125 25.203125 \r\nL 14.890625 25.203125 \r\nQ 15.484375 15.921875 20.484375 11.0625 \r\nQ 25.484375 6.203125 34.421875 6.203125 \r\nQ 39.59375 6.203125 44.453125 7.46875 \r\nQ 49.3125 8.734375 54.109375 11.28125 \r\nL 54.109375 2.78125 \r\nQ 49.265625 0.734375 44.1875 -0.34375 \r\nQ 39.109375 -1.421875 33.890625 -1.421875 \r\nQ 20.796875 -1.421875 13.15625 6.1875 \r\nQ 5.515625 13.8125 5.515625 26.8125 \r\nQ 5.515625 40.234375 12.765625 48.109375 \r\nQ 20.015625 56 32.328125 56 \r\nQ 43.359375 56 49.78125 48.890625 \r\nQ 56.203125 41.796875 56.203125 29.59375 \r\nz\r\nM 47.21875 32.234375 \r\nQ 47.125 39.59375 43.09375 43.984375 \r\nQ 39.0625 48.390625 32.421875 48.390625 \r\nQ 24.90625 48.390625 20.390625 44.140625 \r\nQ 15.875 39.890625 15.1875 32.171875 \r\nz\r\n\" id=\"DejaVuSans-101\"/>\r\n      <path d=\"M 9.421875 75.984375 \r\nL 18.40625 75.984375 \r\nL 18.40625 0 \r\nL 9.421875 0 \r\nz\r\n\" id=\"DejaVuSans-108\"/>\r\n      <path id=\"DejaVuSans-32\"/>\r\n     </defs>\r\n     <use xlink:href=\"#DejaVuSans-77\"/>\r\n     <use x=\"86.279297\" xlink:href=\"#DejaVuSans-111\"/>\r\n     <use x=\"147.460938\" xlink:href=\"#DejaVuSans-100\"/>\r\n     <use x=\"210.9375\" xlink:href=\"#DejaVuSans-101\"/>\r\n     <use x=\"272.460938\" xlink:href=\"#DejaVuSans-108\"/>\r\n     <use x=\"300.244141\" xlink:href=\"#DejaVuSans-32\"/>\r\n     <use x=\"332.03125\" xlink:href=\"#DejaVuSans-65\"/>\r\n     <use x=\"398.689453\" xlink:href=\"#DejaVuSans-99\"/>\r\n     <use x=\"453.669922\" xlink:href=\"#DejaVuSans-99\"/>\r\n     <use x=\"508.650391\" xlink:href=\"#DejaVuSans-117\"/>\r\n     <use x=\"572.029297\" xlink:href=\"#DejaVuSans-114\"/>\r\n     <use x=\"613.142578\" xlink:href=\"#DejaVuSans-97\"/>\r\n     <use x=\"674.421875\" xlink:href=\"#DejaVuSans-99\"/>\r\n     <use x=\"729.402344\" xlink:href=\"#DejaVuSans-121\"/>\r\n    </g>\r\n   </g>\r\n   <g id=\"legend_1\">\r\n    <g id=\"patch_7\">\r\n     <path d=\"M 50.78125 59.674375 \r\nL 106.76875 59.674375 \r\nQ 108.76875 59.674375 108.76875 57.674375 \r\nL 108.76875 29.318125 \r\nQ 108.76875 27.318125 106.76875 27.318125 \r\nL 50.78125 27.318125 \r\nQ 48.78125 27.318125 48.78125 29.318125 \r\nL 48.78125 57.674375 \r\nQ 48.78125 59.674375 50.78125 59.674375 \r\nz\r\n\" style=\"fill:#ffffff;opacity:0.8;stroke:#cccccc;stroke-linejoin:miter;\"/>\r\n    </g>\r\n    <g id=\"line2d_15\">\r\n     <path d=\"M 52.78125 35.416562 \r\nL 72.78125 35.416562 \r\n\" style=\"fill:none;stroke:#1f77b4;stroke-linecap:square;stroke-width:1.5;\"/>\r\n    </g>\r\n    <g id=\"line2d_16\"/>\r\n    <g id=\"text_16\">\r\n     <!-- Train -->\r\n     <g transform=\"translate(80.78125 38.916562)scale(0.1 -0.1)\">\r\n      <defs>\r\n       <path d=\"M -0.296875 72.90625 \r\nL 61.375 72.90625 \r\nL 61.375 64.59375 \r\nL 35.5 64.59375 \r\nL 35.5 0 \r\nL 25.59375 0 \r\nL 25.59375 64.59375 \r\nL -0.296875 64.59375 \r\nz\r\n\" id=\"DejaVuSans-84\"/>\r\n       <path d=\"M 9.421875 54.6875 \r\nL 18.40625 54.6875 \r\nL 18.40625 0 \r\nL 9.421875 0 \r\nz\r\nM 9.421875 75.984375 \r\nL 18.40625 75.984375 \r\nL 18.40625 64.59375 \r\nL 9.421875 64.59375 \r\nz\r\n\" id=\"DejaVuSans-105\"/>\r\n       <path d=\"M 54.890625 33.015625 \r\nL 54.890625 0 \r\nL 45.90625 0 \r\nL 45.90625 32.71875 \r\nQ 45.90625 40.484375 42.875 44.328125 \r\nQ 39.84375 48.1875 33.796875 48.1875 \r\nQ 26.515625 48.1875 22.3125 43.546875 \r\nQ 18.109375 38.921875 18.109375 30.90625 \r\nL 18.109375 0 \r\nL 9.078125 0 \r\nL 9.078125 54.6875 \r\nL 18.109375 54.6875 \r\nL 18.109375 46.1875 \r\nQ 21.34375 51.125 25.703125 53.5625 \r\nQ 30.078125 56 35.796875 56 \r\nQ 45.21875 56 50.046875 50.171875 \r\nQ 54.890625 44.34375 54.890625 33.015625 \r\nz\r\n\" id=\"DejaVuSans-110\"/>\r\n      </defs>\r\n      <use xlink:href=\"#DejaVuSans-84\"/>\r\n      <use x=\"46.333984\" xlink:href=\"#DejaVuSans-114\"/>\r\n      <use x=\"87.447266\" xlink:href=\"#DejaVuSans-97\"/>\r\n      <use x=\"148.726562\" xlink:href=\"#DejaVuSans-105\"/>\r\n      <use x=\"176.509766\" xlink:href=\"#DejaVuSans-110\"/>\r\n     </g>\r\n    </g>\r\n    <g id=\"line2d_17\">\r\n     <path d=\"M 52.78125 50.094687 \r\nL 72.78125 50.094687 \r\n\" style=\"fill:none;stroke:#ff7f0e;stroke-linecap:square;stroke-width:1.5;\"/>\r\n    </g>\r\n    <g id=\"line2d_18\"/>\r\n    <g id=\"text_17\">\r\n     <!-- Val -->\r\n     <g transform=\"translate(80.78125 53.594687)scale(0.1 -0.1)\">\r\n      <defs>\r\n       <path d=\"M 28.609375 0 \r\nL 0.78125 72.90625 \r\nL 11.078125 72.90625 \r\nL 34.1875 11.53125 \r\nL 57.328125 72.90625 \r\nL 67.578125 72.90625 \r\nL 39.796875 0 \r\nz\r\n\" id=\"DejaVuSans-86\"/>\r\n      </defs>\r\n      <use xlink:href=\"#DejaVuSans-86\"/>\r\n      <use x=\"60.658203\" xlink:href=\"#DejaVuSans-97\"/>\r\n      <use x=\"121.9375\" xlink:href=\"#DejaVuSans-108\"/>\r\n     </g>\r\n    </g>\r\n   </g>\r\n  </g>\r\n </g>\r\n <defs>\r\n  <clipPath id=\"p6e29208caf\">\r\n   <rect height=\"217.44\" width=\"334.8\" x=\"43.78125\" y=\"22.318125\"/>\r\n  </clipPath>\r\n </defs>\r\n</svg>\r\n",
      "image/png": "[encoded data removed]"
     },
     "metadata": {
      "needs_background": "light"
     }
    },
    {
     "output_type": "display_data",
     "data": {
      "text/plain": "<Figure size 432x288 with 1 Axes>",
      "image/svg+xml": "<?xml version=\"1.0\" encoding=\"utf-8\" standalone=\"no\"?>\r\n<!DOCTYPE svg PUBLIC \"-//W3C//DTD SVG 1.1//EN\"\r\n  \"http://www.w3.org/Graphics/SVG/1.1/DTD/svg11.dtd\">\r\n<!-- Created with matplotlib (https://matplotlib.org/) -->\r\n<svg height=\"277.314375pt\" version=\"1.1\" viewBox=\"0 0 376.240625 277.314375\" width=\"376.240625pt\" xmlns=\"http://www.w3.org/2000/svg\" xmlns:xlink=\"http://www.w3.org/1999/xlink\">\r\n <metadata>\r\n  <rdf:RDF xmlns:cc=\"http://creativecommons.org/ns#\" xmlns:dc=\"http://purl.org/dc/elements/1.1/\" xmlns:rdf=\"http://www.w3.org/1999/02/22-rdf-syntax-ns#\">\r\n   <cc:Work>\r\n    <dc:type rdf:resource=\"http://purl.org/dc/dcmitype/StillImage\"/>\r\n    <dc:date>2021-06-10T18:33:02.522820</dc:date>\r\n    <dc:format>image/svg+xml</dc:format>\r\n    <dc:creator>\r\n     <cc:Agent>\r\n      <dc:title>Matplotlib v3.3.4, https://matplotlib.org/</dc:title>\r\n     </cc:Agent>\r\n    </dc:creator>\r\n   </cc:Work>\r\n  </rdf:RDF>\r\n </metadata>\r\n <defs>\r\n  <style type=\"text/css\">*{stroke-linecap:butt;stroke-linejoin:round;}</style>\r\n </defs>\r\n <g id=\"figure_1\">\r\n  <g id=\"patch_1\">\r\n   <path d=\"M 0 277.314375 \r\nL 376.240625 277.314375 \r\nL 376.240625 0 \r\nL 0 0 \r\nz\r\n\" style=\"fill:none;\"/>\r\n  </g>\r\n  <g id=\"axes_1\">\r\n   <g id=\"patch_2\">\r\n    <path d=\"M 34.240625 239.758125 \r\nL 369.040625 239.758125 \r\nL 369.040625 22.318125 \r\nL 34.240625 22.318125 \r\nz\r\n\" style=\"fill:#ffffff;\"/>\r\n   </g>\r\n   <g id=\"matplotlib.axis_1\">\r\n    <g id=\"xtick_1\">\r\n     <g id=\"line2d_1\">\r\n      <defs>\r\n       <path d=\"M 0 0 \r\nL 0 3.5 \r\n\" id=\"m996d0eaa3d\" style=\"stroke:#000000;stroke-width:0.8;\"/>\r\n      </defs>\r\n      <g>\r\n       <use style=\"stroke:#000000;stroke-width:0.8;\" x=\"83.276989\" xlink:href=\"#m996d0eaa3d\" y=\"239.758125\"/>\r\n      </g>\r\n     </g>\r\n     <g id=\"text_1\">\r\n      <!-- 2 -->\r\n      <g transform=\"translate(80.095739 254.356562)scale(0.1 -0.1)\">\r\n       <defs>\r\n        <path d=\"M 19.1875 8.296875 \r\nL 53.609375 8.296875 \r\nL 53.609375 0 \r\nL 7.328125 0 \r\nL 7.328125 8.296875 \r\nQ 12.9375 14.109375 22.625 23.890625 \r\nQ 32.328125 33.6875 34.8125 36.53125 \r\nQ 39.546875 41.84375 41.421875 45.53125 \r\nQ 43.3125 49.21875 43.3125 52.78125 \r\nQ 43.3125 58.59375 39.234375 62.25 \r\nQ 35.15625 65.921875 28.609375 65.921875 \r\nQ 23.96875 65.921875 18.8125 64.3125 \r\nQ 13.671875 62.703125 7.8125 59.421875 \r\nL 7.8125 69.390625 \r\nQ 13.765625 71.78125 18.9375 73 \r\nQ 24.125 74.21875 28.421875 74.21875 \r\nQ 39.75 74.21875 46.484375 68.546875 \r\nQ 53.21875 62.890625 53.21875 53.421875 \r\nQ 53.21875 48.921875 51.53125 44.890625 \r\nQ 49.859375 40.875 45.40625 35.40625 \r\nQ 44.1875 33.984375 37.640625 27.21875 \r\nQ 31.109375 20.453125 19.1875 8.296875 \r\nz\r\n\" id=\"DejaVuSans-50\"/>\r\n       </defs>\r\n       <use xlink:href=\"#DejaVuSans-50\"/>\r\n      </g>\r\n     </g>\r\n    </g>\r\n    <g id=\"xtick_2\">\r\n     <g id=\"line2d_2\">\r\n      <g>\r\n       <use style=\"stroke:#000000;stroke-width:0.8;\" x=\"150.913352\" xlink:href=\"#m996d0eaa3d\" y=\"239.758125\"/>\r\n      </g>\r\n     </g>\r\n     <g id=\"text_2\">\r\n      <!-- 4 -->\r\n      <g transform=\"translate(147.732102 254.356562)scale(0.1 -0.1)\">\r\n       <defs>\r\n        <path d=\"M 37.796875 64.3125 \r\nL 12.890625 25.390625 \r\nL 37.796875 25.390625 \r\nz\r\nM 35.203125 72.90625 \r\nL 47.609375 72.90625 \r\nL 47.609375 25.390625 \r\nL 58.015625 25.390625 \r\nL 58.015625 17.1875 \r\nL 47.609375 17.1875 \r\nL 47.609375 0 \r\nL 37.796875 0 \r\nL 37.796875 17.1875 \r\nL 4.890625 17.1875 \r\nL 4.890625 26.703125 \r\nz\r\n\" id=\"DejaVuSans-52\"/>\r\n       </defs>\r\n       <use xlink:href=\"#DejaVuSans-52\"/>\r\n      </g>\r\n     </g>\r\n    </g>\r\n    <g id=\"xtick_3\">\r\n     <g id=\"line2d_3\">\r\n      <g>\r\n       <use style=\"stroke:#000000;stroke-width:0.8;\" x=\"218.549716\" xlink:href=\"#m996d0eaa3d\" y=\"239.758125\"/>\r\n      </g>\r\n     </g>\r\n     <g id=\"text_3\">\r\n      <!-- 6 -->\r\n      <g transform=\"translate(215.368466 254.356562)scale(0.1 -0.1)\">\r\n       <defs>\r\n        <path d=\"M 33.015625 40.375 \r\nQ 26.375 40.375 22.484375 35.828125 \r\nQ 18.609375 31.296875 18.609375 23.390625 \r\nQ 18.609375 15.53125 22.484375 10.953125 \r\nQ 26.375 6.390625 33.015625 6.390625 \r\nQ 39.65625 6.390625 43.53125 10.953125 \r\nQ 47.40625 15.53125 47.40625 23.390625 \r\nQ 47.40625 31.296875 43.53125 35.828125 \r\nQ 39.65625 40.375 33.015625 40.375 \r\nz\r\nM 52.59375 71.296875 \r\nL 52.59375 62.3125 \r\nQ 48.875 64.0625 45.09375 64.984375 \r\nQ 41.3125 65.921875 37.59375 65.921875 \r\nQ 27.828125 65.921875 22.671875 59.328125 \r\nQ 17.53125 52.734375 16.796875 39.40625 \r\nQ 19.671875 43.65625 24.015625 45.921875 \r\nQ 28.375 48.1875 33.59375 48.1875 \r\nQ 44.578125 48.1875 50.953125 41.515625 \r\nQ 57.328125 34.859375 57.328125 23.390625 \r\nQ 57.328125 12.15625 50.6875 5.359375 \r\nQ 44.046875 -1.421875 33.015625 -1.421875 \r\nQ 20.359375 -1.421875 13.671875 8.265625 \r\nQ 6.984375 17.96875 6.984375 36.375 \r\nQ 6.984375 53.65625 15.1875 63.9375 \r\nQ 23.390625 74.21875 37.203125 74.21875 \r\nQ 40.921875 74.21875 44.703125 73.484375 \r\nQ 48.484375 72.75 52.59375 71.296875 \r\nz\r\n\" id=\"DejaVuSans-54\"/>\r\n       </defs>\r\n       <use xlink:href=\"#DejaVuSans-54\"/>\r\n      </g>\r\n     </g>\r\n    </g>\r\n    <g id=\"xtick_4\">\r\n     <g id=\"line2d_4\">\r\n      <g>\r\n       <use style=\"stroke:#000000;stroke-width:0.8;\" x=\"286.18608\" xlink:href=\"#m996d0eaa3d\" y=\"239.758125\"/>\r\n      </g>\r\n     </g>\r\n     <g id=\"text_4\">\r\n      <!-- 8 -->\r\n      <g transform=\"translate(283.00483 254.356562)scale(0.1 -0.1)\">\r\n       <defs>\r\n        <path d=\"M 31.78125 34.625 \r\nQ 24.75 34.625 20.71875 30.859375 \r\nQ 16.703125 27.09375 16.703125 20.515625 \r\nQ 16.703125 13.921875 20.71875 10.15625 \r\nQ 24.75 6.390625 31.78125 6.390625 \r\nQ 38.8125 6.390625 42.859375 10.171875 \r\nQ 46.921875 13.96875 46.921875 20.515625 \r\nQ 46.921875 27.09375 42.890625 30.859375 \r\nQ 38.875 34.625 31.78125 34.625 \r\nz\r\nM 21.921875 38.8125 \r\nQ 15.578125 40.375 12.03125 44.71875 \r\nQ 8.5 49.078125 8.5 55.328125 \r\nQ 8.5 64.0625 14.71875 69.140625 \r\nQ 20.953125 74.21875 31.78125 74.21875 \r\nQ 42.671875 74.21875 48.875 69.140625 \r\nQ 55.078125 64.0625 55.078125 55.328125 \r\nQ 55.078125 49.078125 51.53125 44.71875 \r\nQ 48 40.375 41.703125 38.8125 \r\nQ 48.828125 37.15625 52.796875 32.3125 \r\nQ 56.78125 27.484375 56.78125 20.515625 \r\nQ 56.78125 9.90625 50.3125 4.234375 \r\nQ 43.84375 -1.421875 31.78125 -1.421875 \r\nQ 19.734375 -1.421875 13.25 4.234375 \r\nQ 6.78125 9.90625 6.78125 20.515625 \r\nQ 6.78125 27.484375 10.78125 32.3125 \r\nQ 14.796875 37.15625 21.921875 38.8125 \r\nz\r\nM 18.3125 54.390625 \r\nQ 18.3125 48.734375 21.84375 45.5625 \r\nQ 25.390625 42.390625 31.78125 42.390625 \r\nQ 38.140625 42.390625 41.71875 45.5625 \r\nQ 45.3125 48.734375 45.3125 54.390625 \r\nQ 45.3125 60.0625 41.71875 63.234375 \r\nQ 38.140625 66.40625 31.78125 66.40625 \r\nQ 25.390625 66.40625 21.84375 63.234375 \r\nQ 18.3125 60.0625 18.3125 54.390625 \r\nz\r\n\" id=\"DejaVuSans-56\"/>\r\n       </defs>\r\n       <use xlink:href=\"#DejaVuSans-56\"/>\r\n      </g>\r\n     </g>\r\n    </g>\r\n    <g id=\"xtick_5\">\r\n     <g id=\"line2d_5\">\r\n      <g>\r\n       <use style=\"stroke:#000000;stroke-width:0.8;\" x=\"353.822443\" xlink:href=\"#m996d0eaa3d\" y=\"239.758125\"/>\r\n      </g>\r\n     </g>\r\n     <g id=\"text_5\">\r\n      <!-- 10 -->\r\n      <g transform=\"translate(347.459943 254.356562)scale(0.1 -0.1)\">\r\n       <defs>\r\n        <path d=\"M 12.40625 8.296875 \r\nL 28.515625 8.296875 \r\nL 28.515625 63.921875 \r\nL 10.984375 60.40625 \r\nL 10.984375 69.390625 \r\nL 28.421875 72.90625 \r\nL 38.28125 72.90625 \r\nL 38.28125 8.296875 \r\nL 54.390625 8.296875 \r\nL 54.390625 0 \r\nL 12.40625 0 \r\nz\r\n\" id=\"DejaVuSans-49\"/>\r\n        <path d=\"M 31.78125 66.40625 \r\nQ 24.171875 66.40625 20.328125 58.90625 \r\nQ 16.5 51.421875 16.5 36.375 \r\nQ 16.5 21.390625 20.328125 13.890625 \r\nQ 24.171875 6.390625 31.78125 6.390625 \r\nQ 39.453125 6.390625 43.28125 13.890625 \r\nQ 47.125 21.390625 47.125 36.375 \r\nQ 47.125 51.421875 43.28125 58.90625 \r\nQ 39.453125 66.40625 31.78125 66.40625 \r\nz\r\nM 31.78125 74.21875 \r\nQ 44.046875 74.21875 50.515625 64.515625 \r\nQ 56.984375 54.828125 56.984375 36.375 \r\nQ 56.984375 17.96875 50.515625 8.265625 \r\nQ 44.046875 -1.421875 31.78125 -1.421875 \r\nQ 19.53125 -1.421875 13.0625 8.265625 \r\nQ 6.59375 17.96875 6.59375 36.375 \r\nQ 6.59375 54.828125 13.0625 64.515625 \r\nQ 19.53125 74.21875 31.78125 74.21875 \r\nz\r\n\" id=\"DejaVuSans-48\"/>\r\n       </defs>\r\n       <use xlink:href=\"#DejaVuSans-49\"/>\r\n       <use x=\"63.623047\" xlink:href=\"#DejaVuSans-48\"/>\r\n      </g>\r\n     </g>\r\n    </g>\r\n    <g id=\"text_6\">\r\n     <!-- Epoch -->\r\n     <g transform=\"translate(186.329688 268.034687)scale(0.1 -0.1)\">\r\n      <defs>\r\n       <path d=\"M 9.8125 72.90625 \r\nL 55.90625 72.90625 \r\nL 55.90625 64.59375 \r\nL 19.671875 64.59375 \r\nL 19.671875 43.015625 \r\nL 54.390625 43.015625 \r\nL 54.390625 34.71875 \r\nL 19.671875 34.71875 \r\nL 19.671875 8.296875 \r\nL 56.78125 8.296875 \r\nL 56.78125 0 \r\nL 9.8125 0 \r\nz\r\n\" id=\"DejaVuSans-69\"/>\r\n       <path d=\"M 18.109375 8.203125 \r\nL 18.109375 -20.796875 \r\nL 9.078125 -20.796875 \r\nL 9.078125 54.6875 \r\nL 18.109375 54.6875 \r\nL 18.109375 46.390625 \r\nQ 20.953125 51.265625 25.265625 53.625 \r\nQ 29.59375 56 35.59375 56 \r\nQ 45.5625 56 51.78125 48.09375 \r\nQ 58.015625 40.1875 58.015625 27.296875 \r\nQ 58.015625 14.40625 51.78125 6.484375 \r\nQ 45.5625 -1.421875 35.59375 -1.421875 \r\nQ 29.59375 -1.421875 25.265625 0.953125 \r\nQ 20.953125 3.328125 18.109375 8.203125 \r\nz\r\nM 48.6875 27.296875 \r\nQ 48.6875 37.203125 44.609375 42.84375 \r\nQ 40.53125 48.484375 33.40625 48.484375 \r\nQ 26.265625 48.484375 22.1875 42.84375 \r\nQ 18.109375 37.203125 18.109375 27.296875 \r\nQ 18.109375 17.390625 22.1875 11.75 \r\nQ 26.265625 6.109375 33.40625 6.109375 \r\nQ 40.53125 6.109375 44.609375 11.75 \r\nQ 48.6875 17.390625 48.6875 27.296875 \r\nz\r\n\" id=\"DejaVuSans-112\"/>\r\n       <path d=\"M 30.609375 48.390625 \r\nQ 23.390625 48.390625 19.1875 42.75 \r\nQ 14.984375 37.109375 14.984375 27.296875 \r\nQ 14.984375 17.484375 19.15625 11.84375 \r\nQ 23.34375 6.203125 30.609375 6.203125 \r\nQ 37.796875 6.203125 41.984375 11.859375 \r\nQ 46.1875 17.53125 46.1875 27.296875 \r\nQ 46.1875 37.015625 41.984375 42.703125 \r\nQ 37.796875 48.390625 30.609375 48.390625 \r\nz\r\nM 30.609375 56 \r\nQ 42.328125 56 49.015625 48.375 \r\nQ 55.71875 40.765625 55.71875 27.296875 \r\nQ 55.71875 13.875 49.015625 6.21875 \r\nQ 42.328125 -1.421875 30.609375 -1.421875 \r\nQ 18.84375 -1.421875 12.171875 6.21875 \r\nQ 5.515625 13.875 5.515625 27.296875 \r\nQ 5.515625 40.765625 12.171875 48.375 \r\nQ 18.84375 56 30.609375 56 \r\nz\r\n\" id=\"DejaVuSans-111\"/>\r\n       <path d=\"M 48.78125 52.59375 \r\nL 48.78125 44.1875 \r\nQ 44.96875 46.296875 41.140625 47.34375 \r\nQ 37.3125 48.390625 33.40625 48.390625 \r\nQ 24.65625 48.390625 19.8125 42.84375 \r\nQ 14.984375 37.3125 14.984375 27.296875 \r\nQ 14.984375 17.28125 19.8125 11.734375 \r\nQ 24.65625 6.203125 33.40625 6.203125 \r\nQ 37.3125 6.203125 41.140625 7.25 \r\nQ 44.96875 8.296875 48.78125 10.40625 \r\nL 48.78125 2.09375 \r\nQ 45.015625 0.34375 40.984375 -0.53125 \r\nQ 36.96875 -1.421875 32.421875 -1.421875 \r\nQ 20.0625 -1.421875 12.78125 6.34375 \r\nQ 5.515625 14.109375 5.515625 27.296875 \r\nQ 5.515625 40.671875 12.859375 48.328125 \r\nQ 20.21875 56 33.015625 56 \r\nQ 37.15625 56 41.109375 55.140625 \r\nQ 45.0625 54.296875 48.78125 52.59375 \r\nz\r\n\" id=\"DejaVuSans-99\"/>\r\n       <path d=\"M 54.890625 33.015625 \r\nL 54.890625 0 \r\nL 45.90625 0 \r\nL 45.90625 32.71875 \r\nQ 45.90625 40.484375 42.875 44.328125 \r\nQ 39.84375 48.1875 33.796875 48.1875 \r\nQ 26.515625 48.1875 22.3125 43.546875 \r\nQ 18.109375 38.921875 18.109375 30.90625 \r\nL 18.109375 0 \r\nL 9.078125 0 \r\nL 9.078125 75.984375 \r\nL 18.109375 75.984375 \r\nL 18.109375 46.1875 \r\nQ 21.34375 51.125 25.703125 53.5625 \r\nQ 30.078125 56 35.796875 56 \r\nQ 45.21875 56 50.046875 50.171875 \r\nQ 54.890625 44.34375 54.890625 33.015625 \r\nz\r\n\" id=\"DejaVuSans-104\"/>\r\n      </defs>\r\n      <use xlink:href=\"#DejaVuSans-69\"/>\r\n      <use x=\"63.183594\" xlink:href=\"#DejaVuSans-112\"/>\r\n      <use x=\"126.660156\" xlink:href=\"#DejaVuSans-111\"/>\r\n      <use x=\"187.841797\" xlink:href=\"#DejaVuSans-99\"/>\r\n      <use x=\"242.822266\" xlink:href=\"#DejaVuSans-104\"/>\r\n     </g>\r\n    </g>\r\n   </g>\r\n   <g id=\"matplotlib.axis_2\">\r\n    <g id=\"ytick_1\">\r\n     <g id=\"line2d_6\">\r\n      <defs>\r\n       <path d=\"M 0 0 \r\nL -3.5 0 \r\n\" id=\"m9a555586c7\" style=\"stroke:#000000;stroke-width:0.8;\"/>\r\n      </defs>\r\n      <g>\r\n       <use style=\"stroke:#000000;stroke-width:0.8;\" x=\"34.240625\" xlink:href=\"#m9a555586c7\" y=\"229.903626\"/>\r\n      </g>\r\n     </g>\r\n     <g id=\"text_7\">\r\n      <!-- 0 -->\r\n      <g transform=\"translate(20.878125 233.702845)scale(0.1 -0.1)\">\r\n       <use xlink:href=\"#DejaVuSans-48\"/>\r\n      </g>\r\n     </g>\r\n    </g>\r\n    <g id=\"ytick_2\">\r\n     <g id=\"line2d_7\">\r\n      <g>\r\n       <use style=\"stroke:#000000;stroke-width:0.8;\" x=\"34.240625\" xlink:href=\"#m9a555586c7\" y=\"185.051495\"/>\r\n      </g>\r\n     </g>\r\n     <g id=\"text_8\">\r\n      <!-- 2 -->\r\n      <g transform=\"translate(20.878125 188.850714)scale(0.1 -0.1)\">\r\n       <use xlink:href=\"#DejaVuSans-50\"/>\r\n      </g>\r\n     </g>\r\n    </g>\r\n    <g id=\"ytick_3\">\r\n     <g id=\"line2d_8\">\r\n      <g>\r\n       <use style=\"stroke:#000000;stroke-width:0.8;\" x=\"34.240625\" xlink:href=\"#m9a555586c7\" y=\"140.199363\"/>\r\n      </g>\r\n     </g>\r\n     <g id=\"text_9\">\r\n      <!-- 4 -->\r\n      <g transform=\"translate(20.878125 143.998582)scale(0.1 -0.1)\">\r\n       <use xlink:href=\"#DejaVuSans-52\"/>\r\n      </g>\r\n     </g>\r\n    </g>\r\n    <g id=\"ytick_4\">\r\n     <g id=\"line2d_9\">\r\n      <g>\r\n       <use style=\"stroke:#000000;stroke-width:0.8;\" x=\"34.240625\" xlink:href=\"#m9a555586c7\" y=\"95.347232\"/>\r\n      </g>\r\n     </g>\r\n     <g id=\"text_10\">\r\n      <!-- 6 -->\r\n      <g transform=\"translate(20.878125 99.14645)scale(0.1 -0.1)\">\r\n       <use xlink:href=\"#DejaVuSans-54\"/>\r\n      </g>\r\n     </g>\r\n    </g>\r\n    <g id=\"ytick_5\">\r\n     <g id=\"line2d_10\">\r\n      <g>\r\n       <use style=\"stroke:#000000;stroke-width:0.8;\" x=\"34.240625\" xlink:href=\"#m9a555586c7\" y=\"50.4951\"/>\r\n      </g>\r\n     </g>\r\n     <g id=\"text_11\">\r\n      <!-- 8 -->\r\n      <g transform=\"translate(20.878125 54.294319)scale(0.1 -0.1)\">\r\n       <use xlink:href=\"#DejaVuSans-56\"/>\r\n      </g>\r\n     </g>\r\n    </g>\r\n    <g id=\"text_12\">\r\n     <!-- Loss -->\r\n     <g transform=\"translate(14.798437 142.005312)rotate(-90)scale(0.1 -0.1)\">\r\n      <defs>\r\n       <path d=\"M 9.8125 72.90625 \r\nL 19.671875 72.90625 \r\nL 19.671875 8.296875 \r\nL 55.171875 8.296875 \r\nL 55.171875 0 \r\nL 9.8125 0 \r\nz\r\n\" id=\"DejaVuSans-76\"/>\r\n       <path d=\"M 44.28125 53.078125 \r\nL 44.28125 44.578125 \r\nQ 40.484375 46.53125 36.375 47.5 \r\nQ 32.28125 48.484375 27.875 48.484375 \r\nQ 21.1875 48.484375 17.84375 46.4375 \r\nQ 14.5 44.390625 14.5 40.28125 \r\nQ 14.5 37.15625 16.890625 35.375 \r\nQ 19.28125 33.59375 26.515625 31.984375 \r\nL 29.59375 31.296875 \r\nQ 39.15625 29.25 43.1875 25.515625 \r\nQ 47.21875 21.78125 47.21875 15.09375 \r\nQ 47.21875 7.46875 41.1875 3.015625 \r\nQ 35.15625 -1.421875 24.609375 -1.421875 \r\nQ 20.21875 -1.421875 15.453125 -0.5625 \r\nQ 10.6875 0.296875 5.421875 2 \r\nL 5.421875 11.28125 \r\nQ 10.40625 8.6875 15.234375 7.390625 \r\nQ 20.0625 6.109375 24.8125 6.109375 \r\nQ 31.15625 6.109375 34.5625 8.28125 \r\nQ 37.984375 10.453125 37.984375 14.40625 \r\nQ 37.984375 18.0625 35.515625 20.015625 \r\nQ 33.0625 21.96875 24.703125 23.78125 \r\nL 21.578125 24.515625 \r\nQ 13.234375 26.265625 9.515625 29.90625 \r\nQ 5.8125 33.546875 5.8125 39.890625 \r\nQ 5.8125 47.609375 11.28125 51.796875 \r\nQ 16.75 56 26.8125 56 \r\nQ 31.78125 56 36.171875 55.265625 \r\nQ 40.578125 54.546875 44.28125 53.078125 \r\nz\r\n\" id=\"DejaVuSans-115\"/>\r\n      </defs>\r\n      <use xlink:href=\"#DejaVuSans-76\"/>\r\n      <use x=\"53.962891\" xlink:href=\"#DejaVuSans-111\"/>\r\n      <use x=\"115.144531\" xlink:href=\"#DejaVuSans-115\"/>\r\n      <use x=\"167.244141\" xlink:href=\"#DejaVuSans-115\"/>\r\n     </g>\r\n    </g>\r\n   </g>\r\n   <g id=\"line2d_11\">\r\n    <path clip-path=\"url(#p264f1f4a7e)\" d=\"M 49.458807 32.201761 \r\nL 83.276989 201.899093 \r\nL 117.09517 221.96902 \r\nL 150.913352 229.066614 \r\nL 184.731534 229.530936 \r\nL 218.549716 229.647766 \r\nL 252.367898 229.807463 \r\nL 286.18608 229.792478 \r\nL 320.004261 229.807808 \r\nL 353.822443 229.874489 \r\n\" style=\"fill:none;stroke:#1f77b4;stroke-linecap:square;stroke-width:1.5;\"/>\r\n   </g>\r\n   <g id=\"line2d_12\">\r\n    <path clip-path=\"url(#p264f1f4a7e)\" d=\"M 49.458807 194.824808 \r\nL 83.276989 218.108982 \r\nL 117.09517 224.299777 \r\nL 150.913352 225.202404 \r\nL 184.731534 225.485896 \r\nL 218.549716 226.046915 \r\nL 252.367898 226.421764 \r\nL 286.18608 226.549065 \r\nL 320.004261 226.63843 \r\nL 353.822443 226.619097 \r\n\" style=\"fill:none;stroke:#ff7f0e;stroke-linecap:square;stroke-width:1.5;\"/>\r\n   </g>\r\n   <g id=\"patch_3\">\r\n    <path d=\"M 34.240625 239.758125 \r\nL 34.240625 22.318125 \r\n\" style=\"fill:none;stroke:#000000;stroke-linecap:square;stroke-linejoin:miter;stroke-width:0.8;\"/>\r\n   </g>\r\n   <g id=\"patch_4\">\r\n    <path d=\"M 369.040625 239.758125 \r\nL 369.040625 22.318125 \r\n\" style=\"fill:none;stroke:#000000;stroke-linecap:square;stroke-linejoin:miter;stroke-width:0.8;\"/>\r\n   </g>\r\n   <g id=\"patch_5\">\r\n    <path d=\"M 34.240625 239.758125 \r\nL 369.040625 239.758125 \r\n\" style=\"fill:none;stroke:#000000;stroke-linecap:square;stroke-linejoin:miter;stroke-width:0.8;\"/>\r\n   </g>\r\n   <g id=\"patch_6\">\r\n    <path d=\"M 34.240625 22.318125 \r\nL 369.040625 22.318125 \r\n\" style=\"fill:none;stroke:#000000;stroke-linecap:square;stroke-linejoin:miter;stroke-width:0.8;\"/>\r\n   </g>\r\n   <g id=\"text_13\">\r\n    <!-- Model loss -->\r\n    <g transform=\"translate(170.128438 16.318125)scale(0.12 -0.12)\">\r\n     <defs>\r\n      <path d=\"M 9.8125 72.90625 \r\nL 24.515625 72.90625 \r\nL 43.109375 23.296875 \r\nL 61.8125 72.90625 \r\nL 76.515625 72.90625 \r\nL 76.515625 0 \r\nL 66.890625 0 \r\nL 66.890625 64.015625 \r\nL 48.09375 14.015625 \r\nL 38.1875 14.015625 \r\nL 19.390625 64.015625 \r\nL 19.390625 0 \r\nL 9.8125 0 \r\nz\r\n\" id=\"DejaVuSans-77\"/>\r\n      <path d=\"M 45.40625 46.390625 \r\nL 45.40625 75.984375 \r\nL 54.390625 75.984375 \r\nL 54.390625 0 \r\nL 45.40625 0 \r\nL 45.40625 8.203125 \r\nQ 42.578125 3.328125 38.25 0.953125 \r\nQ 33.9375 -1.421875 27.875 -1.421875 \r\nQ 17.96875 -1.421875 11.734375 6.484375 \r\nQ 5.515625 14.40625 5.515625 27.296875 \r\nQ 5.515625 40.1875 11.734375 48.09375 \r\nQ 17.96875 56 27.875 56 \r\nQ 33.9375 56 38.25 53.625 \r\nQ 42.578125 51.265625 45.40625 46.390625 \r\nz\r\nM 14.796875 27.296875 \r\nQ 14.796875 17.390625 18.875 11.75 \r\nQ 22.953125 6.109375 30.078125 6.109375 \r\nQ 37.203125 6.109375 41.296875 11.75 \r\nQ 45.40625 17.390625 45.40625 27.296875 \r\nQ 45.40625 37.203125 41.296875 42.84375 \r\nQ 37.203125 48.484375 30.078125 48.484375 \r\nQ 22.953125 48.484375 18.875 42.84375 \r\nQ 14.796875 37.203125 14.796875 27.296875 \r\nz\r\n\" id=\"DejaVuSans-100\"/>\r\n      <path d=\"M 56.203125 29.59375 \r\nL 56.203125 25.203125 \r\nL 14.890625 25.203125 \r\nQ 15.484375 15.921875 20.484375 11.0625 \r\nQ 25.484375 6.203125 34.421875 6.203125 \r\nQ 39.59375 6.203125 44.453125 7.46875 \r\nQ 49.3125 8.734375 54.109375 11.28125 \r\nL 54.109375 2.78125 \r\nQ 49.265625 0.734375 44.1875 -0.34375 \r\nQ 39.109375 -1.421875 33.890625 -1.421875 \r\nQ 20.796875 -1.421875 13.15625 6.1875 \r\nQ 5.515625 13.8125 5.515625 26.8125 \r\nQ 5.515625 40.234375 12.765625 48.109375 \r\nQ 20.015625 56 32.328125 56 \r\nQ 43.359375 56 49.78125 48.890625 \r\nQ 56.203125 41.796875 56.203125 29.59375 \r\nz\r\nM 47.21875 32.234375 \r\nQ 47.125 39.59375 43.09375 43.984375 \r\nQ 39.0625 48.390625 32.421875 48.390625 \r\nQ 24.90625 48.390625 20.390625 44.140625 \r\nQ 15.875 39.890625 15.1875 32.171875 \r\nz\r\n\" id=\"DejaVuSans-101\"/>\r\n      <path d=\"M 9.421875 75.984375 \r\nL 18.40625 75.984375 \r\nL 18.40625 0 \r\nL 9.421875 0 \r\nz\r\n\" id=\"DejaVuSans-108\"/>\r\n      <path id=\"DejaVuSans-32\"/>\r\n     </defs>\r\n     <use xlink:href=\"#DejaVuSans-77\"/>\r\n     <use x=\"86.279297\" xlink:href=\"#DejaVuSans-111\"/>\r\n     <use x=\"147.460938\" xlink:href=\"#DejaVuSans-100\"/>\r\n     <use x=\"210.9375\" xlink:href=\"#DejaVuSans-101\"/>\r\n     <use x=\"272.460938\" xlink:href=\"#DejaVuSans-108\"/>\r\n     <use x=\"300.244141\" xlink:href=\"#DejaVuSans-32\"/>\r\n     <use x=\"332.03125\" xlink:href=\"#DejaVuSans-108\"/>\r\n     <use x=\"359.814453\" xlink:href=\"#DejaVuSans-111\"/>\r\n     <use x=\"420.996094\" xlink:href=\"#DejaVuSans-115\"/>\r\n     <use x=\"473.095703\" xlink:href=\"#DejaVuSans-115\"/>\r\n    </g>\r\n   </g>\r\n   <g id=\"legend_1\">\r\n    <g id=\"patch_7\">\r\n     <path d=\"M 306.053125 59.674375 \r\nL 362.040625 59.674375 \r\nQ 364.040625 59.674375 364.040625 57.674375 \r\nL 364.040625 29.318125 \r\nQ 364.040625 27.318125 362.040625 27.318125 \r\nL 306.053125 27.318125 \r\nQ 304.053125 27.318125 304.053125 29.318125 \r\nL 304.053125 57.674375 \r\nQ 304.053125 59.674375 306.053125 59.674375 \r\nz\r\n\" style=\"fill:#ffffff;opacity:0.8;stroke:#cccccc;stroke-linejoin:miter;\"/>\r\n    </g>\r\n    <g id=\"line2d_13\">\r\n     <path d=\"M 308.053125 35.416562 \r\nL 328.053125 35.416562 \r\n\" style=\"fill:none;stroke:#1f77b4;stroke-linecap:square;stroke-width:1.5;\"/>\r\n    </g>\r\n    <g id=\"line2d_14\"/>\r\n    <g id=\"text_14\">\r\n     <!-- Train -->\r\n     <g transform=\"translate(336.053125 38.916562)scale(0.1 -0.1)\">\r\n      <defs>\r\n       <path d=\"M -0.296875 72.90625 \r\nL 61.375 72.90625 \r\nL 61.375 64.59375 \r\nL 35.5 64.59375 \r\nL 35.5 0 \r\nL 25.59375 0 \r\nL 25.59375 64.59375 \r\nL -0.296875 64.59375 \r\nz\r\n\" id=\"DejaVuSans-84\"/>\r\n       <path d=\"M 41.109375 46.296875 \r\nQ 39.59375 47.171875 37.8125 47.578125 \r\nQ 36.03125 48 33.890625 48 \r\nQ 26.265625 48 22.1875 43.046875 \r\nQ 18.109375 38.09375 18.109375 28.8125 \r\nL 18.109375 0 \r\nL 9.078125 0 \r\nL 9.078125 54.6875 \r\nL 18.109375 54.6875 \r\nL 18.109375 46.1875 \r\nQ 20.953125 51.171875 25.484375 53.578125 \r\nQ 30.03125 56 36.53125 56 \r\nQ 37.453125 56 38.578125 55.875 \r\nQ 39.703125 55.765625 41.0625 55.515625 \r\nz\r\n\" id=\"DejaVuSans-114\"/>\r\n       <path d=\"M 34.28125 27.484375 \r\nQ 23.390625 27.484375 19.1875 25 \r\nQ 14.984375 22.515625 14.984375 16.5 \r\nQ 14.984375 11.71875 18.140625 8.90625 \r\nQ 21.296875 6.109375 26.703125 6.109375 \r\nQ 34.1875 6.109375 38.703125 11.40625 \r\nQ 43.21875 16.703125 43.21875 25.484375 \r\nL 43.21875 27.484375 \r\nz\r\nM 52.203125 31.203125 \r\nL 52.203125 0 \r\nL 43.21875 0 \r\nL 43.21875 8.296875 \r\nQ 40.140625 3.328125 35.546875 0.953125 \r\nQ 30.953125 -1.421875 24.3125 -1.421875 \r\nQ 15.921875 -1.421875 10.953125 3.296875 \r\nQ 6 8.015625 6 15.921875 \r\nQ 6 25.140625 12.171875 29.828125 \r\nQ 18.359375 34.515625 30.609375 34.515625 \r\nL 43.21875 34.515625 \r\nL 43.21875 35.40625 \r\nQ 43.21875 41.609375 39.140625 45 \r\nQ 35.0625 48.390625 27.6875 48.390625 \r\nQ 23 48.390625 18.546875 47.265625 \r\nQ 14.109375 46.140625 10.015625 43.890625 \r\nL 10.015625 52.203125 \r\nQ 14.9375 54.109375 19.578125 55.046875 \r\nQ 24.21875 56 28.609375 56 \r\nQ 40.484375 56 46.34375 49.84375 \r\nQ 52.203125 43.703125 52.203125 31.203125 \r\nz\r\n\" id=\"DejaVuSans-97\"/>\r\n       <path d=\"M 9.421875 54.6875 \r\nL 18.40625 54.6875 \r\nL 18.40625 0 \r\nL 9.421875 0 \r\nz\r\nM 9.421875 75.984375 \r\nL 18.40625 75.984375 \r\nL 18.40625 64.59375 \r\nL 9.421875 64.59375 \r\nz\r\n\" id=\"DejaVuSans-105\"/>\r\n       <path d=\"M 54.890625 33.015625 \r\nL 54.890625 0 \r\nL 45.90625 0 \r\nL 45.90625 32.71875 \r\nQ 45.90625 40.484375 42.875 44.328125 \r\nQ 39.84375 48.1875 33.796875 48.1875 \r\nQ 26.515625 48.1875 22.3125 43.546875 \r\nQ 18.109375 38.921875 18.109375 30.90625 \r\nL 18.109375 0 \r\nL 9.078125 0 \r\nL 9.078125 54.6875 \r\nL 18.109375 54.6875 \r\nL 18.109375 46.1875 \r\nQ 21.34375 51.125 25.703125 53.5625 \r\nQ 30.078125 56 35.796875 56 \r\nQ 45.21875 56 50.046875 50.171875 \r\nQ 54.890625 44.34375 54.890625 33.015625 \r\nz\r\n\" id=\"DejaVuSans-110\"/>\r\n      </defs>\r\n      <use xlink:href=\"#DejaVuSans-84\"/>\r\n      <use x=\"46.333984\" xlink:href=\"#DejaVuSans-114\"/>\r\n      <use x=\"87.447266\" xlink:href=\"#DejaVuSans-97\"/>\r\n      <use x=\"148.726562\" xlink:href=\"#DejaVuSans-105\"/>\r\n      <use x=\"176.509766\" xlink:href=\"#DejaVuSans-110\"/>\r\n     </g>\r\n    </g>\r\n    <g id=\"line2d_15\">\r\n     <path d=\"M 308.053125 50.094687 \r\nL 328.053125 50.094687 \r\n\" style=\"fill:none;stroke:#ff7f0e;stroke-linecap:square;stroke-width:1.5;\"/>\r\n    </g>\r\n    <g id=\"line2d_16\"/>\r\n    <g id=\"text_15\">\r\n     <!-- Val -->\r\n     <g transform=\"translate(336.053125 53.594687)scale(0.1 -0.1)\">\r\n      <defs>\r\n       <path d=\"M 28.609375 0 \r\nL 0.78125 72.90625 \r\nL 11.078125 72.90625 \r\nL 34.1875 11.53125 \r\nL 57.328125 72.90625 \r\nL 67.578125 72.90625 \r\nL 39.796875 0 \r\nz\r\n\" id=\"DejaVuSans-86\"/>\r\n      </defs>\r\n      <use xlink:href=\"#DejaVuSans-86\"/>\r\n      <use x=\"60.658203\" xlink:href=\"#DejaVuSans-97\"/>\r\n      <use x=\"121.9375\" xlink:href=\"#DejaVuSans-108\"/>\r\n     </g>\r\n    </g>\r\n   </g>\r\n  </g>\r\n </g>\r\n <defs>\r\n  <clipPath id=\"p264f1f4a7e\">\r\n   <rect height=\"217.44\" width=\"334.8\" x=\"34.240625\" y=\"22.318125\"/>\r\n  </clipPath>\r\n </defs>\r\n</svg>\r\n",
      "image/png": "[encoded data removed]"
     },
     "metadata": {
      "needs_background": "light"
     }
    }
   ],
   "source": [
    "plotCurve(history,10)"
   ]
  },
  {
   "cell_type": "code",
   "execution_count": 35,
   "metadata": {},
   "outputs": [
    {
     "output_type": "stream",
     "name": "stdout",
     "text": [
      "WARNING:tensorflow:From C:\\Users\\Pallav\\Anaconda3\\lib\\site-packages\\tensorflow\\python\\ops\\resource_variable_ops.py:1817: calling BaseResourceVariable.__init__ (from tensorflow.python.ops.resource_variable_ops) with constraint is deprecated and will be removed in a future version.\n",
      "Instructions for updating:\n",
      "If using Keras pass *_constraint arguments to layers.\n",
      "INFO:tensorflow:Assets written to: Model1\\assets\n"
     ]
    }
   ],
   "source": [
    "from keras.models import save_model\n",
    "model.save('Model1')"
   ]
  },
  {
   "cell_type": "code",
   "execution_count": null,
   "metadata": {},
   "outputs": [],
   "source": []
  }
 ],
 "metadata": {
  "kernelspec": {
   "name": "python3710jvsc74a57bd00855dcbdf0a3551f7069f7c35e56d42af7fb7377ef0dec302f9f1f810c4bd7e0",
   "display_name": "Python 3.7.10 64-bit ('base': conda)"
  },
  "language_info": {
   "codemirror_mode": {
    "name": "ipython",
    "version": 3
   },
   "file_extension": ".py",
   "mimetype": "text/x-python",
   "name": "python",
   "nbconvert_exporter": "python",
   "pygments_lexer": "ipython3",
   "version": "3.7.10"
  }
 },
 "nbformat": 4,
 "nbformat_minor": 5
}