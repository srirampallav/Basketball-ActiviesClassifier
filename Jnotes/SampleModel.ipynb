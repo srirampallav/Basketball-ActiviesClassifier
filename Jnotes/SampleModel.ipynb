{
 "cells": [
  {
   "cell_type": "markdown",
   "metadata": {},
   "source": [
    "# SUBJECT1"
   ]
  },
  {
   "cell_type": "markdown",
   "metadata": {},
   "source": [
    "1. Import pandas and numpy libraries.\n",
    "2. Read the Esense sensor readings csv file into a pandas Dataframe and converting UNIX time to Local TimeZone\n",
    "3. Upsample Esense data to 100Hz to match with that of Bangle.js Data"
   ]
  },
  {
   "cell_type": "code",
   "execution_count": 4,
   "metadata": {},
   "outputs": [],
   "source": [
    "import pandas as pd\r\n",
    "import numpy as np\r\n",
    "import matplotlib.pyplot as plt\r\n",
    "\r\n",
    "df_sub1=pd.read_csv('df_sub1.csv')"
   ]
  },
  {
   "cell_type": "markdown",
   "metadata": {},
   "source": [
    "# Subject 2"
   ]
  },
  {
   "cell_type": "code",
   "execution_count": 5,
   "metadata": {},
   "outputs": [],
   "source": [
    "df_sub2=pd.read_csv('df_sub2.csv')"
   ]
  },
  {
   "cell_type": "code",
   "execution_count": 6,
   "metadata": {},
   "outputs": [],
   "source": [
    "df_sub2=pd.DataFrame(df_sub2)"
   ]
  },
  {
   "cell_type": "code",
   "execution_count": 7,
   "metadata": {},
   "outputs": [
    {
     "name": "stdout",
     "output_type": "stream",
     "text": [
      "<class 'pandas.core.frame.DataFrame'>\n",
      "RangeIndex: 75890 entries, 0 to 75889\n",
      "Data columns (total 13 columns):\n",
      " #   Column  Non-Null Count  Dtype  \n",
      "---  ------  --------------  -----  \n",
      " 0   E1      75890 non-null  float64\n",
      " 1   E2      75890 non-null  float64\n",
      " 2   E3      75890 non-null  float64\n",
      " 3   E4      75890 non-null  float64\n",
      " 4   E5      75890 non-null  float64\n",
      " 5   E6      75890 non-null  float64\n",
      " 6   Label   57036 non-null  object \n",
      " 7   A1      75890 non-null  float64\n",
      " 8   A2      75890 non-null  float64\n",
      " 9   A3      75890 non-null  float64\n",
      " 10  W1      75890 non-null  float64\n",
      " 11  W2      75890 non-null  float64\n",
      " 12  W3      75890 non-null  float64\n",
      "dtypes: float64(12), object(1)\n",
      "memory usage: 7.5+ MB\n"
     ]
    }
   ],
   "source": [
    "df_sub2.info()"
   ]
  },
  {
   "cell_type": "markdown",
   "metadata": {},
   "source": [
    "## Concat the dataframes of 2 subjects"
   ]
  },
  {
   "cell_type": "code",
   "execution_count": 8,
   "metadata": {},
   "outputs": [],
   "source": [
    "frames=[df_sub1,df_sub2]\n",
    "combined_frame=pd.concat(frames)"
   ]
  },
  {
   "cell_type": "code",
   "execution_count": 9,
   "metadata": {},
   "outputs": [
    {
     "data": {
      "text/html": [
       "<div>\n",
       "<style scoped>\n",
       "    .dataframe tbody tr th:only-of-type {\n",
       "        vertical-align: middle;\n",
       "    }\n",
       "\n",
       "    .dataframe tbody tr th {\n",
       "        vertical-align: top;\n",
       "    }\n",
       "\n",
       "    .dataframe thead th {\n",
       "        text-align: right;\n",
       "    }\n",
       "</style>\n",
       "<table border=\"1\" class=\"dataframe\">\n",
       "  <thead>\n",
       "    <tr style=\"text-align: right;\">\n",
       "      <th></th>\n",
       "      <th>E1</th>\n",
       "      <th>E2</th>\n",
       "      <th>E3</th>\n",
       "      <th>E4</th>\n",
       "      <th>E5</th>\n",
       "      <th>E6</th>\n",
       "      <th>Label</th>\n",
       "      <th>A1</th>\n",
       "      <th>A2</th>\n",
       "      <th>A3</th>\n",
       "      <th>W1</th>\n",
       "      <th>W2</th>\n",
       "      <th>W3</th>\n",
       "    </tr>\n",
       "  </thead>\n",
       "  <tbody>\n",
       "    <tr>\n",
       "      <th>32174</th>\n",
       "      <td>-0.616943</td>\n",
       "      <td>-0.362305</td>\n",
       "      <td>-0.178467</td>\n",
       "      <td>-163.353659</td>\n",
       "      <td>-113.414634</td>\n",
       "      <td>38.871951</td>\n",
       "      <td>dribbling</td>\n",
       "      <td>-0.86426</td>\n",
       "      <td>-0.49463</td>\n",
       "      <td>0.34448</td>\n",
       "      <td>0.50708</td>\n",
       "      <td>0.84814</td>\n",
       "      <td>0.93628</td>\n",
       "    </tr>\n",
       "    <tr>\n",
       "      <th>32175</th>\n",
       "      <td>-0.607544</td>\n",
       "      <td>-0.351288</td>\n",
       "      <td>-0.175659</td>\n",
       "      <td>-163.544207</td>\n",
       "      <td>-113.433689</td>\n",
       "      <td>39.249238</td>\n",
       "      <td>dribbling</td>\n",
       "      <td>-0.85718</td>\n",
       "      <td>-0.49585</td>\n",
       "      <td>0.30151</td>\n",
       "      <td>0.48926</td>\n",
       "      <td>0.81689</td>\n",
       "      <td>0.90112</td>\n",
       "    </tr>\n",
       "    <tr>\n",
       "      <th>32176</th>\n",
       "      <td>-0.598145</td>\n",
       "      <td>-0.340271</td>\n",
       "      <td>-0.172852</td>\n",
       "      <td>-163.734756</td>\n",
       "      <td>-113.452744</td>\n",
       "      <td>39.626524</td>\n",
       "      <td>dribbling</td>\n",
       "      <td>-0.93701</td>\n",
       "      <td>-0.39648</td>\n",
       "      <td>0.08472</td>\n",
       "      <td>0.48022</td>\n",
       "      <td>0.75684</td>\n",
       "      <td>0.85718</td>\n",
       "    </tr>\n",
       "    <tr>\n",
       "      <th>32177</th>\n",
       "      <td>-0.579346</td>\n",
       "      <td>-0.318237</td>\n",
       "      <td>-0.167236</td>\n",
       "      <td>-164.115854</td>\n",
       "      <td>-113.490854</td>\n",
       "      <td>40.381098</td>\n",
       "      <td>dribbling</td>\n",
       "      <td>-1.00317</td>\n",
       "      <td>-0.24487</td>\n",
       "      <td>-0.07593</td>\n",
       "      <td>0.43359</td>\n",
       "      <td>0.66968</td>\n",
       "      <td>0.84961</td>\n",
       "    </tr>\n",
       "    <tr>\n",
       "      <th>32178</th>\n",
       "      <td>-0.569946</td>\n",
       "      <td>-0.307220</td>\n",
       "      <td>-0.164429</td>\n",
       "      <td>-164.306402</td>\n",
       "      <td>-113.509909</td>\n",
       "      <td>40.758384</td>\n",
       "      <td>dribbling</td>\n",
       "      <td>-1.05054</td>\n",
       "      <td>-0.13062</td>\n",
       "      <td>-0.13770</td>\n",
       "      <td>0.42041</td>\n",
       "      <td>0.64136</td>\n",
       "      <td>0.77393</td>\n",
       "    </tr>\n",
       "    <tr>\n",
       "      <th>...</th>\n",
       "      <td>...</td>\n",
       "      <td>...</td>\n",
       "      <td>...</td>\n",
       "      <td>...</td>\n",
       "      <td>...</td>\n",
       "      <td>...</td>\n",
       "      <td>...</td>\n",
       "      <td>...</td>\n",
       "      <td>...</td>\n",
       "      <td>...</td>\n",
       "      <td>...</td>\n",
       "      <td>...</td>\n",
       "      <td>...</td>\n",
       "    </tr>\n",
       "    <tr>\n",
       "      <th>46785</th>\n",
       "      <td>-0.883362</td>\n",
       "      <td>-0.218109</td>\n",
       "      <td>-0.134979</td>\n",
       "      <td>-4.649390</td>\n",
       "      <td>5.114329</td>\n",
       "      <td>-9.607470</td>\n",
       "      <td>dribbling</td>\n",
       "      <td>-1.70679</td>\n",
       "      <td>-0.06372</td>\n",
       "      <td>1.43555</td>\n",
       "      <td>-0.03516</td>\n",
       "      <td>0.17358</td>\n",
       "      <td>1.29932</td>\n",
       "    </tr>\n",
       "    <tr>\n",
       "      <th>46786</th>\n",
       "      <td>-0.893066</td>\n",
       "      <td>-0.220947</td>\n",
       "      <td>-0.133545</td>\n",
       "      <td>-3.963415</td>\n",
       "      <td>5.121951</td>\n",
       "      <td>-8.932927</td>\n",
       "      <td>dribbling</td>\n",
       "      <td>-1.58447</td>\n",
       "      <td>-0.11304</td>\n",
       "      <td>1.28076</td>\n",
       "      <td>-0.02881</td>\n",
       "      <td>0.14282</td>\n",
       "      <td>1.31006</td>\n",
       "    </tr>\n",
       "    <tr>\n",
       "      <th>46787</th>\n",
       "      <td>-0.845459</td>\n",
       "      <td>-0.143799</td>\n",
       "      <td>-0.145996</td>\n",
       "      <td>9.695122</td>\n",
       "      <td>4.939024</td>\n",
       "      <td>1.890244</td>\n",
       "      <td>dribbling</td>\n",
       "      <td>-1.05371</td>\n",
       "      <td>-0.17627</td>\n",
       "      <td>0.80176</td>\n",
       "      <td>-0.02661</td>\n",
       "      <td>0.08984</td>\n",
       "      <td>1.31104</td>\n",
       "    </tr>\n",
       "    <tr>\n",
       "      <th>46788</th>\n",
       "      <td>-0.843533</td>\n",
       "      <td>-0.139838</td>\n",
       "      <td>-0.148139</td>\n",
       "      <td>9.684959</td>\n",
       "      <td>5.318428</td>\n",
       "      <td>2.063008</td>\n",
       "      <td>dribbling</td>\n",
       "      <td>-0.88794</td>\n",
       "      <td>-0.34277</td>\n",
       "      <td>0.70703</td>\n",
       "      <td>-0.02856</td>\n",
       "      <td>0.02100</td>\n",
       "      <td>1.29346</td>\n",
       "    </tr>\n",
       "    <tr>\n",
       "      <th>46789</th>\n",
       "      <td>-0.841607</td>\n",
       "      <td>-0.135878</td>\n",
       "      <td>-0.150282</td>\n",
       "      <td>9.674797</td>\n",
       "      <td>5.697832</td>\n",
       "      <td>2.235772</td>\n",
       "      <td>dribbling</td>\n",
       "      <td>-0.89038</td>\n",
       "      <td>-0.44043</td>\n",
       "      <td>0.65186</td>\n",
       "      <td>-0.02661</td>\n",
       "      <td>-0.02441</td>\n",
       "      <td>1.27417</td>\n",
       "    </tr>\n",
       "  </tbody>\n",
       "</table>\n",
       "<p>14616 rows × 13 columns</p>\n",
       "</div>"
      ],
      "text/plain": [
       "             E1        E2        E3          E4          E5         E6  \\\n",
       "32174 -0.616943 -0.362305 -0.178467 -163.353659 -113.414634  38.871951   \n",
       "32175 -0.607544 -0.351288 -0.175659 -163.544207 -113.433689  39.249238   \n",
       "32176 -0.598145 -0.340271 -0.172852 -163.734756 -113.452744  39.626524   \n",
       "32177 -0.579346 -0.318237 -0.167236 -164.115854 -113.490854  40.381098   \n",
       "32178 -0.569946 -0.307220 -0.164429 -164.306402 -113.509909  40.758384   \n",
       "...         ...       ...       ...         ...         ...        ...   \n",
       "46785 -0.883362 -0.218109 -0.134979   -4.649390    5.114329  -9.607470   \n",
       "46786 -0.893066 -0.220947 -0.133545   -3.963415    5.121951  -8.932927   \n",
       "46787 -0.845459 -0.143799 -0.145996    9.695122    4.939024   1.890244   \n",
       "46788 -0.843533 -0.139838 -0.148139    9.684959    5.318428   2.063008   \n",
       "46789 -0.841607 -0.135878 -0.150282    9.674797    5.697832   2.235772   \n",
       "\n",
       "           Label       A1       A2       A3       W1       W2       W3  \n",
       "32174  dribbling -0.86426 -0.49463  0.34448  0.50708  0.84814  0.93628  \n",
       "32175  dribbling -0.85718 -0.49585  0.30151  0.48926  0.81689  0.90112  \n",
       "32176  dribbling -0.93701 -0.39648  0.08472  0.48022  0.75684  0.85718  \n",
       "32177  dribbling -1.00317 -0.24487 -0.07593  0.43359  0.66968  0.84961  \n",
       "32178  dribbling -1.05054 -0.13062 -0.13770  0.42041  0.64136  0.77393  \n",
       "...          ...      ...      ...      ...      ...      ...      ...  \n",
       "46785  dribbling -1.70679 -0.06372  1.43555 -0.03516  0.17358  1.29932  \n",
       "46786  dribbling -1.58447 -0.11304  1.28076 -0.02881  0.14282  1.31006  \n",
       "46787  dribbling -1.05371 -0.17627  0.80176 -0.02661  0.08984  1.31104  \n",
       "46788  dribbling -0.88794 -0.34277  0.70703 -0.02856  0.02100  1.29346  \n",
       "46789  dribbling -0.89038 -0.44043  0.65186 -0.02661 -0.02441  1.27417  \n",
       "\n",
       "[14616 rows x 13 columns]"
      ]
     },
     "execution_count": 9,
     "metadata": {},
     "output_type": "execute_result"
    }
   ],
   "source": [
    "combined_frame.loc[combined_frame['Label'] == 'dribbling']"
   ]
  },
  {
   "cell_type": "code",
   "execution_count": 10,
   "metadata": {},
   "outputs": [
    {
     "data": {
      "text/plain": [
       "walking      24948\n",
       "layup        23100\n",
       "running      19824\n",
       "shooting     17976\n",
       "dribbling    14616\n",
       "Name: Label, dtype: int64"
      ]
     },
     "execution_count": 10,
     "metadata": {},
     "output_type": "execute_result"
    }
   ],
   "source": [
    "combined_frame['Label'].value_counts()"
   ]
  },
  {
   "cell_type": "markdown",
   "metadata": {},
   "source": [
    "## Balancing the data for each class"
   ]
  },
  {
   "cell_type": "code",
   "execution_count": 12,
   "metadata": {},
   "outputs": [],
   "source": [
    "walking= combined_frame[combined_frame['Label']=='walking'].copy()\r\n",
    "layup= combined_frame[combined_frame['Label']=='layup'].copy()\r\n",
    "running= combined_frame[combined_frame['Label']=='running'].copy()\r\n",
    "shooting= combined_frame[combined_frame['Label']=='shooting'].copy()\r\n",
    "dribbling= combined_frame[combined_frame['Label']=='dribbling'].copy()\r\n",
    "null= combined_frame[combined_frame['Label']=='null'].head(14616).copy()"
   ]
  },
  {
   "cell_type": "code",
   "execution_count": 13,
   "metadata": {},
   "outputs": [],
   "source": [
    "balanced_data=pd.DataFrame()\n",
    "balanced_data=balanced_data.append([walking,layup,running,shooting,dribbling,null])"
   ]
  },
  {
   "cell_type": "code",
   "execution_count": 14,
   "metadata": {},
   "outputs": [
    {
     "data": {
      "text/plain": [
       "walking      24948\n",
       "layup        23100\n",
       "running      19824\n",
       "shooting     17976\n",
       "dribbling    14616\n",
       "Name: Label, dtype: int64"
      ]
     },
     "execution_count": 14,
     "metadata": {},
     "output_type": "execute_result"
    }
   ],
   "source": [
    "balanced_data['Label'].value_counts()"
   ]
  },
  {
   "cell_type": "markdown",
   "metadata": {},
   "source": [
    "## Encoding the labels for training"
   ]
  },
  {
   "cell_type": "code",
   "execution_count": 15,
   "metadata": {},
   "outputs": [
    {
     "data": {
      "text/plain": [
       "array(['dribbling', 'layup', 'running', 'shooting', 'walking'],\n",
       "      dtype=object)"
      ]
     },
     "execution_count": 15,
     "metadata": {},
     "output_type": "execute_result"
    }
   ],
   "source": [
    "from sklearn.preprocessing import LabelEncoder\n",
    "\n",
    "Label = LabelEncoder()\n",
    "balanced_data['label']=Label.fit_transform(balanced_data['Label'])\n",
    "Label.classes_"
   ]
  },
  {
   "cell_type": "markdown",
   "metadata": {},
   "source": [
    "## Standardize the data using Standart Scaler\n",
    "### It normalizes each data value x by (x-mean/std_dev(data[column]))\n"
   ]
  },
  {
   "cell_type": "code",
   "execution_count": 16,
   "metadata": {},
   "outputs": [],
   "source": [
    "column = ['E1', 'E2', 'E3', 'E4', 'E5', 'E6', 'A1', 'A2', 'A3', 'W1', 'W2', 'W3']\n",
    "X=balanced_data[column]\n",
    "Y=balanced_data['label']\n"
   ]
  },
  {
   "cell_type": "code",
   "execution_count": 17,
   "metadata": {},
   "outputs": [],
   "source": [
    "from sklearn.preprocessing import StandardScaler\n",
    "scaler=StandardScaler()\n",
    "\n",
    "x=scaler.fit_transform(X)\n",
    "\n",
    "scaledx=pd.DataFrame(data=x, columns=column)\n",
    "scaledx['label']=Y.values\n"
   ]
  },
  {
   "cell_type": "code",
   "execution_count": 18,
   "metadata": {},
   "outputs": [
    {
     "data": {
      "text/html": [
       "<div>\n",
       "<style scoped>\n",
       "    .dataframe tbody tr th:only-of-type {\n",
       "        vertical-align: middle;\n",
       "    }\n",
       "\n",
       "    .dataframe tbody tr th {\n",
       "        vertical-align: top;\n",
       "    }\n",
       "\n",
       "    .dataframe thead th {\n",
       "        text-align: right;\n",
       "    }\n",
       "</style>\n",
       "<table border=\"1\" class=\"dataframe\">\n",
       "  <thead>\n",
       "    <tr style=\"text-align: right;\">\n",
       "      <th></th>\n",
       "      <th>E1</th>\n",
       "      <th>E2</th>\n",
       "      <th>E3</th>\n",
       "      <th>E4</th>\n",
       "      <th>E5</th>\n",
       "      <th>E6</th>\n",
       "      <th>A1</th>\n",
       "      <th>A2</th>\n",
       "      <th>A3</th>\n",
       "      <th>W1</th>\n",
       "      <th>W2</th>\n",
       "      <th>W3</th>\n",
       "      <th>label</th>\n",
       "    </tr>\n",
       "  </thead>\n",
       "  <tbody>\n",
       "    <tr>\n",
       "      <th>0</th>\n",
       "      <td>-0.473367</td>\n",
       "      <td>0.056240</td>\n",
       "      <td>-0.168178</td>\n",
       "      <td>0.000452</td>\n",
       "      <td>-0.195762</td>\n",
       "      <td>0.386580</td>\n",
       "      <td>0.200792</td>\n",
       "      <td>0.159041</td>\n",
       "      <td>-0.115756</td>\n",
       "      <td>-0.119580</td>\n",
       "      <td>-0.087014</td>\n",
       "      <td>0.976579</td>\n",
       "      <td>4</td>\n",
       "    </tr>\n",
       "    <tr>\n",
       "      <th>1</th>\n",
       "      <td>-0.435432</td>\n",
       "      <td>0.056839</td>\n",
       "      <td>-0.064521</td>\n",
       "      <td>0.023313</td>\n",
       "      <td>-0.242634</td>\n",
       "      <td>0.377261</td>\n",
       "      <td>0.202060</td>\n",
       "      <td>0.148991</td>\n",
       "      <td>-0.114302</td>\n",
       "      <td>-0.057429</td>\n",
       "      <td>-0.133341</td>\n",
       "      <td>1.026679</td>\n",
       "      <td>4</td>\n",
       "    </tr>\n",
       "    <tr>\n",
       "      <th>2</th>\n",
       "      <td>-0.359564</td>\n",
       "      <td>0.058035</td>\n",
       "      <td>0.142794</td>\n",
       "      <td>0.069036</td>\n",
       "      <td>-0.336380</td>\n",
       "      <td>0.358622</td>\n",
       "      <td>0.207484</td>\n",
       "      <td>0.150158</td>\n",
       "      <td>-0.126777</td>\n",
       "      <td>0.174546</td>\n",
       "      <td>-0.010854</td>\n",
       "      <td>0.503222</td>\n",
       "      <td>4</td>\n",
       "    </tr>\n",
       "    <tr>\n",
       "      <th>3</th>\n",
       "      <td>-0.321630</td>\n",
       "      <td>0.058634</td>\n",
       "      <td>0.246451</td>\n",
       "      <td>0.091897</td>\n",
       "      <td>-0.383252</td>\n",
       "      <td>0.349303</td>\n",
       "      <td>0.210360</td>\n",
       "      <td>0.150398</td>\n",
       "      <td>-0.131099</td>\n",
       "      <td>0.351088</td>\n",
       "      <td>-0.010854</td>\n",
       "      <td>0.403716</td>\n",
       "      <td>4</td>\n",
       "    </tr>\n",
       "    <tr>\n",
       "      <th>4</th>\n",
       "      <td>-0.283695</td>\n",
       "      <td>0.059232</td>\n",
       "      <td>0.350108</td>\n",
       "      <td>0.114758</td>\n",
       "      <td>-0.430125</td>\n",
       "      <td>0.339983</td>\n",
       "      <td>0.217065</td>\n",
       "      <td>0.148531</td>\n",
       "      <td>-0.138290</td>\n",
       "      <td>0.559136</td>\n",
       "      <td>-0.064851</td>\n",
       "      <td>0.327009</td>\n",
       "      <td>4</td>\n",
       "    </tr>\n",
       "    <tr>\n",
       "      <th>...</th>\n",
       "      <td>...</td>\n",
       "      <td>...</td>\n",
       "      <td>...</td>\n",
       "      <td>...</td>\n",
       "      <td>...</td>\n",
       "      <td>...</td>\n",
       "      <td>...</td>\n",
       "      <td>...</td>\n",
       "      <td>...</td>\n",
       "      <td>...</td>\n",
       "      <td>...</td>\n",
       "      <td>...</td>\n",
       "      <td>...</td>\n",
       "    </tr>\n",
       "    <tr>\n",
       "      <th>100459</th>\n",
       "      <td>-0.249641</td>\n",
       "      <td>0.240904</td>\n",
       "      <td>-1.175895</td>\n",
       "      <td>0.312840</td>\n",
       "      <td>0.471130</td>\n",
       "      <td>-0.375925</td>\n",
       "      <td>-0.701959</td>\n",
       "      <td>0.105293</td>\n",
       "      <td>2.871915</td>\n",
       "      <td>-0.941576</td>\n",
       "      <td>-0.457303</td>\n",
       "      <td>1.884955</td>\n",
       "      <td>0</td>\n",
       "    </tr>\n",
       "    <tr>\n",
       "      <th>100460</th>\n",
       "      <td>-0.274320</td>\n",
       "      <td>0.233948</td>\n",
       "      <td>-1.169781</td>\n",
       "      <td>0.328965</td>\n",
       "      <td>0.471379</td>\n",
       "      <td>-0.353754</td>\n",
       "      <td>-0.542081</td>\n",
       "      <td>0.058083</td>\n",
       "      <td>2.567816</td>\n",
       "      <td>-0.933986</td>\n",
       "      <td>-0.493108</td>\n",
       "      <td>1.900154</td>\n",
       "      <td>0</td>\n",
       "    </tr>\n",
       "    <tr>\n",
       "      <th>100461</th>\n",
       "      <td>-0.153254</td>\n",
       "      <td>0.423025</td>\n",
       "      <td>-1.222858</td>\n",
       "      <td>0.650025</td>\n",
       "      <td>0.465420</td>\n",
       "      <td>0.001983</td>\n",
       "      <td>0.151647</td>\n",
       "      <td>-0.002442</td>\n",
       "      <td>1.626777</td>\n",
       "      <td>-0.931357</td>\n",
       "      <td>-0.554776</td>\n",
       "      <td>1.901541</td>\n",
       "      <td>0</td>\n",
       "    </tr>\n",
       "    <tr>\n",
       "      <th>100462</th>\n",
       "      <td>-0.148356</td>\n",
       "      <td>0.432731</td>\n",
       "      <td>-1.231994</td>\n",
       "      <td>0.649786</td>\n",
       "      <td>0.477778</td>\n",
       "      <td>0.007662</td>\n",
       "      <td>0.368317</td>\n",
       "      <td>-0.161820</td>\n",
       "      <td>1.440671</td>\n",
       "      <td>-0.933687</td>\n",
       "      <td>-0.634905</td>\n",
       "      <td>1.876661</td>\n",
       "      <td>0</td>\n",
       "    </tr>\n",
       "    <tr>\n",
       "      <th>100463</th>\n",
       "      <td>-0.143458</td>\n",
       "      <td>0.442438</td>\n",
       "      <td>-1.241129</td>\n",
       "      <td>0.649547</td>\n",
       "      <td>0.490137</td>\n",
       "      <td>0.013340</td>\n",
       "      <td>0.365127</td>\n",
       "      <td>-0.255302</td>\n",
       "      <td>1.332285</td>\n",
       "      <td>-0.931357</td>\n",
       "      <td>-0.687762</td>\n",
       "      <td>1.849361</td>\n",
       "      <td>0</td>\n",
       "    </tr>\n",
       "  </tbody>\n",
       "</table>\n",
       "<p>100464 rows × 13 columns</p>\n",
       "</div>"
      ],
      "text/plain": [
       "              E1        E2        E3        E4        E5        E6        A1  \\\n",
       "0      -0.473367  0.056240 -0.168178  0.000452 -0.195762  0.386580  0.200792   \n",
       "1      -0.435432  0.056839 -0.064521  0.023313 -0.242634  0.377261  0.202060   \n",
       "2      -0.359564  0.058035  0.142794  0.069036 -0.336380  0.358622  0.207484   \n",
       "3      -0.321630  0.058634  0.246451  0.091897 -0.383252  0.349303  0.210360   \n",
       "4      -0.283695  0.059232  0.350108  0.114758 -0.430125  0.339983  0.217065   \n",
       "...          ...       ...       ...       ...       ...       ...       ...   \n",
       "100459 -0.249641  0.240904 -1.175895  0.312840  0.471130 -0.375925 -0.701959   \n",
       "100460 -0.274320  0.233948 -1.169781  0.328965  0.471379 -0.353754 -0.542081   \n",
       "100461 -0.153254  0.423025 -1.222858  0.650025  0.465420  0.001983  0.151647   \n",
       "100462 -0.148356  0.432731 -1.231994  0.649786  0.477778  0.007662  0.368317   \n",
       "100463 -0.143458  0.442438 -1.241129  0.649547  0.490137  0.013340  0.365127   \n",
       "\n",
       "              A2        A3        W1        W2        W3  label  \n",
       "0       0.159041 -0.115756 -0.119580 -0.087014  0.976579      4  \n",
       "1       0.148991 -0.114302 -0.057429 -0.133341  1.026679      4  \n",
       "2       0.150158 -0.126777  0.174546 -0.010854  0.503222      4  \n",
       "3       0.150398 -0.131099  0.351088 -0.010854  0.403716      4  \n",
       "4       0.148531 -0.138290  0.559136 -0.064851  0.327009      4  \n",
       "...          ...       ...       ...       ...       ...    ...  \n",
       "100459  0.105293  2.871915 -0.941576 -0.457303  1.884955      0  \n",
       "100460  0.058083  2.567816 -0.933986 -0.493108  1.900154      0  \n",
       "100461 -0.002442  1.626777 -0.931357 -0.554776  1.901541      0  \n",
       "100462 -0.161820  1.440671 -0.933687 -0.634905  1.876661      0  \n",
       "100463 -0.255302  1.332285 -0.931357 -0.687762  1.849361      0  \n",
       "\n",
       "[100464 rows x 13 columns]"
      ]
     },
     "execution_count": 18,
     "metadata": {},
     "output_type": "execute_result"
    }
   ],
   "source": [
    "scaledx"
   ]
  },
  {
   "cell_type": "markdown",
   "metadata": {},
   "source": [
    "## Constructing the Frames/Windows"
   ]
  },
  {
   "cell_type": "code",
   "execution_count": 19,
   "metadata": {},
   "outputs": [],
   "source": [
    "import scipy.stats as stats\n",
    "\n",
    "frequency=100\n",
    "frame_size = frequency*5\n",
    "hopsize = frequency*2\n",
    "\n",
    "\n"
   ]
  },
  {
   "cell_type": "markdown",
   "metadata": {},
   "source": [
    "#### The function frames(dataFrame,frameSize,hopsize) takes the parameters and returns the lists(ie . frames and labels) which are collection of frames and labels differing by the hopsize to get data for the duration of activity\n",
    "#### Here the duration is taken to be 5 seconds . This implies that each frame(list) has the sensor data for a duration of 5 seconds. Also each frame in frames differs by 2 seconds as calculated in the previous cell \n",
    "     "
   ]
  },
  {
   "cell_type": "code",
   "execution_count": 20,
   "metadata": {},
   "outputs": [],
   "source": [
    "def frames(dataFrame,frameSize,hopsize):\n",
    "    featureCount=12\n",
    "    frames=[]\n",
    "    labels=[]\n",
    "    for i in range(0,len(dataFrame)-frameSize,hopsize):\n",
    "        E1=dataFrame['E1'].values[i : i+frameSize]\n",
    "        E2=dataFrame['E2'].values[i : i+frameSize]\n",
    "        E3=dataFrame['E3'].values[i : i+frameSize]\n",
    "        E4=dataFrame['E4'].values[i : i+frameSize]\n",
    "        E5=dataFrame['E5'].values[i : i+frameSize]\n",
    "        E6=dataFrame['E6'].values[i : i+frameSize]\n",
    "        A1=dataFrame['A1'].values[i : i+frameSize]\n",
    "        A2=dataFrame['A2'].values[i : i+frameSize]\n",
    "        A3=dataFrame['A3'].values[i : i+frameSize]\n",
    "        W1=dataFrame['W1'].values[i : i+frameSize]\n",
    "        W2=dataFrame['W2'].values[i : i+frameSize]\n",
    "        W3=dataFrame['W3'].values[i : i+frameSize]\n",
    "\n",
    "\n",
    "        label= stats.mode(dataFrame['label'][i : i+frameSize])[0][0]\n",
    "        frames.append([E1, E2, E3, E4, E5, E6, A1, A2, A3, W1, W2, W3])\n",
    "        labels.append(label)\n",
    "    \n",
    "    frames=np.asarray(frames).reshape(-1,frameSize,featureCount)\n",
    "    labels=np.asarray(labels)\n",
    "    return frames,labels\n",
    "\n"
   ]
  },
  {
   "cell_type": "code",
   "execution_count": 21,
   "metadata": {},
   "outputs": [],
   "source": [
    "X,y = frames(scaledx,frame_size,hopsize)"
   ]
  },
  {
   "cell_type": "markdown",
   "metadata": {},
   "source": [
    "#### Here we are getting 436 frames with each frame of size (500,12) i.e 500 entries with 12 features(classes) and the corresponding labels. That is each frame has a distinct label which is calculated with the help of taking mode of labels for the activity as in previous cell"
   ]
  },
  {
   "cell_type": "code",
   "execution_count": 22,
   "metadata": {},
   "outputs": [
    {
     "data": {
      "text/plain": [
       "((500, 500, 12), (500,))"
      ]
     },
     "execution_count": 22,
     "metadata": {},
     "output_type": "execute_result"
    }
   ],
   "source": [
    "X.shape , y.shape"
   ]
  },
  {
   "cell_type": "code",
   "execution_count": 23,
   "metadata": {},
   "outputs": [],
   "source": [
    "from sklearn.model_selection import train_test_split\n",
    "X_train,X_test,y_train,y_test= train_test_split(X,y , test_size=0.3,random_state=0, stratify= y)"
   ]
  },
  {
   "cell_type": "code",
   "execution_count": 24,
   "metadata": {},
   "outputs": [
    {
     "data": {
      "text/plain": [
       "((350, 500, 12), (150, 500, 12))"
      ]
     },
     "execution_count": 24,
     "metadata": {},
     "output_type": "execute_result"
    }
   ],
   "source": [
    "X_train.shape,X_test.shape"
   ]
  },
  {
   "cell_type": "code",
   "execution_count": 25,
   "metadata": {},
   "outputs": [
    {
     "data": {
      "text/plain": [
       "(500, 12)"
      ]
     },
     "execution_count": 25,
     "metadata": {},
     "output_type": "execute_result"
    }
   ],
   "source": [
    "X_train[0].shape"
   ]
  },
  {
   "cell_type": "code",
   "execution_count": 26,
   "metadata": {},
   "outputs": [],
   "source": [
    "#### The model is implementing Conv2D layer and hence it requires data of 3 dimensions at least. The train and testing data is reshaped below"
   ]
  },
  {
   "cell_type": "code",
   "execution_count": 28,
   "metadata": {},
   "outputs": [],
   "source": [
    "X_train=X_train.reshape(350, 500, 12, 1)\r\n",
    "X_test=X_test.reshape(150, 500, 12,1)\r\n"
   ]
  },
  {
   "cell_type": "code",
   "execution_count": 29,
   "metadata": {},
   "outputs": [
    {
     "data": {
      "text/plain": [
       "(500, 12, 1)"
      ]
     },
     "execution_count": 29,
     "metadata": {},
     "output_type": "execute_result"
    }
   ],
   "source": [
    "X_train[0].shape"
   ]
  },
  {
   "cell_type": "markdown",
   "metadata": {},
   "source": [
    "# Building the model"
   ]
  },
  {
   "cell_type": "code",
   "execution_count": 37,
   "metadata": {},
   "outputs": [],
   "source": [
    "import tensorflow as tf"
   ]
  },
  {
   "cell_type": "code",
   "execution_count": 65,
   "metadata": {},
   "outputs": [],
   "source": [
    "from tensorflow.keras import Sequential\r\n",
    "from tensorflow.keras.layers import Conv2D,Dense,Dropout,Flatten,ReLU,BatchNormalization,MaxPool2D\r\n",
    "from tensorflow.keras.optimizers import Adam\r\n",
    "from tensorflow.keras.losses import sparse_categorical_crossentropy\r\n",
    "model = Sequential()\r\n",
    "model.add(Conv2D(filters=16,kernel_size=(2,2),activation='relu',input_shape=X_train[0].shape))\r\n",
    "\r\n",
    "model.add(Dropout(0.3))\r\n",
    "\r\n",
    "model.add(Conv2D(32,(2,2),activation='relu'))\r\n",
    "\r\n",
    "model.add(Dropout(0.5))\r\n",
    "\r\n",
    "model.add(Flatten())\r\n",
    "\r\n",
    "model.add(Dense(64, activation='relu'))\r\n",
    "\r\n",
    "model.add(Dropout(0.5))\r\n",
    "model.add(Dense(64, activation='relu'))\r\n",
    "\r\n",
    "model.add(Dense(6,activation='softmax'))\r\n"
   ]
  },
  {
   "cell_type": "code",
   "execution_count": 66,
   "metadata": {},
   "outputs": [],
   "source": [
    "model.compile(optimizer=Adam(learning_rate=0.001),loss='sparse_categorical_crossentropy',metrics=['accuracy'])"
   ]
  },
  {
   "cell_type": "code",
   "execution_count": 67,
   "metadata": {},
   "outputs": [
    {
     "name": "stdout",
     "output_type": "stream",
     "text": [
      "Epoch 1/15\n",
      "11/11 [==============================] - 2s 169ms/step - loss: 1.8930 - accuracy: 0.3943 - val_loss: 1.0232 - val_accuracy: 0.6467\n",
      "Epoch 2/15\n",
      "11/11 [==============================] - 2s 147ms/step - loss: 1.0576 - accuracy: 0.5714 - val_loss: 0.6615 - val_accuracy: 0.8800\n",
      "Epoch 3/15\n",
      "11/11 [==============================] - 2s 149ms/step - loss: 0.7403 - accuracy: 0.7286 - val_loss: 0.4412 - val_accuracy: 0.9000\n",
      "Epoch 4/15\n",
      "11/11 [==============================] - 2s 149ms/step - loss: 0.5797 - accuracy: 0.7686 - val_loss: 0.2684 - val_accuracy: 0.9600\n",
      "Epoch 5/15\n",
      "11/11 [==============================] - 2s 149ms/step - loss: 0.4436 - accuracy: 0.8143 - val_loss: 0.1999 - val_accuracy: 0.9600\n",
      "Epoch 6/15\n",
      "11/11 [==============================] - 2s 149ms/step - loss: 0.2752 - accuracy: 0.9057 - val_loss: 0.1274 - val_accuracy: 0.9800\n",
      "Epoch 7/15\n",
      "11/11 [==============================] - 2s 147ms/step - loss: 0.3427 - accuracy: 0.8857 - val_loss: 0.1768 - val_accuracy: 0.9533\n",
      "Epoch 8/15\n",
      "11/11 [==============================] - 2s 157ms/step - loss: 0.2867 - accuracy: 0.9000 - val_loss: 0.1477 - val_accuracy: 0.9800\n",
      "Epoch 9/15\n",
      "11/11 [==============================] - 2s 149ms/step - loss: 0.2421 - accuracy: 0.9086 - val_loss: 0.1356 - val_accuracy: 0.9733\n",
      "Epoch 10/15\n",
      "11/11 [==============================] - 2s 149ms/step - loss: 0.1814 - accuracy: 0.9400 - val_loss: 0.1082 - val_accuracy: 0.9733\n",
      "Epoch 11/15\n",
      "11/11 [==============================] - 2s 155ms/step - loss: 0.1139 - accuracy: 0.9629 - val_loss: 0.1209 - val_accuracy: 0.9667\n",
      "Epoch 12/15\n",
      "11/11 [==============================] - 2s 151ms/step - loss: 0.1778 - accuracy: 0.9400 - val_loss: 0.1154 - val_accuracy: 0.9667\n",
      "Epoch 13/15\n",
      "11/11 [==============================] - 2s 154ms/step - loss: 0.1744 - accuracy: 0.9286 - val_loss: 0.1143 - val_accuracy: 0.9733\n",
      "Epoch 14/15\n",
      "11/11 [==============================] - 2s 153ms/step - loss: 0.1413 - accuracy: 0.9514 - val_loss: 0.1160 - val_accuracy: 0.9733\n",
      "Epoch 15/15\n",
      "11/11 [==============================] - 2s 146ms/step - loss: 0.1989 - accuracy: 0.9114 - val_loss: 0.1013 - val_accuracy: 0.9733\n"
     ]
    }
   ],
   "source": [
    "history=model.fit(X_train,y_train,epochs=15,validation_data=(X_test,y_test),verbose=1)"
   ]
  },
  {
   "cell_type": "markdown",
   "metadata": {},
   "source": [
    "### Plotting the learning curve"
   ]
  },
  {
   "cell_type": "code",
   "execution_count": 68,
   "metadata": {},
   "outputs": [],
   "source": [
    "import matplotlib.pyplot as plt\n",
    "def plotCurve(history,epochs):\n",
    "    epoc_range=range(1,epochs+1)\n",
    "    plt.plot(epoc_range,history.history['accuracy'])\n",
    "    plt.plot(epoc_range,history.history['val_accuracy'])\n",
    "    plt.title('Model Accuracy')\n",
    "    plt.xlabel('Epoch')\n",
    "    plt.ylabel('Accuracy')\n",
    "    plt.legend(['Train','Val'])\n",
    "    plt.show()\n",
    "\n",
    "\n",
    "    plt.plot(epoc_range,history.history['loss'])\n",
    "    plt.plot(epoc_range,history.history['val_loss'])\n",
    "    plt.title('Model loss')\n",
    "    plt.xlabel('Epoch')\n",
    "    plt.ylabel('Loss')\n",
    "    plt.legend(['Train','Val'])\n",
    "    plt.show()\n",
    "\n",
    "\n"
   ]
  },
  {
   "cell_type": "code",
   "execution_count": 69,
   "metadata": {},
   "outputs": [
    {
     "data": {
      "image/png": "[encoded data removed]",
      "text/plain": [
       "<Figure size 432x288 with 1 Axes>"
      ]
     },
     "metadata": {
      "needs_background": "light"
     },
     "output_type": "display_data"
    },
    {
     "data": {
      "image/png": "[encoded data removed]",
      "text/plain": [
       "<Figure size 432x288 with 1 Axes>"
      ]
     },
     "metadata": {
      "needs_background": "light"
     },
     "output_type": "display_data"
    }
   ],
   "source": [
    "plotCurve(history,15)"
   ]
  },
  {
   "cell_type": "code",
   "execution_count": 45,
   "metadata": {},
   "outputs": [
    {
     "name": "stdout",
     "output_type": "stream",
     "text": [
      "WARNING:tensorflow:From C:\\Users\\Pallav\\Anaconda3\\lib\\site-packages\\tensorflow\\python\\ops\\resource_variable_ops.py:1817: calling BaseResourceVariable.__init__ (from tensorflow.python.ops.resource_variable_ops) with constraint is deprecated and will be removed in a future version.\n",
      "Instructions for updating:\n",
      "If using Keras pass *_constraint arguments to layers.\n",
      "INFO:tensorflow:Assets written to: Model1\\assets\n"
     ]
    }
   ],
   "source": [
    "from keras.models import save_model\n",
    "model.save('Model1')"
   ]
  },
  {
   "cell_type": "markdown",
   "metadata": {},
   "source": [
    "## Confusion Matrix"
   ]
  },
  {
   "cell_type": "code",
   "execution_count": 74,
   "metadata": {},
   "outputs": [],
   "source": [
    "from mlxtend.plotting import plot_confusion_matrix\r\n",
    "from sklearn.metrics import confusion_matrix"
   ]
  },
  {
   "cell_type": "code",
   "execution_count": 82,
   "metadata": {},
   "outputs": [
    {
     "data": {
      "text/plain": [
       "(<Figure size 504x504 with 1 Axes>,\n",
       " <AxesSubplot:xlabel='predicted label', ylabel='true label'>)"
      ]
     },
     "execution_count": 82,
     "metadata": {},
     "output_type": "execute_result"
    },
    {
     "data": {
      "image/png": "[encoded data removed]",
      "text/plain": [
       "<Figure size 504x504 with 1 Axes>"
      ]
     },
     "metadata": {
      "needs_background": "light"
     },
     "output_type": "display_data"
    }
   ],
   "source": [
    "y_pred=model.predict_classes(X_test)\r\n",
    "cmatrix=confusion_matrix(y_test,y_pred)\r\n",
    "plot_confusion_matrix(conf_mat=cmatrix,class_names=Label.classes_, show_normed=True,figsize=(7,7))"
   ]
  },
  {
   "cell_type": "code",
   "execution_count": null,
   "metadata": {},
   "outputs": [],
   "source": []
  }
 ],
 "metadata": {
  "interpreter": {
   "hash": "ecf5722fdaf1897a315d257d89d94520bfcaa453217d5becf09b39e73618b0de"
  },
  "kernelspec": {
   "display_name": "Python 3.9.1 64-bit ('base': conda)",
   "name": "python3"
  },
  "language_info": {
   "codemirror_mode": {
    "name": "ipython",
    "version": 3
   },
   "file_extension": ".py",
   "mimetype": "text/x-python",
   "name": "python",
   "nbconvert_exporter": "python",
   "pygments_lexer": "ipython3",
   "version": "3.8.10"
  }
 },
 "nbformat": 4,
 "nbformat_minor": 5
}