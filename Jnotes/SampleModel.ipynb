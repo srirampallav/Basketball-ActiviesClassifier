{
 "cells": [
  {
   "cell_type": "markdown",
   "metadata": {},
   "source": [
    "# Human Activity Recognition Using Convolution Neural Network with Sliding Window"
   ]
  },
  {
   "cell_type": "markdown",
   "metadata": {},
   "source": [
    "## Subject 1 Data import"
   ]
  },
  {
   "cell_type": "markdown",
   "metadata": {},
   "source": [
    "1. Import pandas,numpy and matplotlib libraries.\r\n",
    "2. Reading the sensor values for subject 1 and subject 2"
   ]
  },
  {
   "cell_type": "code",
   "execution_count": 3,
   "metadata": {},
   "outputs": [],
   "source": [
    "import pandas as pd\r\n",
    "import numpy as np\r\n",
    "import matplotlib.pyplot as plt\r\n",
    "\r\n",
    "df_sub1=pd.read_csv('df_sub1.csv')"
   ]
  },
  {
   "cell_type": "markdown",
   "metadata": {},
   "source": [
    "## Subject 2 Data import"
   ]
  },
  {
   "cell_type": "code",
   "execution_count": 4,
   "metadata": {},
   "outputs": [],
   "source": [
    "df_sub2=pd.read_csv('df_sub2.csv')"
   ]
  },
  {
   "cell_type": "code",
   "execution_count": 5,
   "metadata": {},
   "outputs": [],
   "source": [
    "df_sub1=pd.DataFrame(df_sub1)\r\n",
    "df_sub2=pd.DataFrame(df_sub2)"
   ]
  },
  {
   "cell_type": "markdown",
   "metadata": {},
   "source": [
    "## Concat the dataframes of 2 subjects"
   ]
  },
  {
   "cell_type": "code",
   "execution_count": 6,
   "metadata": {},
   "outputs": [],
   "source": [
    "frames=[df_sub1,df_sub2]\n",
    "combined_frame=pd.concat(frames)"
   ]
  },
  {
   "cell_type": "code",
   "execution_count": 7,
   "metadata": {},
   "outputs": [
    {
     "data": {
      "text/html": [
       "<div>\n",
       "<style scoped>\n",
       "    .dataframe tbody tr th:only-of-type {\n",
       "        vertical-align: middle;\n",
       "    }\n",
       "\n",
       "    .dataframe tbody tr th {\n",
       "        vertical-align: top;\n",
       "    }\n",
       "\n",
       "    .dataframe thead th {\n",
       "        text-align: right;\n",
       "    }\n",
       "</style>\n",
       "<table border=\"1\" class=\"dataframe\">\n",
       "  <thead>\n",
       "    <tr style=\"text-align: right;\">\n",
       "      <th></th>\n",
       "      <th>E1</th>\n",
       "      <th>E2</th>\n",
       "      <th>E3</th>\n",
       "      <th>E4</th>\n",
       "      <th>E5</th>\n",
       "      <th>E6</th>\n",
       "      <th>Label</th>\n",
       "      <th>A1</th>\n",
       "      <th>A2</th>\n",
       "      <th>A3</th>\n",
       "      <th>W1</th>\n",
       "      <th>W2</th>\n",
       "      <th>W3</th>\n",
       "    </tr>\n",
       "  </thead>\n",
       "  <tbody>\n",
       "    <tr>\n",
       "      <th>32174</th>\n",
       "      <td>-0.616943</td>\n",
       "      <td>-0.362305</td>\n",
       "      <td>-0.178467</td>\n",
       "      <td>-163.353659</td>\n",
       "      <td>-113.414634</td>\n",
       "      <td>38.871951</td>\n",
       "      <td>dribbling</td>\n",
       "      <td>-0.86426</td>\n",
       "      <td>-0.49463</td>\n",
       "      <td>0.34448</td>\n",
       "      <td>0.50708</td>\n",
       "      <td>0.84814</td>\n",
       "      <td>0.93628</td>\n",
       "    </tr>\n",
       "    <tr>\n",
       "      <th>32175</th>\n",
       "      <td>-0.607544</td>\n",
       "      <td>-0.351288</td>\n",
       "      <td>-0.175659</td>\n",
       "      <td>-163.544207</td>\n",
       "      <td>-113.433689</td>\n",
       "      <td>39.249238</td>\n",
       "      <td>dribbling</td>\n",
       "      <td>-0.85718</td>\n",
       "      <td>-0.49585</td>\n",
       "      <td>0.30151</td>\n",
       "      <td>0.48926</td>\n",
       "      <td>0.81689</td>\n",
       "      <td>0.90112</td>\n",
       "    </tr>\n",
       "    <tr>\n",
       "      <th>32176</th>\n",
       "      <td>-0.598145</td>\n",
       "      <td>-0.340271</td>\n",
       "      <td>-0.172852</td>\n",
       "      <td>-163.734756</td>\n",
       "      <td>-113.452744</td>\n",
       "      <td>39.626524</td>\n",
       "      <td>dribbling</td>\n",
       "      <td>-0.93701</td>\n",
       "      <td>-0.39648</td>\n",
       "      <td>0.08472</td>\n",
       "      <td>0.48022</td>\n",
       "      <td>0.75684</td>\n",
       "      <td>0.85718</td>\n",
       "    </tr>\n",
       "    <tr>\n",
       "      <th>32177</th>\n",
       "      <td>-0.579346</td>\n",
       "      <td>-0.318237</td>\n",
       "      <td>-0.167236</td>\n",
       "      <td>-164.115854</td>\n",
       "      <td>-113.490854</td>\n",
       "      <td>40.381098</td>\n",
       "      <td>dribbling</td>\n",
       "      <td>-1.00317</td>\n",
       "      <td>-0.24487</td>\n",
       "      <td>-0.07593</td>\n",
       "      <td>0.43359</td>\n",
       "      <td>0.66968</td>\n",
       "      <td>0.84961</td>\n",
       "    </tr>\n",
       "    <tr>\n",
       "      <th>32178</th>\n",
       "      <td>-0.569946</td>\n",
       "      <td>-0.307220</td>\n",
       "      <td>-0.164429</td>\n",
       "      <td>-164.306402</td>\n",
       "      <td>-113.509909</td>\n",
       "      <td>40.758384</td>\n",
       "      <td>dribbling</td>\n",
       "      <td>-1.05054</td>\n",
       "      <td>-0.13062</td>\n",
       "      <td>-0.13770</td>\n",
       "      <td>0.42041</td>\n",
       "      <td>0.64136</td>\n",
       "      <td>0.77393</td>\n",
       "    </tr>\n",
       "    <tr>\n",
       "      <th>...</th>\n",
       "      <td>...</td>\n",
       "      <td>...</td>\n",
       "      <td>...</td>\n",
       "      <td>...</td>\n",
       "      <td>...</td>\n",
       "      <td>...</td>\n",
       "      <td>...</td>\n",
       "      <td>...</td>\n",
       "      <td>...</td>\n",
       "      <td>...</td>\n",
       "      <td>...</td>\n",
       "      <td>...</td>\n",
       "      <td>...</td>\n",
       "    </tr>\n",
       "    <tr>\n",
       "      <th>46785</th>\n",
       "      <td>-0.883362</td>\n",
       "      <td>-0.218109</td>\n",
       "      <td>-0.134979</td>\n",
       "      <td>-4.649390</td>\n",
       "      <td>5.114329</td>\n",
       "      <td>-9.607470</td>\n",
       "      <td>dribbling</td>\n",
       "      <td>-1.70679</td>\n",
       "      <td>-0.06372</td>\n",
       "      <td>1.43555</td>\n",
       "      <td>-0.03516</td>\n",
       "      <td>0.17358</td>\n",
       "      <td>1.29932</td>\n",
       "    </tr>\n",
       "    <tr>\n",
       "      <th>46786</th>\n",
       "      <td>-0.893066</td>\n",
       "      <td>-0.220947</td>\n",
       "      <td>-0.133545</td>\n",
       "      <td>-3.963415</td>\n",
       "      <td>5.121951</td>\n",
       "      <td>-8.932927</td>\n",
       "      <td>dribbling</td>\n",
       "      <td>-1.58447</td>\n",
       "      <td>-0.11304</td>\n",
       "      <td>1.28076</td>\n",
       "      <td>-0.02881</td>\n",
       "      <td>0.14282</td>\n",
       "      <td>1.31006</td>\n",
       "    </tr>\n",
       "    <tr>\n",
       "      <th>46787</th>\n",
       "      <td>-0.845459</td>\n",
       "      <td>-0.143799</td>\n",
       "      <td>-0.145996</td>\n",
       "      <td>9.695122</td>\n",
       "      <td>4.939024</td>\n",
       "      <td>1.890244</td>\n",
       "      <td>dribbling</td>\n",
       "      <td>-1.05371</td>\n",
       "      <td>-0.17627</td>\n",
       "      <td>0.80176</td>\n",
       "      <td>-0.02661</td>\n",
       "      <td>0.08984</td>\n",
       "      <td>1.31104</td>\n",
       "    </tr>\n",
       "    <tr>\n",
       "      <th>46788</th>\n",
       "      <td>-0.843533</td>\n",
       "      <td>-0.139838</td>\n",
       "      <td>-0.148139</td>\n",
       "      <td>9.684959</td>\n",
       "      <td>5.318428</td>\n",
       "      <td>2.063008</td>\n",
       "      <td>dribbling</td>\n",
       "      <td>-0.88794</td>\n",
       "      <td>-0.34277</td>\n",
       "      <td>0.70703</td>\n",
       "      <td>-0.02856</td>\n",
       "      <td>0.02100</td>\n",
       "      <td>1.29346</td>\n",
       "    </tr>\n",
       "    <tr>\n",
       "      <th>46789</th>\n",
       "      <td>-0.841607</td>\n",
       "      <td>-0.135878</td>\n",
       "      <td>-0.150282</td>\n",
       "      <td>9.674797</td>\n",
       "      <td>5.697832</td>\n",
       "      <td>2.235772</td>\n",
       "      <td>dribbling</td>\n",
       "      <td>-0.89038</td>\n",
       "      <td>-0.44043</td>\n",
       "      <td>0.65186</td>\n",
       "      <td>-0.02661</td>\n",
       "      <td>-0.02441</td>\n",
       "      <td>1.27417</td>\n",
       "    </tr>\n",
       "  </tbody>\n",
       "</table>\n",
       "<p>14616 rows × 13 columns</p>\n",
       "</div>"
      ],
      "text/plain": [
       "             E1        E2        E3          E4          E5         E6  \\\n",
       "32174 -0.616943 -0.362305 -0.178467 -163.353659 -113.414634  38.871951   \n",
       "32175 -0.607544 -0.351288 -0.175659 -163.544207 -113.433689  39.249238   \n",
       "32176 -0.598145 -0.340271 -0.172852 -163.734756 -113.452744  39.626524   \n",
       "32177 -0.579346 -0.318237 -0.167236 -164.115854 -113.490854  40.381098   \n",
       "32178 -0.569946 -0.307220 -0.164429 -164.306402 -113.509909  40.758384   \n",
       "...         ...       ...       ...         ...         ...        ...   \n",
       "46785 -0.883362 -0.218109 -0.134979   -4.649390    5.114329  -9.607470   \n",
       "46786 -0.893066 -0.220947 -0.133545   -3.963415    5.121951  -8.932927   \n",
       "46787 -0.845459 -0.143799 -0.145996    9.695122    4.939024   1.890244   \n",
       "46788 -0.843533 -0.139838 -0.148139    9.684959    5.318428   2.063008   \n",
       "46789 -0.841607 -0.135878 -0.150282    9.674797    5.697832   2.235772   \n",
       "\n",
       "           Label       A1       A2       A3       W1       W2       W3  \n",
       "32174  dribbling -0.86426 -0.49463  0.34448  0.50708  0.84814  0.93628  \n",
       "32175  dribbling -0.85718 -0.49585  0.30151  0.48926  0.81689  0.90112  \n",
       "32176  dribbling -0.93701 -0.39648  0.08472  0.48022  0.75684  0.85718  \n",
       "32177  dribbling -1.00317 -0.24487 -0.07593  0.43359  0.66968  0.84961  \n",
       "32178  dribbling -1.05054 -0.13062 -0.13770  0.42041  0.64136  0.77393  \n",
       "...          ...      ...      ...      ...      ...      ...      ...  \n",
       "46785  dribbling -1.70679 -0.06372  1.43555 -0.03516  0.17358  1.29932  \n",
       "46786  dribbling -1.58447 -0.11304  1.28076 -0.02881  0.14282  1.31006  \n",
       "46787  dribbling -1.05371 -0.17627  0.80176 -0.02661  0.08984  1.31104  \n",
       "46788  dribbling -0.88794 -0.34277  0.70703 -0.02856  0.02100  1.29346  \n",
       "46789  dribbling -0.89038 -0.44043  0.65186 -0.02661 -0.02441  1.27417  \n",
       "\n",
       "[14616 rows x 13 columns]"
      ]
     },
     "execution_count": 7,
     "metadata": {},
     "output_type": "execute_result"
    }
   ],
   "source": [
    "combined_frame.loc[combined_frame['Label'] == 'dribbling']"
   ]
  },
  {
   "cell_type": "code",
   "execution_count": 8,
   "metadata": {},
   "outputs": [
    {
     "data": {
      "image/png": "[encoded data removed]",
      "text/plain": [
       "<Figure size 432x288 with 1 Axes>"
      ]
     },
     "metadata": {
      "needs_background": "light"
     },
     "output_type": "display_data"
    },
    {
     "data": {
      "image/png": "[encoded data removed]",
      "text/plain": [
       "<Figure size 432x288 with 1 Axes>"
      ]
     },
     "metadata": {
      "needs_background": "light"
     },
     "output_type": "display_data"
    },
    {
     "data": {
      "image/png": "[encoded data removed]",
      "text/plain": [
       "<Figure size 432x288 with 1 Axes>"
      ]
     },
     "metadata": {
      "needs_background": "light"
     },
     "output_type": "display_data"
    }
   ],
   "source": [
    "p=plt.figure(1)\r\n",
    "df_sub1['Label'].value_counts().plot(kind='bar',color='green')\r\n",
    "plt.xlabel('Activity')\r\n",
    "plt.ylabel('value counts')\r\n",
    "plt.title('Subject 1 Activity Data')\r\n",
    "\r\n",
    "q=plt.figure(2)\r\n",
    "df_sub2['Label'].value_counts().plot(kind='bar',color='blue')\r\n",
    "plt.xlabel('Activity')\r\n",
    "plt.ylabel('value counts')\r\n",
    "plt.title('Subject 2 Activity Data')\r\n",
    "plt.show()\r\n",
    "\r\n",
    "r=plt.figure(3)\r\n",
    "combined_frame['Label'].value_counts().plot(kind='bar',color='purple')\r\n",
    "plt.xlabel('Activity')\r\n",
    "plt.ylabel('value counts')\r\n",
    "plt.title('Combined Activity Data')\r\n",
    "plt.show()"
   ]
  },
  {
   "cell_type": "markdown",
   "metadata": {},
   "source": [
    "## Creating data frames for each subject"
   ]
  },
  {
   "cell_type": "code",
   "execution_count": 9,
   "metadata": {},
   "outputs": [],
   "source": [
    "walking= df_sub1[df_sub1['Label']=='walking'].copy()\r\n",
    "layup= df_sub1[df_sub1['Label']=='layup'].copy()\r\n",
    "running= df_sub1[df_sub1['Label']=='running'].copy()\r\n",
    "shooting= df_sub1[df_sub1['Label']=='shooting'].copy()\r\n",
    "dribbling= df_sub1[df_sub1['Label']=='dribbling'].copy()\r\n",
    "null= df_sub1[df_sub1['Label']=='null'].copy()\r\n",
    "Subject1_data=pd.DataFrame()\r\n",
    "Subject1_data=Subject1_data.append([walking,layup,running,shooting,dribbling,null])"
   ]
  },
  {
   "cell_type": "code",
   "execution_count": 10,
   "metadata": {},
   "outputs": [],
   "source": [
    "walking= df_sub2[df_sub2['Label']=='walking'].copy()\r\n",
    "layup= df_sub2[df_sub2['Label']=='layup'].copy()\r\n",
    "running= df_sub2[df_sub2['Label']=='running'].copy()\r\n",
    "shooting= df_sub2[df_sub2['Label']=='shooting'].copy()\r\n",
    "dribbling= df_sub2[df_sub2['Label']=='dribbling'].copy()\r\n",
    "null= df_sub2[df_sub2['Label']=='null'].copy()\r\n",
    "Subject2_data=pd.DataFrame()\r\n",
    "Subject2_data=Subject2_data.append([walking,layup,running,shooting,dribbling,null])"
   ]
  },
  {
   "cell_type": "markdown",
   "metadata": {},
   "source": [
    "## Creating Data Frame for the combined data of both the subjects"
   ]
  },
  {
   "cell_type": "code",
   "execution_count": 11,
   "metadata": {},
   "outputs": [],
   "source": [
    "walking= combined_frame[combined_frame['Label']=='walking'].copy()\r\n",
    "layup= combined_frame[combined_frame['Label']=='layup'].copy()\r\n",
    "running= combined_frame[combined_frame['Label']=='running'].copy()\r\n",
    "shooting= combined_frame[combined_frame['Label']=='shooting'].copy()\r\n",
    "dribbling= combined_frame[combined_frame['Label']=='dribbling'].copy()\r\n",
    "null= combined_frame[combined_frame['Label']=='null'].copy()\r\n",
    "Combined_data=pd.DataFrame()\r\n",
    "Combined_data=Combined_data.append([walking,layup,running,shooting,dribbling,null])"
   ]
  },
  {
   "cell_type": "code",
   "execution_count": 12,
   "metadata": {},
   "outputs": [
    {
     "data": {
      "text/plain": [
       "walking      24948\n",
       "layup        23100\n",
       "running      19824\n",
       "shooting     17976\n",
       "dribbling    14616\n",
       "Name: Label, dtype: int64"
      ]
     },
     "execution_count": 12,
     "metadata": {},
     "output_type": "execute_result"
    }
   ],
   "source": [
    "Combined_data['Label'].value_counts()"
   ]
  },
  {
   "cell_type": "markdown",
   "metadata": {},
   "source": [
    "## Encoding the labels for training"
   ]
  },
  {
   "cell_type": "code",
   "execution_count": 13,
   "metadata": {},
   "outputs": [
    {
     "data": {
      "text/plain": [
       "array(['dribbling', 'layup', 'running', 'shooting', 'walking'],\n",
       "      dtype=object)"
      ]
     },
     "execution_count": 13,
     "metadata": {},
     "output_type": "execute_result"
    }
   ],
   "source": [
    "from sklearn.preprocessing import LabelEncoder\r\n",
    "\r\n",
    "Label = LabelEncoder()\r\n",
    "Combined_data['label']=Label.fit_transform(Combined_data['Label'])\r\n",
    "Subject1_data['label']=Label.fit_transform(Subject1_data['Label'])\r\n",
    "Subject2_data['label']=Label.fit_transform(Subject2_data['Label'])\r\n",
    "Label.classes_"
   ]
  },
  {
   "cell_type": "code",
   "execution_count": 14,
   "metadata": {},
   "outputs": [],
   "source": [
    "column = ['E1', 'E2', 'E3', 'E4', 'E5', 'E6', 'A1', 'A2', 'A3', 'W1', 'W2', 'W3']\r\n",
    "X=Combined_data[column]\r\n",
    "Y=Combined_data['label']\r\n"
   ]
  },
  {
   "cell_type": "markdown",
   "metadata": {},
   "source": [
    "## Normalizing the datasets"
   ]
  },
  {
   "cell_type": "markdown",
   "metadata": {},
   "source": [
    "### Creating 2 datasets one with normalized data and one without normalization for further training and validation"
   ]
  },
  {
   "cell_type": "code",
   "execution_count": 15,
   "metadata": {},
   "outputs": [],
   "source": [
    "from sklearn.preprocessing import StandardScaler\r\n",
    "scaler=StandardScaler()\r\n",
    "\r\n",
    "x=scaler.fit_transform(X)\r\n",
    "\r\n",
    "Combined_data_scaled=pd.DataFrame(data=x, columns=column)\r\n",
    "Combined_data_scaled['label']=Y.values\r\n"
   ]
  },
  {
   "cell_type": "markdown",
   "metadata": {},
   "source": [
    "## Constructing the Frames/Windows"
   ]
  },
  {
   "cell_type": "markdown",
   "metadata": {},
   "source": [
    "#### The function frames(dataFrame,frameSize,hopsize) takes the parameters and returns the lists(ie . frames and labels) which are collection of frames and labels differing by the hopsize to get data for the duration of activity\r\n",
    "#### Here the duration is taken to be 5 seconds . This implies that each frame(list) has the sensor data for a duration of 5 seconds. Also each frame in frames differs by 2 seconds as calculated in the previous cell \r\n",
    "     "
   ]
  },
  {
   "cell_type": "code",
   "execution_count": 16,
   "metadata": {},
   "outputs": [],
   "source": [
    "import scipy.stats as stats\r\n",
    "\r\n",
    "frequency=100\r\n",
    "frame_size = frequency*5\r\n",
    "hopsize = frequency*2"
   ]
  },
  {
   "cell_type": "code",
   "execution_count": 17,
   "metadata": {},
   "outputs": [],
   "source": [
    "def frames(dataFrame,frameSize,hopsize):\n",
    "    featureCount=12\n",
    "    frames=[]\n",
    "    labels=[]\n",
    "    for i in range(0,len(dataFrame)-frameSize,hopsize):\n",
    "        E1=dataFrame['E1'].values[i : i+frameSize]\n",
    "        E2=dataFrame['E2'].values[i : i+frameSize]\n",
    "        E3=dataFrame['E3'].values[i : i+frameSize]\n",
    "        E4=dataFrame['E4'].values[i : i+frameSize]\n",
    "        E5=dataFrame['E5'].values[i : i+frameSize]\n",
    "        E6=dataFrame['E6'].values[i : i+frameSize]\n",
    "        A1=dataFrame['A1'].values[i : i+frameSize]\n",
    "        A2=dataFrame['A2'].values[i : i+frameSize]\n",
    "        A3=dataFrame['A3'].values[i : i+frameSize]\n",
    "        W1=dataFrame['W1'].values[i : i+frameSize]\n",
    "        W2=dataFrame['W2'].values[i : i+frameSize]\n",
    "        W3=dataFrame['W3'].values[i : i+frameSize]\n",
    "\n",
    "\n",
    "        label= stats.mode(dataFrame['label'][i : i+frameSize])[0][0]\n",
    "        frames.append([E1, E2, E3, E4, E5, E6, A1, A2, A3, W1, W2, W3])\n",
    "        labels.append(label)\n",
    "    \n",
    "    frames=np.asarray(frames).reshape(-1,frameSize,featureCount)\n",
    "    labels=np.asarray(labels)\n",
    "    return frames,labels\n",
    "\n"
   ]
  },
  {
   "cell_type": "code",
   "execution_count": 18,
   "metadata": {},
   "outputs": [],
   "source": [
    "X,y = frames(Combined_data,frame_size,hopsize)\r\n",
    "X_S1,y_S1=frames(Subject1_data,frame_size,hopsize)\r\n",
    "X_S2,y_S2=frames(Subject2_data,frame_size,hopsize)\r\n",
    "\r\n",
    "X_scaled,y_scaled = frames(Combined_data_scaled,frame_size,hopsize)\r\n"
   ]
  },
  {
   "cell_type": "markdown",
   "metadata": {},
   "source": [
    "### Here we are getting 500 frames with each frame of size (500,12) i.e 500 entries with 12 features(classes) and the corresponding labels. That is each frame has a distinct label which is calculated with the help of taking mode of labels for the activity as in previous cell"
   ]
  },
  {
   "cell_type": "code",
   "execution_count": 19,
   "metadata": {},
   "outputs": [
    {
     "data": {
      "text/plain": [
       "((500, 500, 12), (500,), (215, 500, 12), (215,), (283, 500, 12), (283,))"
      ]
     },
     "execution_count": 19,
     "metadata": {},
     "output_type": "execute_result"
    }
   ],
   "source": [
    "X.shape , y.shape , X_S1.shape, y_S1.shape ,X_S2.shape , y_S2.shape"
   ]
  },
  {
   "cell_type": "markdown",
   "metadata": {},
   "source": [
    "## Train Test Split"
   ]
  },
  {
   "cell_type": "markdown",
   "metadata": {},
   "source": [
    "### Train test split for the combined and non combined data of the subjects"
   ]
  },
  {
   "cell_type": "code",
   "execution_count": 26,
   "metadata": {},
   "outputs": [],
   "source": [
    "from sklearn.model_selection import train_test_split\r\n",
    "X_train,X_test,y_train,y_test= train_test_split(X,y , test_size=0.3,random_state=0, stratify= y)\r\n",
    "X_s1_train,X_s1_test,y_s1_train,y_s1_test= train_test_split(X_S1,y_S1 , test_size=0.3,random_state=0, stratify= y_S1)\r\n",
    "X_s2_train,X_s2_test,y_s2_train,y_s2_test= train_test_split(X_S2,y_S2, test_size=0.3,random_state=0, stratify= y_S2)\r\n",
    "\r\n",
    "\r\n",
    "X_train_scaled,X_test_scaled,y_train_scaled,y_test_scaled = train_test_split(X_scaled,y_scaled , test_size=0.3,random_state=0, stratify= y_scaled)"
   ]
  },
  {
   "cell_type": "code",
   "execution_count": 27,
   "metadata": {},
   "outputs": [
    {
     "data": {
      "text/plain": [
       "((350, 500, 12),\n",
       " (150, 500, 12),\n",
       " (150, 500, 12),\n",
       " (65, 500, 12),\n",
       " (198, 500, 12),\n",
       " (85, 500, 12))"
      ]
     },
     "execution_count": 27,
     "metadata": {},
     "output_type": "execute_result"
    }
   ],
   "source": [
    "X_train.shape,X_test.shape , X_s1_train.shape,X_s1_test.shape ,X_s2_train.shape,X_s2_test.shape"
   ]
  },
  {
   "cell_type": "markdown",
   "metadata": {},
   "source": [
    "The model is implementing Conv2D layer and hence it requires data of 3 dimensions at least. The train and testing data is reshaped below"
   ]
  },
  {
   "cell_type": "code",
   "execution_count": 28,
   "metadata": {},
   "outputs": [],
   "source": [
    "X_train=X_train.reshape(350, 500, 12, 1)\r\n",
    "X_test=X_test.reshape(150, 500, 12,1)\r\n",
    "\r\n",
    "X_s1_train=X_s1_train.reshape(150, 500, 12, 1)\r\n",
    "X_s1_test=X_s1_test.reshape(65, 500, 12,1)\r\n",
    "\r\n",
    "X_s2_train=X_s2_train.reshape(198, 500, 12, 1)\r\n",
    "X_s2_test=X_s2_test.reshape(85, 500, 12,1)\r\n",
    "\r\n",
    "X_train_scaled=X_train_scaled.reshape(350, 500, 12, 1)\r\n",
    "X_test_scaled=X_test_scaled.reshape(150, 500, 12,1)\r\n"
   ]
  },
  {
   "cell_type": "markdown",
   "metadata": {},
   "source": [
    "## Building the model"
   ]
  },
  {
   "cell_type": "code",
   "execution_count": 51,
   "metadata": {},
   "outputs": [],
   "source": [
    "import tensorflow as tf\r\n",
    "from tensorflow.keras import Sequential\r\n",
    "from tensorflow.keras.layers import Conv2D,Dense,Dropout,Flatten,ReLU,BatchNormalization,MaxPool2D\r\n",
    "from tensorflow.keras.optimizers import Adam\r\n",
    "from tensorflow.keras.losses import sparse_categorical_crossentropy\r\n",
    "\r\n",
    "model1 = Sequential()\r\n",
    "model1.add(Conv2D(filters=16,kernel_size=(2,2),activation='relu',input_shape=(500,12,1)))\r\n",
    "\r\n",
    "model1.add(Dropout(0.3))\r\n",
    "\r\n",
    "model1.add(Conv2D(32,(2,2),activation='relu'))\r\n",
    "\r\n",
    "model1.add(Dropout(0.5))\r\n",
    "\r\n",
    "model1.add(Flatten())\r\n",
    "\r\n",
    "model1.add(Dense(128, activation='relu'))\r\n",
    "\r\n",
    "model1.add(Dropout(0.5))\r\n",
    "model1.add(Dense(64, activation='relu'))\r\n",
    "\r\n",
    "model1.add(Dense(6,activation='softmax'))\r\n",
    "\r\n",
    "model1.compile(optimizer=Adam(learning_rate=0.001),loss='sparse_categorical_crossentropy',metrics=['accuracy'])"
   ]
  },
  {
   "cell_type": "code",
   "execution_count": 52,
   "metadata": {},
   "outputs": [],
   "source": [
    "model2 = Sequential()\r\n",
    "model2.add(Conv2D(filters=16,kernel_size=(2,2),activation='relu',input_shape=(500,12,1)))\r\n",
    "\r\n",
    "model2.add(Dropout(0.3))\r\n",
    "\r\n",
    "model2.add(Conv2D(32,(2,2),activation='relu'))\r\n",
    "\r\n",
    "model2.add(Dropout(0.5))\r\n",
    "\r\n",
    "model2.add(Flatten())\r\n",
    "\r\n",
    "model2.add(Dense(128, activation='relu'))\r\n",
    "\r\n",
    "model2.add(Dropout(0.5))\r\n",
    "model2.add(Dense(64, activation='relu'))\r\n",
    "\r\n",
    "model2.add(Dense(6,activation='softmax'))\r\n",
    "\r\n",
    "model2.compile(optimizer=Adam(learning_rate=0.001),loss='sparse_categorical_crossentropy',metrics=['accuracy'])"
   ]
  },
  {
   "cell_type": "code",
   "execution_count": 58,
   "metadata": {},
   "outputs": [],
   "source": [
    "model3 = Sequential()\r\n",
    "model3.add(Conv2D(filters=16,kernel_size=(2,2),activation='relu',input_shape=(500,12,1)))\r\n",
    "\r\n",
    "model3.add(Dropout(0.3))\r\n",
    "\r\n",
    "model3.add(Conv2D(32,(2,2),activation='relu'))\r\n",
    "\r\n",
    "model3.add(Dropout(0.5))\r\n",
    "\r\n",
    "model3.add(Flatten())\r\n",
    "\r\n",
    "model3.add(Dense(128, activation='relu'))\r\n",
    "\r\n",
    "model3.add(Dropout(0.5))\r\n",
    "model3.add(Dense(64, activation='relu'))\r\n",
    "\r\n",
    "model3.add(Dense(6,activation='softmax'))\r\n",
    "\r\n",
    "model3.compile(optimizer=Adam(learning_rate=0.001),loss='sparse_categorical_crossentropy',metrics=['accuracy'])"
   ]
  },
  {
   "cell_type": "code",
   "execution_count": 84,
   "metadata": {},
   "outputs": [],
   "source": [
    "model4 = Sequential()\r\n",
    "model4.add(Conv2D(filters=16,kernel_size=(2,2),activation='relu',input_shape=(500,12,1)))\r\n",
    "\r\n",
    "model4.add(Dropout(0.3))\r\n",
    "\r\n",
    "model4.add(Conv2D(32,(2,2),activation='relu'))\r\n",
    "\r\n",
    "model4.add(Dropout(0.5))\r\n",
    "\r\n",
    "model4.add(Flatten())\r\n",
    "\r\n",
    "model4.add(Dense(128, activation='relu'))\r\n",
    "\r\n",
    "model4.add(Dropout(0.5))\r\n",
    "model4.add(Dense(64, activation='relu'))\r\n",
    "\r\n",
    "model4.add(Dense(6,activation='softmax'))\r\n",
    "\r\n",
    "model4.compile(optimizer=Adam(learning_rate=0.001),loss='sparse_categorical_crossentropy',metrics=['accuracy'])"
   ]
  },
  {
   "cell_type": "code",
   "execution_count": 89,
   "metadata": {},
   "outputs": [],
   "source": [
    "model5 = Sequential()\r\n",
    "model5.add(Conv2D(filters=16,kernel_size=(2,2),activation='relu',input_shape=(500,12,1)))\r\n",
    "\r\n",
    "model5.add(Dropout(0.3))\r\n",
    "\r\n",
    "model5.add(Conv2D(32,(2,2),activation='relu'))\r\n",
    "\r\n",
    "model5.add(Dropout(0.5))\r\n",
    "\r\n",
    "model5.add(Flatten())\r\n",
    "\r\n",
    "model5.add(Dense(128, activation='relu'))\r\n",
    "\r\n",
    "model5.add(Dropout(0.5))\r\n",
    "model5.add(Dense(64, activation='relu'))\r\n",
    "\r\n",
    "model5.add(Dense(6,activation='softmax'))\r\n",
    "\r\n",
    "model5.compile(optimizer=Adam(learning_rate=0.001),loss='sparse_categorical_crossentropy',metrics=['accuracy'])"
   ]
  },
  {
   "cell_type": "markdown",
   "metadata": {},
   "source": [
    "## Training the model using Cross Subject Validation"
   ]
  },
  {
   "cell_type": "code",
   "execution_count": 54,
   "metadata": {},
   "outputs": [
    {
     "name": "stdout",
     "output_type": "stream",
     "text": [
      "Epoch 1/15\n",
      "7/7 [==============================] - 1s 146ms/step - loss: 20.3296 - accuracy: 0.2121 - val_loss: 7.9364 - val_accuracy: 0.0308\n",
      "Epoch 2/15\n",
      "7/7 [==============================] - 1s 147ms/step - loss: 9.9383 - accuracy: 0.3081 - val_loss: 6.3173 - val_accuracy: 0.0462\n",
      "Epoch 3/15\n",
      "7/7 [==============================] - 1s 132ms/step - loss: 5.1260 - accuracy: 0.3333 - val_loss: 3.2915 - val_accuracy: 0.0462\n",
      "Epoch 4/15\n",
      "7/7 [==============================] - 1s 133ms/step - loss: 3.2141 - accuracy: 0.3990 - val_loss: 3.4438 - val_accuracy: 0.0154\n",
      "Epoch 5/15\n",
      "7/7 [==============================] - 1s 131ms/step - loss: 1.9709 - accuracy: 0.3788 - val_loss: 2.6023 - val_accuracy: 0.0000e+00\n",
      "Epoch 6/15\n",
      "7/7 [==============================] - 1s 121ms/step - loss: 1.4931 - accuracy: 0.4545 - val_loss: 2.3306 - val_accuracy: 0.0000e+00\n",
      "Epoch 7/15\n",
      "7/7 [==============================] - 1s 125ms/step - loss: 1.3570 - accuracy: 0.4848 - val_loss: 2.1298 - val_accuracy: 0.0000e+00\n",
      "Epoch 8/15\n",
      "7/7 [==============================] - 1s 125ms/step - loss: 1.2746 - accuracy: 0.5354 - val_loss: 2.0836 - val_accuracy: 0.0154\n",
      "Epoch 9/15\n",
      "7/7 [==============================] - 1s 121ms/step - loss: 1.1105 - accuracy: 0.6212 - val_loss: 2.1155 - val_accuracy: 0.0000e+00\n",
      "Epoch 10/15\n",
      "7/7 [==============================] - 1s 123ms/step - loss: 1.0507 - accuracy: 0.6162 - val_loss: 2.2029 - val_accuracy: 0.0000e+00\n",
      "Epoch 11/15\n",
      "7/7 [==============================] - 1s 126ms/step - loss: 0.9450 - accuracy: 0.6566 - val_loss: 2.3217 - val_accuracy: 0.0154\n",
      "Epoch 12/15\n",
      "7/7 [==============================] - 1s 125ms/step - loss: 0.8067 - accuracy: 0.7172 - val_loss: 2.5888 - val_accuracy: 0.0154\n",
      "Epoch 13/15\n",
      "7/7 [==============================] - 1s 123ms/step - loss: 0.8546 - accuracy: 0.6667 - val_loss: 2.7555 - val_accuracy: 0.0000e+00\n",
      "Epoch 14/15\n",
      "7/7 [==============================] - 1s 124ms/step - loss: 0.8607 - accuracy: 0.6667 - val_loss: 2.6459 - val_accuracy: 0.0000e+00\n",
      "Epoch 15/15\n",
      "7/7 [==============================] - 1s 120ms/step - loss: 0.8134 - accuracy: 0.6869 - val_loss: 2.5321 - val_accuracy: 0.0154\n"
     ]
    }
   ],
   "source": [
    "history_cross_subject_validation=model1.fit(X_s2_train,y_s2_train,epochs=15,validation_data=(X_s1_test,y_s1_test),verbose=1)"
   ]
  },
  {
   "cell_type": "markdown",
   "metadata": {},
   "source": [
    "## Training the model using combined data"
   ]
  },
  {
   "cell_type": "markdown",
   "metadata": {},
   "source": [
    "### Unscaled Data "
   ]
  },
  {
   "cell_type": "code",
   "execution_count": 56,
   "metadata": {},
   "outputs": [
    {
     "name": "stdout",
     "output_type": "stream",
     "text": [
      "Epoch 1/20\n",
      "11/11 [==============================] - 2s 153ms/step - loss: 0.7507 - accuracy: 0.7343 - val_loss: 0.8868 - val_accuracy: 0.7467\n",
      "Epoch 2/20\n",
      "11/11 [==============================] - 2s 153ms/step - loss: 0.7627 - accuracy: 0.7171 - val_loss: 0.9543 - val_accuracy: 0.6800\n",
      "Epoch 3/20\n",
      "11/11 [==============================] - 2s 153ms/step - loss: 0.6744 - accuracy: 0.7571 - val_loss: 0.8464 - val_accuracy: 0.7333\n",
      "Epoch 4/20\n",
      "11/11 [==============================] - 2s 155ms/step - loss: 0.6290 - accuracy: 0.7800 - val_loss: 0.7591 - val_accuracy: 0.7867\n",
      "Epoch 5/20\n",
      "11/11 [==============================] - 2s 153ms/step - loss: 0.6717 - accuracy: 0.7657 - val_loss: 0.7328 - val_accuracy: 0.8267\n",
      "Epoch 6/20\n",
      "11/11 [==============================] - 2s 154ms/step - loss: 0.4586 - accuracy: 0.8257 - val_loss: 0.6272 - val_accuracy: 0.8267\n",
      "Epoch 7/20\n",
      "11/11 [==============================] - 2s 150ms/step - loss: 0.5023 - accuracy: 0.8057 - val_loss: 0.5773 - val_accuracy: 0.8267\n",
      "Epoch 8/20\n",
      "11/11 [==============================] - 2s 149ms/step - loss: 0.4278 - accuracy: 0.8343 - val_loss: 0.5780 - val_accuracy: 0.8400\n",
      "Epoch 9/20\n",
      "11/11 [==============================] - 2s 156ms/step - loss: 0.4602 - accuracy: 0.8514 - val_loss: 0.4592 - val_accuracy: 0.8800\n",
      "Epoch 10/20\n",
      "11/11 [==============================] - 2s 166ms/step - loss: 0.3458 - accuracy: 0.8800 - val_loss: 0.4642 - val_accuracy: 0.9133\n",
      "Epoch 11/20\n",
      "11/11 [==============================] - 2s 156ms/step - loss: 0.3156 - accuracy: 0.8857 - val_loss: 0.5116 - val_accuracy: 0.8733\n",
      "Epoch 12/20\n",
      "11/11 [==============================] - 2s 158ms/step - loss: 0.3181 - accuracy: 0.8714 - val_loss: 0.4661 - val_accuracy: 0.8600\n",
      "Epoch 13/20\n",
      "11/11 [==============================] - 2s 158ms/step - loss: 0.3764 - accuracy: 0.8314 - val_loss: 0.4362 - val_accuracy: 0.8933\n",
      "Epoch 14/20\n",
      "11/11 [==============================] - 2s 152ms/step - loss: 0.3462 - accuracy: 0.8543 - val_loss: 0.5290 - val_accuracy: 0.8467\n",
      "Epoch 15/20\n",
      "11/11 [==============================] - 2s 155ms/step - loss: 0.3346 - accuracy: 0.8829 - val_loss: 0.4054 - val_accuracy: 0.8733\n",
      "Epoch 16/20\n",
      "11/11 [==============================] - 2s 158ms/step - loss: 0.2882 - accuracy: 0.9086 - val_loss: 0.4321 - val_accuracy: 0.8867\n",
      "Epoch 17/20\n",
      "11/11 [==============================] - 2s 152ms/step - loss: 0.2284 - accuracy: 0.9171 - val_loss: 0.3772 - val_accuracy: 0.9000\n",
      "Epoch 18/20\n",
      "11/11 [==============================] - 2s 149ms/step - loss: 0.2961 - accuracy: 0.8914 - val_loss: 0.3509 - val_accuracy: 0.9000\n",
      "Epoch 19/20\n",
      "11/11 [==============================] - 2s 150ms/step - loss: 0.2574 - accuracy: 0.9057 - val_loss: 0.4260 - val_accuracy: 0.8800\n",
      "Epoch 20/20\n",
      "11/11 [==============================] - 2s 151ms/step - loss: 0.2396 - accuracy: 0.9086 - val_loss: 0.3826 - val_accuracy: 0.8933\n"
     ]
    }
   ],
   "source": [
    "history_combined_Validation=model2.fit(X_train,y_train,epochs=20,validation_data=(X_test,y_test),verbose=1)"
   ]
  },
  {
   "cell_type": "markdown",
   "metadata": {},
   "source": [
    "### Scaled(Normalized Data)"
   ]
  },
  {
   "cell_type": "code",
   "execution_count": 59,
   "metadata": {},
   "outputs": [
    {
     "name": "stdout",
     "output_type": "stream",
     "text": [
      "Epoch 1/15\n",
      "11/11 [==============================] - 2s 158ms/step - loss: 2.9111 - accuracy: 0.3886 - val_loss: 0.7849 - val_accuracy: 0.6400\n",
      "Epoch 2/15\n",
      "11/11 [==============================] - 2s 146ms/step - loss: 1.0976 - accuracy: 0.6543 - val_loss: 0.6480 - val_accuracy: 0.9333\n",
      "Epoch 3/15\n",
      "11/11 [==============================] - 2s 148ms/step - loss: 0.5325 - accuracy: 0.8571 - val_loss: 0.4573 - val_accuracy: 0.9467\n",
      "Epoch 4/15\n",
      "11/11 [==============================] - 2s 149ms/step - loss: 0.2693 - accuracy: 0.9314 - val_loss: 0.2192 - val_accuracy: 0.9600\n",
      "Epoch 5/15\n",
      "11/11 [==============================] - 2s 149ms/step - loss: 0.2088 - accuracy: 0.9371 - val_loss: 0.2123 - val_accuracy: 0.9533\n",
      "Epoch 6/15\n",
      "11/11 [==============================] - 2s 149ms/step - loss: 0.1091 - accuracy: 0.9686 - val_loss: 0.1927 - val_accuracy: 0.9533\n",
      "Epoch 7/15\n",
      "11/11 [==============================] - 2s 147ms/step - loss: 0.1111 - accuracy: 0.9686 - val_loss: 0.1492 - val_accuracy: 0.9733\n",
      "Epoch 8/15\n",
      "11/11 [==============================] - 2s 151ms/step - loss: 0.0955 - accuracy: 0.9800 - val_loss: 0.1509 - val_accuracy: 0.9733\n",
      "Epoch 9/15\n",
      "11/11 [==============================] - 2s 152ms/step - loss: 0.0668 - accuracy: 0.9800 - val_loss: 0.1262 - val_accuracy: 0.9600\n",
      "Epoch 10/15\n",
      "11/11 [==============================] - 2s 150ms/step - loss: 0.0495 - accuracy: 0.9829 - val_loss: 0.1686 - val_accuracy: 0.9600\n",
      "Epoch 11/15\n",
      "11/11 [==============================] - 2s 155ms/step - loss: 0.0352 - accuracy: 0.9943 - val_loss: 0.1553 - val_accuracy: 0.9667\n",
      "Epoch 12/15\n",
      "11/11 [==============================] - 2s 154ms/step - loss: 0.0660 - accuracy: 0.9829 - val_loss: 0.1572 - val_accuracy: 0.9667\n",
      "Epoch 13/15\n",
      "11/11 [==============================] - 2s 155ms/step - loss: 0.0381 - accuracy: 0.9943 - val_loss: 0.1353 - val_accuracy: 0.9733\n",
      "Epoch 14/15\n",
      "11/11 [==============================] - 2s 157ms/step - loss: 0.0384 - accuracy: 0.9857 - val_loss: 0.1444 - val_accuracy: 0.9733\n",
      "Epoch 15/15\n",
      "11/11 [==============================] - 2s 153ms/step - loss: 0.0353 - accuracy: 0.9857 - val_loss: 0.1962 - val_accuracy: 0.9733\n"
     ]
    }
   ],
   "source": [
    "history_combined_Validation_scaled=model3.fit(X_train_scaled,y_train_scaled,epochs=15,validation_data=(X_test_scaled,y_test_scaled),verbose=1)"
   ]
  },
  {
   "cell_type": "markdown",
   "metadata": {},
   "source": [
    "## Plotting the learning curve"
   ]
  },
  {
   "cell_type": "code",
   "execution_count": 60,
   "metadata": {},
   "outputs": [],
   "source": [
    "import matplotlib.pyplot as plt\n",
    "def plotCurve(history,epochs):\n",
    "    epoc_range=range(1,epochs+1)\n",
    "    plt.plot(epoc_range,history.history['accuracy'])\n",
    "    plt.plot(epoc_range,history.history['val_accuracy'])\n",
    "    plt.title('Model Accuracy')\n",
    "    plt.xlabel('Epoch')\n",
    "    plt.ylabel('Accuracy')\n",
    "    plt.legend(['Train','Val'])\n",
    "    plt.show()\n",
    "\n",
    "\n",
    "    plt.plot(epoc_range,history.history['loss'])\n",
    "    plt.plot(epoc_range,history.history['val_loss'])\n",
    "    plt.title('Model loss')\n",
    "    plt.xlabel('Epoch')\n",
    "    plt.ylabel('Loss')\n",
    "    plt.legend(['Train','Val'])\n",
    "    plt.show()\n",
    "\n",
    "\n"
   ]
  },
  {
   "cell_type": "markdown",
   "metadata": {},
   "source": [
    "## Combined Subject Validation Metrics"
   ]
  },
  {
   "cell_type": "code",
   "execution_count": 62,
   "metadata": {},
   "outputs": [
    {
     "data": {
      "image/png": "[encoded data removed]",
      "text/plain": [
       "<Figure size 432x288 with 1 Axes>"
      ]
     },
     "metadata": {
      "needs_background": "light"
     },
     "output_type": "display_data"
    },
    {
     "data": {
      "image/png": "[encoded data removed]",
      "text/plain": [
       "<Figure size 432x288 with 1 Axes>"
      ]
     },
     "metadata": {
      "needs_background": "light"
     },
     "output_type": "display_data"
    }
   ],
   "source": [
    "plotCurve(history_combined_Validation,20)"
   ]
  },
  {
   "cell_type": "markdown",
   "metadata": {},
   "source": [
    "## Cross Subject Validation metrics"
   ]
  },
  {
   "cell_type": "code",
   "execution_count": 63,
   "metadata": {},
   "outputs": [
    {
     "data": {
      "image/png": "[encoded data removed]",
      "text/plain": [
       "<Figure size 432x288 with 1 Axes>"
      ]
     },
     "metadata": {
      "needs_background": "light"
     },
     "output_type": "display_data"
    },
    {
     "data": {
      "image/png": "[encoded data removed]",
      "text/plain": [
       "<Figure size 432x288 with 1 Axes>"
      ]
     },
     "metadata": {
      "needs_background": "light"
     },
     "output_type": "display_data"
    }
   ],
   "source": [
    "plotCurve(history_cross_subject_validation,15)"
   ]
  },
  {
   "cell_type": "markdown",
   "metadata": {},
   "source": [
    "## Combined Subject Validation Metrics for scaled data"
   ]
  },
  {
   "cell_type": "code",
   "execution_count": 64,
   "metadata": {},
   "outputs": [
    {
     "data": {
      "image/png": "[encoded data removed]",
      "text/plain": [
       "<Figure size 432x288 with 1 Axes>"
      ]
     },
     "metadata": {
      "needs_background": "light"
     },
     "output_type": "display_data"
    },
    {
     "data": {
      "image/png": "[encoded data removed]",
      "text/plain": [
       "<Figure size 432x288 with 1 Axes>"
      ]
     },
     "metadata": {
      "needs_background": "light"
     },
     "output_type": "display_data"
    }
   ],
   "source": [
    "plotCurve(history_combined_Validation_scaled,15)"
   ]
  },
  {
   "cell_type": "markdown",
   "metadata": {},
   "source": [
    "## Confusion Matrix"
   ]
  },
  {
   "cell_type": "code",
   "execution_count": 48,
   "metadata": {},
   "outputs": [],
   "source": [
    "from mlxtend.plotting import plot_confusion_matrix\r\n",
    "from sklearn.metrics import confusion_matrix"
   ]
  },
  {
   "cell_type": "code",
   "execution_count": 65,
   "metadata": {},
   "outputs": [
    {
     "data": {
      "text/plain": [
       "(<Figure size 504x504 with 1 Axes>,\n",
       " <AxesSubplot:xlabel='predicted label', ylabel='true label'>)"
      ]
     },
     "execution_count": 65,
     "metadata": {},
     "output_type": "execute_result"
    },
    {
     "data": {
      "image/png": "[encoded data removed]",
      "text/plain": [
       "<Figure size 504x504 with 1 Axes>"
      ]
     },
     "metadata": {
      "needs_background": "light"
     },
     "output_type": "display_data"
    }
   ],
   "source": [
    "y_pred=model2.predict_classes(X_test)\r\n",
    "cmatrix=confusion_matrix(y_test,y_pred)\r\n",
    "plot_confusion_matrix(conf_mat=cmatrix,class_names=Label.classes_, show_normed=True,figsize=(7,7))"
   ]
  },
  {
   "cell_type": "code",
   "execution_count": 66,
   "metadata": {},
   "outputs": [
    {
     "data": {
      "text/plain": [
       "(<Figure size 504x504 with 1 Axes>,\n",
       " <AxesSubplot:xlabel='predicted label', ylabel='true label'>)"
      ]
     },
     "execution_count": 66,
     "metadata": {},
     "output_type": "execute_result"
    },
    {
     "data": {
      "image/png": "[encoded data removed]",
      "text/plain": [
       "<Figure size 504x504 with 1 Axes>"
      ]
     },
     "metadata": {
      "needs_background": "light"
     },
     "output_type": "display_data"
    }
   ],
   "source": [
    "y_pred=model3.predict_classes(X_test_scaled)\r\n",
    "cmatrix=confusion_matrix(y_test_scaled,y_pred)\r\n",
    "plot_confusion_matrix(conf_mat=cmatrix,class_names=Label.classes_, show_normed=True,figsize=(7,7))"
   ]
  },
  {
   "cell_type": "markdown",
   "metadata": {},
   "source": [
    "## Stratified Cross Validation Approach"
   ]
  },
  {
   "cell_type": "code",
   "execution_count": 82,
   "metadata": {},
   "outputs": [
    {
     "name": "stdout",
     "output_type": "stream",
     "text": [
      "StratifiedKFold(n_splits=5, random_state=2, shuffle=True)\n"
     ]
    }
   ],
   "source": [
    "from sklearn.model_selection import StratifiedKFold\r\n",
    "import numpy as np\r\n",
    "skf = StratifiedKFold(n_splits=5,random_state=2,shuffle=True)\r\n",
    "skf.get_n_splits(X, y)\r\n",
    "print(skf)"
   ]
  },
  {
   "cell_type": "code",
   "execution_count": 85,
   "metadata": {},
   "outputs": [],
   "source": [
    "\r\n",
    "X.shape,y.shape\r\n",
    "X=X.reshape(500,500,12,1)"
   ]
  },
  {
   "cell_type": "code",
   "execution_count": 86,
   "metadata": {},
   "outputs": [
    {
     "name": "stdout",
     "output_type": "stream",
     "text": [
      "Iteration  1\n",
      "Epoch 1/10\n",
      "13/13 [==============================] - 2s 166ms/step - loss: 24.7434 - accuracy: 0.2150 - val_loss: 3.2016 - val_accuracy: 0.4800\n",
      "Epoch 2/10\n",
      "13/13 [==============================] - 2s 143ms/step - loss: 3.4158 - accuracy: 0.3225 - val_loss: 1.4957 - val_accuracy: 0.3900\n",
      "Epoch 3/10\n",
      "13/13 [==============================] - 2s 140ms/step - loss: 1.5679 - accuracy: 0.3475 - val_loss: 1.5347 - val_accuracy: 0.5300\n",
      "Epoch 4/10\n",
      "13/13 [==============================] - 2s 141ms/step - loss: 1.5072 - accuracy: 0.3800 - val_loss: 1.4265 - val_accuracy: 0.4100\n",
      "Epoch 5/10\n",
      "13/13 [==============================] - 2s 139ms/step - loss: 1.4616 - accuracy: 0.4050 - val_loss: 1.3310 - val_accuracy: 0.4700\n",
      "Epoch 6/10\n",
      "13/13 [==============================] - 2s 139ms/step - loss: 1.3844 - accuracy: 0.4400 - val_loss: 1.3407 - val_accuracy: 0.4600\n",
      "Epoch 7/10\n",
      "13/13 [==============================] - 2s 142ms/step - loss: 1.2299 - accuracy: 0.4475 - val_loss: 1.4694 - val_accuracy: 0.5200\n",
      "Epoch 8/10\n",
      "13/13 [==============================] - 2s 143ms/step - loss: 1.2231 - accuracy: 0.4725 - val_loss: 1.2751 - val_accuracy: 0.5800\n",
      "Epoch 9/10\n",
      "13/13 [==============================] - 2s 143ms/step - loss: 1.0822 - accuracy: 0.5650 - val_loss: 1.2822 - val_accuracy: 0.5400\n",
      "Epoch 10/10\n",
      "13/13 [==============================] - 2s 149ms/step - loss: 1.2278 - accuracy: 0.4775 - val_loss: 1.3563 - val_accuracy: 0.5400\n",
      "4/4 [==============================] - 0s 11ms/step - loss: 1.3563 - accuracy: 0.5400\n",
      "Iteration  2\n",
      "Epoch 1/10\n",
      "13/13 [==============================] - 2s 142ms/step - loss: 1.2450 - accuracy: 0.4875 - val_loss: 0.8538 - val_accuracy: 0.7600\n",
      "Epoch 2/10\n",
      "13/13 [==============================] - 2s 138ms/step - loss: 1.1868 - accuracy: 0.5400 - val_loss: 0.8168 - val_accuracy: 0.7900\n",
      "Epoch 3/10\n",
      "13/13 [==============================] - 2s 136ms/step - loss: 1.0893 - accuracy: 0.5450 - val_loss: 0.7057 - val_accuracy: 0.8300\n",
      "Epoch 4/10\n",
      "13/13 [==============================] - 2s 136ms/step - loss: 1.0390 - accuracy: 0.5650 - val_loss: 0.7472 - val_accuracy: 0.8600\n",
      "Epoch 5/10\n",
      "13/13 [==============================] - 2s 133ms/step - loss: 0.9833 - accuracy: 0.6225 - val_loss: 0.6635 - val_accuracy: 0.8800\n",
      "Epoch 6/10\n",
      "13/13 [==============================] - 2s 140ms/step - loss: 1.0345 - accuracy: 0.5625 - val_loss: 0.6472 - val_accuracy: 0.8800\n",
      "Epoch 7/10\n",
      "13/13 [==============================] - 2s 137ms/step - loss: 0.9599 - accuracy: 0.6075 - val_loss: 0.6709 - val_accuracy: 0.8100\n",
      "Epoch 8/10\n",
      "13/13 [==============================] - 2s 134ms/step - loss: 0.9848 - accuracy: 0.5625 - val_loss: 0.6486 - val_accuracy: 0.8800\n",
      "Epoch 9/10\n",
      "13/13 [==============================] - 2s 137ms/step - loss: 0.9240 - accuracy: 0.6025 - val_loss: 0.6431 - val_accuracy: 0.8900\n",
      "Epoch 10/10\n",
      "13/13 [==============================] - 2s 137ms/step - loss: 0.8032 - accuracy: 0.6550 - val_loss: 0.5074 - val_accuracy: 0.8900\n",
      "4/4 [==============================] - 0s 13ms/step - loss: 0.5074 - accuracy: 0.8900\n",
      "Iteration  3\n",
      "Epoch 1/10\n",
      "13/13 [==============================] - 2s 144ms/step - loss: 0.8948 - accuracy: 0.6150 - val_loss: 0.4899 - val_accuracy: 0.9500\n",
      "Epoch 2/10\n",
      "13/13 [==============================] - 2s 138ms/step - loss: 0.8346 - accuracy: 0.6425 - val_loss: 0.4743 - val_accuracy: 0.9600\n",
      "Epoch 3/10\n",
      "13/13 [==============================] - 2s 136ms/step - loss: 0.8178 - accuracy: 0.6675 - val_loss: 0.4810 - val_accuracy: 0.9400\n",
      "Epoch 4/10\n",
      "13/13 [==============================] - 2s 139ms/step - loss: 0.7362 - accuracy: 0.6925 - val_loss: 0.4034 - val_accuracy: 0.9600\n",
      "Epoch 5/10\n",
      "13/13 [==============================] - 2s 138ms/step - loss: 0.7896 - accuracy: 0.6575 - val_loss: 0.3818 - val_accuracy: 0.9200\n",
      "Epoch 6/10\n",
      "13/13 [==============================] - 2s 139ms/step - loss: 0.7748 - accuracy: 0.6925 - val_loss: 0.5112 - val_accuracy: 0.9200\n",
      "Epoch 7/10\n",
      "13/13 [==============================] - 2s 142ms/step - loss: 0.7337 - accuracy: 0.6825 - val_loss: 0.4755 - val_accuracy: 0.8700\n",
      "Epoch 8/10\n",
      "13/13 [==============================] - 2s 139ms/step - loss: 0.8360 - accuracy: 0.6725 - val_loss: 0.3773 - val_accuracy: 0.9400\n",
      "Epoch 9/10\n",
      "13/13 [==============================] - 2s 139ms/step - loss: 0.6514 - accuracy: 0.7275 - val_loss: 0.3598 - val_accuracy: 0.9200\n",
      "Epoch 10/10\n",
      "13/13 [==============================] - 2s 138ms/step - loss: 0.6806 - accuracy: 0.7275 - val_loss: 0.3402 - val_accuracy: 0.9200\n",
      "4/4 [==============================] - 0s 12ms/step - loss: 0.3402 - accuracy: 0.9200\n",
      "Iteration  4\n",
      "Epoch 1/10\n",
      "13/13 [==============================] - 2s 141ms/step - loss: 0.7227 - accuracy: 0.6975 - val_loss: 0.2323 - val_accuracy: 0.9900\n",
      "Epoch 2/10\n",
      "13/13 [==============================] - 2s 139ms/step - loss: 0.6407 - accuracy: 0.7400 - val_loss: 0.1755 - val_accuracy: 0.9900\n",
      "Epoch 3/10\n",
      "13/13 [==============================] - 2s 142ms/step - loss: 0.6186 - accuracy: 0.7450 - val_loss: 0.2323 - val_accuracy: 0.9600\n",
      "Epoch 4/10\n",
      "13/13 [==============================] - 2s 145ms/step - loss: 0.6241 - accuracy: 0.7575 - val_loss: 0.1690 - val_accuracy: 1.0000\n",
      "Epoch 5/10\n",
      "13/13 [==============================] - 2s 141ms/step - loss: 0.6287 - accuracy: 0.7375 - val_loss: 0.2089 - val_accuracy: 0.9800\n",
      "Epoch 6/10\n",
      "13/13 [==============================] - 2s 140ms/step - loss: 0.6037 - accuracy: 0.7525 - val_loss: 0.1894 - val_accuracy: 0.9700\n",
      "Epoch 7/10\n",
      "13/13 [==============================] - 2s 142ms/step - loss: 0.6385 - accuracy: 0.7425 - val_loss: 0.1852 - val_accuracy: 0.9700\n",
      "Epoch 8/10\n",
      "13/13 [==============================] - 2s 141ms/step - loss: 0.4918 - accuracy: 0.8100 - val_loss: 0.1528 - val_accuracy: 0.9600\n",
      "Epoch 9/10\n",
      "13/13 [==============================] - 2s 141ms/step - loss: 0.5319 - accuracy: 0.7925 - val_loss: 0.1447 - val_accuracy: 0.9800\n",
      "Epoch 10/10\n",
      "13/13 [==============================] - 2s 138ms/step - loss: 0.5025 - accuracy: 0.7825 - val_loss: 0.1659 - val_accuracy: 0.9600\n",
      "4/4 [==============================] - 0s 12ms/step - loss: 0.1659 - accuracy: 0.9600\n",
      "Iteration  5\n",
      "Epoch 1/10\n",
      "13/13 [==============================] - 2s 143ms/step - loss: 0.5046 - accuracy: 0.7775 - val_loss: 0.1378 - val_accuracy: 0.9800\n",
      "Epoch 2/10\n",
      "13/13 [==============================] - 2s 139ms/step - loss: 0.5070 - accuracy: 0.8000 - val_loss: 0.0999 - val_accuracy: 0.9900\n",
      "Epoch 3/10\n",
      "13/13 [==============================] - 2s 140ms/step - loss: 0.4753 - accuracy: 0.8200 - val_loss: 0.0955 - val_accuracy: 0.9800\n",
      "Epoch 4/10\n",
      "13/13 [==============================] - 2s 140ms/step - loss: 0.5443 - accuracy: 0.7575 - val_loss: 0.1012 - val_accuracy: 0.9900\n",
      "Epoch 5/10\n",
      "13/13 [==============================] - 2s 142ms/step - loss: 0.4722 - accuracy: 0.7900 - val_loss: 0.1086 - val_accuracy: 0.9900\n",
      "Epoch 6/10\n",
      "13/13 [==============================] - 2s 140ms/step - loss: 0.4942 - accuracy: 0.7875 - val_loss: 0.0879 - val_accuracy: 0.9800\n",
      "Epoch 7/10\n",
      "13/13 [==============================] - 2s 142ms/step - loss: 0.4319 - accuracy: 0.8225 - val_loss: 0.1252 - val_accuracy: 0.9700\n",
      "Epoch 8/10\n",
      "13/13 [==============================] - 2s 135ms/step - loss: 0.4357 - accuracy: 0.8250 - val_loss: 0.1205 - val_accuracy: 0.9700\n",
      "Epoch 9/10\n",
      "13/13 [==============================] - 2s 138ms/step - loss: 0.3742 - accuracy: 0.8450 - val_loss: 0.1150 - val_accuracy: 0.9700\n",
      "Epoch 10/10\n",
      "13/13 [==============================] - 2s 141ms/step - loss: 0.4346 - accuracy: 0.8150 - val_loss: 0.1259 - val_accuracy: 0.9700\n",
      "4/4 [==============================] - 0s 12ms/step - loss: 0.1259 - accuracy: 0.9700\n"
     ]
    }
   ],
   "source": [
    "scores=[]\r\n",
    "i=1\r\n",
    "for train_index, test_index in skf.split(X, y):\r\n",
    "    #print(\"TRAIN:\", train_index, \"TEST:\", test_index)\r\n",
    "    print(\"Iteration \",i)\r\n",
    "    X_train,X_test = X[train_index], X[test_index]\r\n",
    "    y_train, y_test = y[train_index], y[test_index]\r\n",
    "    history_stratified_n_fold=model4.fit(X_train,y_train,epochs=10,validation_data=(X_test,y_test),verbose=1)\r\n",
    "    scores.append(model4.evaluate(X_test,y_test))\r\n",
    "    i+=1"
   ]
  },
  {
   "cell_type": "code",
   "execution_count": 87,
   "metadata": {},
   "outputs": [
    {
     "data": {
      "text/plain": [
       "[<matplotlib.lines.Line2D at 0x17200a0c970>]"
      ]
     },
     "execution_count": 87,
     "metadata": {},
     "output_type": "execute_result"
    },
    {
     "data": {
      "image/png": "[encoded data removed]",
      "text/plain": [
       "<Figure size 432x288 with 1 Axes>"
      ]
     },
     "metadata": {
      "needs_background": "light"
     },
     "output_type": "display_data"
    }
   ],
   "source": [
    "scores=np.asarray(scores)\r\n",
    "plt.plot(range(0,5),scores[:,1])"
   ]
  },
  {
   "cell_type": "code",
   "execution_count": 93,
   "metadata": {},
   "outputs": [
    {
     "data": {
      "text/plain": [
       "array([[1.35632646, 0.54000002],\n",
       "       [0.50744462, 0.88999999],\n",
       "       [0.34016761, 0.92000002],\n",
       "       [0.16586331, 0.95999998],\n",
       "       [0.12594239, 0.97000003]])"
      ]
     },
     "execution_count": 93,
     "metadata": {},
     "output_type": "execute_result"
    }
   ],
   "source": [
    "scores"
   ]
  },
  {
   "cell_type": "code",
   "execution_count": 88,
   "metadata": {},
   "outputs": [
    {
     "data": {
      "text/plain": [
       "0.8560000061988831"
      ]
     },
     "execution_count": 88,
     "metadata": {},
     "output_type": "execute_result"
    }
   ],
   "source": [
    "accuracy=np.array(scores)\r\n",
    "accuracy[:,1].mean()"
   ]
  },
  {
   "cell_type": "markdown",
   "metadata": {},
   "source": [
    "### with normalized data"
   ]
  },
  {
   "cell_type": "code",
   "execution_count": 95,
   "metadata": {},
   "outputs": [
    {
     "name": "stdout",
     "output_type": "stream",
     "text": [
      "StratifiedKFold(n_splits=5, random_state=2, shuffle=True)\n",
      "Iteration  1\n",
      "Epoch 1/5\n",
      "13/13 [==============================] - 2s 146ms/step - loss: 4.1045 - accuracy: 0.3500 - val_loss: 0.7029 - val_accuracy: 0.7500\n",
      "Epoch 2/5\n",
      "13/13 [==============================] - 2s 145ms/step - loss: 0.8786 - accuracy: 0.7025 - val_loss: 0.5354 - val_accuracy: 0.9300\n",
      "Epoch 3/5\n",
      "13/13 [==============================] - 2s 143ms/step - loss: 0.5259 - accuracy: 0.8575 - val_loss: 0.3940 - val_accuracy: 0.9500\n",
      "Epoch 4/5\n",
      "13/13 [==============================] - 2s 144ms/step - loss: 0.3155 - accuracy: 0.9025 - val_loss: 0.2491 - val_accuracy: 0.9700\n",
      "Epoch 5/5\n",
      "13/13 [==============================] - 2s 144ms/step - loss: 0.2153 - accuracy: 0.9525 - val_loss: 0.2299 - val_accuracy: 0.9600\n",
      "4/4 [==============================] - 0s 12ms/step - loss: 0.2299 - accuracy: 0.9600\n",
      "Iteration  2\n",
      "Epoch 1/5\n",
      "13/13 [==============================] - 2s 146ms/step - loss: 0.2432 - accuracy: 0.9375 - val_loss: 0.0393 - val_accuracy: 1.0000\n",
      "Epoch 2/5\n",
      "13/13 [==============================] - 2s 145ms/step - loss: 0.2049 - accuracy: 0.9475 - val_loss: 0.0226 - val_accuracy: 1.0000\n",
      "Epoch 3/5\n",
      "13/13 [==============================] - 2s 145ms/step - loss: 0.1103 - accuracy: 0.9625 - val_loss: 0.0205 - val_accuracy: 1.0000\n",
      "Epoch 4/5\n",
      "13/13 [==============================] - 2s 144ms/step - loss: 0.1034 - accuracy: 0.9675 - val_loss: 0.0161 - val_accuracy: 1.0000\n",
      "Epoch 5/5\n",
      "13/13 [==============================] - 2s 141ms/step - loss: 0.0544 - accuracy: 0.9900 - val_loss: 0.0078 - val_accuracy: 1.0000\n",
      "4/4 [==============================] - 0s 11ms/step - loss: 0.0078 - accuracy: 1.0000\n",
      "Iteration  3\n",
      "Epoch 1/5\n",
      "13/13 [==============================] - 2s 143ms/step - loss: 0.0842 - accuracy: 0.9750 - val_loss: 0.0095 - val_accuracy: 1.0000\n",
      "Epoch 2/5\n",
      "13/13 [==============================] - 2s 147ms/step - loss: 0.0471 - accuracy: 0.9850 - val_loss: 0.0061 - val_accuracy: 1.0000\n",
      "Epoch 3/5\n",
      "13/13 [==============================] - 2s 142ms/step - loss: 0.0548 - accuracy: 0.9875 - val_loss: 0.0068 - val_accuracy: 1.0000\n",
      "Epoch 4/5\n",
      "13/13 [==============================] - 2s 146ms/step - loss: 0.0517 - accuracy: 0.9775 - val_loss: 0.0022 - val_accuracy: 1.0000\n",
      "Epoch 5/5\n",
      "13/13 [==============================] - 2s 171ms/step - loss: 0.0471 - accuracy: 0.9825 - val_loss: 0.0032 - val_accuracy: 1.0000\n",
      "4/4 [==============================] - 0s 15ms/step - loss: 0.0032 - accuracy: 1.0000\n",
      "Iteration  4\n",
      "Epoch 1/5\n",
      "13/13 [==============================] - 2s 174ms/step - loss: 0.0374 - accuracy: 0.9875 - val_loss: 0.0060 - val_accuracy: 1.0000\n",
      "Epoch 2/5\n",
      "13/13 [==============================] - 2s 166ms/step - loss: 0.0428 - accuracy: 0.9875 - val_loss: 6.9475e-04 - val_accuracy: 1.0000\n",
      "Epoch 3/5\n",
      "13/13 [==============================] - 2s 144ms/step - loss: 0.0293 - accuracy: 0.9900 - val_loss: 9.2086e-04 - val_accuracy: 1.0000\n",
      "Epoch 4/5\n",
      "13/13 [==============================] - 2s 140ms/step - loss: 0.0263 - accuracy: 0.9950 - val_loss: 4.6348e-04 - val_accuracy: 1.0000\n",
      "Epoch 5/5\n",
      "13/13 [==============================] - 2s 141ms/step - loss: 0.0062 - accuracy: 1.0000 - val_loss: 8.7349e-04 - val_accuracy: 1.0000\n",
      "4/4 [==============================] - 0s 9ms/step - loss: 8.7349e-04 - accuracy: 1.0000\n",
      "Iteration  5\n",
      "Epoch 1/5\n",
      "13/13 [==============================] - 2s 139ms/step - loss: 0.0531 - accuracy: 0.9825 - val_loss: 6.5293e-04 - val_accuracy: 1.0000\n",
      "Epoch 2/5\n",
      "13/13 [==============================] - 2s 141ms/step - loss: 0.0351 - accuracy: 0.9925 - val_loss: 6.3528e-04 - val_accuracy: 1.0000\n",
      "Epoch 3/5\n",
      "13/13 [==============================] - 2s 141ms/step - loss: 0.0200 - accuracy: 0.9925 - val_loss: 0.0012 - val_accuracy: 1.0000\n",
      "Epoch 4/5\n",
      "13/13 [==============================] - 2s 149ms/step - loss: 0.0407 - accuracy: 0.9825 - val_loss: 4.7949e-04 - val_accuracy: 1.0000\n",
      "Epoch 5/5\n",
      "13/13 [==============================] - 2s 147ms/step - loss: 0.0240 - accuracy: 0.9950 - val_loss: 2.8416e-04 - val_accuracy: 1.0000\n",
      "4/4 [==============================] - 0s 11ms/step - loss: 2.8416e-04 - accuracy: 1.0000\n"
     ]
    }
   ],
   "source": [
    "skf2 = StratifiedKFold(n_splits=5,random_state=2,shuffle=True)\r\n",
    "skf2.get_n_splits(X_scaled, y_scaled)\r\n",
    "print(skf)\r\n",
    "X_scaled=X_scaled.reshape(500,500,12,1)\r\n",
    "\r\n",
    "scores2=[]\r\n",
    "\r\n",
    "i=1\r\n",
    "for train_index, test_index in skf2.split(X_scaled, y_scaled):\r\n",
    "    #print(\"TRAIN:\", train_index, \"TEST:\", test_index)\r\n",
    "    print(\"Iteration \",i)\r\n",
    "    X_train,X_test = X_scaled[train_index], X_scaled[test_index]\r\n",
    "    y_train, y_test = y_scaled[train_index], y_scaled[test_index]\r\n",
    "    history_stratified_n_fold=model5.fit(X_train,y_train,epochs=5,validation_data=(X_test,y_test),verbose=1)\r\n",
    "    scores2.append(model5.evaluate(X_test,y_test))\r\n",
    "    i+=1"
   ]
  },
  {
   "cell_type": "code",
   "execution_count": 96,
   "metadata": {},
   "outputs": [
    {
     "data": {
      "text/plain": [
       "0.8560000061988831"
      ]
     },
     "execution_count": 96,
     "metadata": {},
     "output_type": "execute_result"
    },
    {
     "data": {
      "image/png": "[encoded data removed]",
      "text/plain": [
       "<Figure size 432x288 with 1 Axes>"
      ]
     },
     "metadata": {
      "needs_background": "light"
     },
     "output_type": "display_data"
    }
   ],
   "source": [
    "scores2=np.asarray(scores2)\r\n",
    "plt.plot(range(0,5),scores2[:,1])\r\n",
    "\r\n",
    "\r\n",
    "accuracy=np.array(scores)\r\n",
    "accuracy[:,1].mean()"
   ]
  },
  {
   "cell_type": "markdown",
   "metadata": {},
   "source": [
    "## Other metrics"
   ]
  },
  {
   "cell_type": "code",
   "execution_count": 98,
   "metadata": {},
   "outputs": [],
   "source": [
    "#All metric\r\n",
    "import tensorflow.keras as Keras\r\n",
    "def recall(y_true, y_pred):\r\n",
    "    \"\"\"Recall metric.\r\n",
    "    Only computes a batch-wise average of recall.\r\n",
    "    Computes the recall, a metric for multi-label classification of\r\n",
    "    how many relevant items are selected.\r\n",
    "    \"\"\"\r\n",
    "    true_positives = np.sum(np.round(np.clip(y_true * y_pred, 0, 1)))\r\n",
    "    possible_positives = np.sum(np.round(np.clip(y_true, 0, 1)))\r\n",
    "    recall = true_positives / (possible_positives + Keras.backend.epsilon())\r\n",
    "    return recall\r\n",
    "\r\n",
    "def precision_m(y_true, y_pred):\r\n",
    "    true_positives = np.sum(\r\n",
    "        np.round(np.clip(y_true * y_pred, 0, 1)))\r\n",
    "    predicted_positives = np.sum(\r\n",
    "        np.round(np.clip(y_pred, 0, 1)))\r\n",
    "    precision = true_positives / (predicted_positives + Keras.backend.epsilon())\r\n",
    "    return precision\r\n",
    "\r\n",
    "def f1_m(y_true, y_pred):\r\n",
    "    precision = precision_m(y_true, y_pred)\r\n",
    "    recall = recall_m(y_true, y_pred)\r\n",
    "    return 2 * ((precision * recall) / (precision + recall + Keras.backend.epsilon()))"
   ]
  },
  {
   "cell_type": "code",
   "execution_count": 103,
   "metadata": {},
   "outputs": [
    {
     "data": {
      "text/plain": [
       "(150,)"
      ]
     },
     "execution_count": 103,
     "metadata": {},
     "output_type": "execute_result"
    }
   ],
   "source": [
    "y_pred=model5.predict_classes(X_test_scaled)\r\n",
    "y_pred.shape"
   ]
  },
  {
   "cell_type": "code",
   "execution_count": 105,
   "metadata": {},
   "outputs": [],
   "source": [
    "y_pred=model5.predict_classes(X_test_scaled)\r\n",
    "y_pred.shape\r\n",
    "recall1= recall(y_test_scaled,y_pred)\r\n",
    "prec=precision_m(y_test_scaled,y_pred)\r\n",
    "f1_m= 2 * ((prec * recall1) / (prec + recall1 + Keras.backend.epsilon()))"
   ]
  },
  {
   "cell_type": "code",
   "execution_count": 106,
   "metadata": {},
   "outputs": [
    {
     "data": {
      "text/plain": [
       "0.9999999492187527"
      ]
     },
     "execution_count": 106,
     "metadata": {},
     "output_type": "execute_result"
    }
   ],
   "source": [
    "f1_m"
   ]
  },
  {
   "cell_type": "code",
   "execution_count": 107,
   "metadata": {},
   "outputs": [
    {
     "name": "stdout",
     "output_type": "stream",
     "text": [
      "<tensorflow.python.keras.callbacks.History object at 0x000001727E468EB0>\n"
     ]
    }
   ],
   "source": [
    "print(history_combined_Validation)"
   ]
  },
  {
   "cell_type": "markdown",
   "metadata": {},
   "source": [
    "## Summary"
   ]
  }
 ],
 "metadata": {
  "interpreter": {
   "hash": "bbf545bec65b7c7312f9fed8d96d50b0c68d8453ea387911bf33706f5e13fe3d"
  },
  "kernelspec": {
   "display_name": "Python 3.8.10 64-bit ('ai007': conda)",
   "name": "python3"
  },
  "language_info": {
   "name": "python",
   "version": ""
  }
 },
 "nbformat": 4,
 "nbformat_minor": 5
}